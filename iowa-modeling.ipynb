{
 "cells": [
  {
   "cell_type": "markdown",
   "metadata": {},
   "source": [
    "# Imports"
   ]
  },
  {
   "cell_type": "code",
   "execution_count": 67,
   "metadata": {
    "ExecuteTime": {
     "end_time": "2019-09-02T01:23:50.251147Z",
     "start_time": "2019-09-02T01:23:48.085913Z"
    }
   },
   "outputs": [
    {
     "data": {
      "text/html": [
       "        <script type=\"text/javascript\">\n",
       "        window.PlotlyConfig = {MathJaxConfig: 'local'};\n",
       "        if (window.MathJax) {MathJax.Hub.Config({SVG: {font: \"STIX-Web\"}});}\n",
       "        if (typeof require !== 'undefined') {\n",
       "        require.undef(\"plotly\");\n",
       "        requirejs.config({\n",
       "            paths: {\n",
       "                'plotly': ['https://cdn.plot.ly/plotly-latest.min']\n",
       "            }\n",
       "        });\n",
       "        require(['plotly'], function(Plotly) {\n",
       "            window._Plotly = Plotly;\n",
       "        });\n",
       "        }\n",
       "        </script>\n",
       "        "
      ]
     },
     "metadata": {},
     "output_type": "display_data"
    },
    {
     "name": "stdout",
     "output_type": "stream",
     "text": [
      "The rpy2.ipython extension is already loaded. To reload it, use:\n",
      "  %reload_ext rpy2.ipython\n"
     ]
    }
   ],
   "source": [
    "# Data manipulation\n",
    "import pandas as pd\n",
    "import numpy as np\n",
    "\n",
    "# Data conversion between R and Python\n",
    "import rpy2\n",
    "\n",
    "# Options for pandas\n",
    "pd.options.display.max_columns = 100\n",
    "pd.options.display.max_rows = 30\n",
    "pd.set_option('display.float_format', lambda x: '{:.3f}'.format(x))\n",
    "\n",
    "# Stats\n",
    "from scipy import stats\n",
    "from scipy.stats import norm, skew\n",
    "\n",
    "# Display all cell outputs\n",
    "from IPython.core.interactiveshell import InteractiveShell\n",
    "InteractiveShell.ast_node_interactivity = 'all'\n",
    "\n",
    "from IPython import get_ipython\n",
    "ipython = get_ipython()\n",
    "import expectexception\n",
    "\n",
    "# Autoreload extension\n",
    "if 'autoreload' not in ipython.extension_manager.loaded:\n",
    "    %load_ext autoreload\n",
    "\n",
    "%autoreload 2\n",
    "\n",
    "# Visualizations\n",
    "import chart_studio.plotly as py\n",
    "import plotly.graph_objs as go\n",
    "from plotly.offline import iplot, init_notebook_mode\n",
    "init_notebook_mode(connected=True)\n",
    "\n",
    "import matplotlib.pyplot as plt\n",
    "%matplotlib inline\n",
    "plt.style.use('ggplot')\n",
    "\n",
    "import seaborn as sns\n",
    "\n",
    "# Load ipywidgets module\n",
    "import ipywidgets as widgets\n",
    "from ipywidgets import interact, interact_manual\n",
    "\n",
    "# Activate the automatic conversion for pandas\n",
    "from rpy2.robjects import pandas2ri\n",
    "pandas2ri.activate()\n",
    "\n",
    "# Load the needed extension for the %%R cell magic\n",
    "%load_ext rpy2.ipython\n",
    "import rpy2.robjects as robjects\n",
    "\n",
    "# Bayesian Optimization\n",
    "import GPy\n",
    "import GPyOpt\n",
    "from GPyOpt.methods import BayesianOptimization\n",
    "from skopt import BayesSearchCV\n",
    "\n",
    "# Suppress Sklearn warnings\n",
    "import warnings\n",
    "warnings.simplefilter('ignore')\n",
    "\n",
    "# Sklearn\n",
    "from sklearn.preprocessing import StandardScaler, LabelEncoder\n",
    "from sklearn.linear_model import ElasticNet, Lasso\n",
    "from sklearn.kernel_ridge import KernelRidge\n",
    "from sklearn.ensemble import RandomForestRegressor, GradientBoostingRegressor\n",
    "from sklearn.model_selection import cross_val_score, train_test_split, RandomizedSearchCV, GridSearchCV\n",
    "from sklearn.metrics import mean_squared_error\n",
    "\n",
    "# Additional ML libraries\n",
    "import xgboost as xgb\n",
    "import catboost as cb\n",
    "from mlxtend.regressor import StackingRegressor"
   ]
  },
  {
   "cell_type": "code",
   "execution_count": 68,
   "metadata": {
    "ExecuteTime": {
     "end_time": "2019-09-02T01:23:53.430335Z",
     "start_time": "2019-09-02T01:23:52.500923Z"
    }
   },
   "outputs": [],
   "source": [
    "%%R\n",
    "\n",
    "# load the r library\n",
    "library(ggplot2)\n",
    "library(ggalt)\n",
    "theme_set(theme_light())\n",
    "\n",
    "library(scales)\n",
    "library(dplyr)"
   ]
  },
  {
   "cell_type": "markdown",
   "metadata": {},
   "source": [
    "# Data Cleaning"
   ]
  },
  {
   "cell_type": "code",
   "execution_count": 69,
   "metadata": {
    "ExecuteTime": {
     "end_time": "2019-09-02T01:23:55.925981Z",
     "start_time": "2019-09-02T01:23:55.340722Z"
    }
   },
   "outputs": [],
   "source": [
    "# import datasets\n",
    "train_raw = pd.read_csv('./data/train.csv')\n",
    "test_raw = pd.read_csv('./data/test.csv')\n",
    "\n",
    "# Save test_ID as a series \n",
    "test_ID = test_raw.Id\n",
    "\n",
    "# drop ID columns\n",
    "train_raw.drop('Id', axis=1, inplace=True)\n",
    "test_raw.drop('Id', axis=1, inplace=True)"
   ]
  },
  {
   "cell_type": "code",
   "execution_count": 70,
   "metadata": {
    "ExecuteTime": {
     "end_time": "2019-09-02T01:23:56.550565Z",
     "start_time": "2019-09-02T01:23:56.492032Z"
    }
   },
   "outputs": [
    {
     "data": {
      "text/plain": [
       "Index(['MSSubClass', 'MSZoning', 'LotFrontage', 'LotArea', 'Street', 'Alley',\n",
       "       'LotShape', 'LandContour', 'Utilities', 'LotConfig', 'LandSlope',\n",
       "       'Neighborhood', 'Condition1', 'Condition2', 'BldgType', 'HouseStyle',\n",
       "       'OverallQual', 'OverallCond', 'YearBuilt', 'YearRemodAdd', 'RoofStyle',\n",
       "       'RoofMatl', 'Exterior1st', 'Exterior2nd', 'MasVnrType', 'MasVnrArea',\n",
       "       'ExterQual', 'ExterCond', 'Foundation', 'BsmtQual', 'BsmtCond',\n",
       "       'BsmtExposure', 'BsmtFinType1', 'BsmtFinSF1', 'BsmtFinType2',\n",
       "       'BsmtFinSF2', 'BsmtUnfSF', 'TotalBsmtSF', 'Heating', 'HeatingQC',\n",
       "       'CentralAir', 'Electrical', '1stFlrSF', '2ndFlrSF', 'LowQualFinSF',\n",
       "       'GrLivArea', 'BsmtFullBath', 'BsmtHalfBath', 'FullBath', 'HalfBath',\n",
       "       'BedroomAbvGr', 'KitchenAbvGr', 'KitchenQual', 'TotRmsAbvGrd',\n",
       "       'Functional', 'Fireplaces', 'FireplaceQu', 'GarageType', 'GarageYrBlt',\n",
       "       'GarageFinish', 'GarageCars', 'GarageArea', 'GarageQual', 'GarageCond',\n",
       "       'PavedDrive', 'WoodDeckSF', 'OpenPorchSF', 'EnclosedPorch', '3SsnPorch',\n",
       "       'ScreenPorch', 'PoolArea', 'PoolQC', 'Fence', 'MiscFeature', 'MiscVal',\n",
       "       'MoSold', 'YrSold', 'SaleType', 'SaleCondition', 'SalePrice'],\n",
       "      dtype='object')"
      ]
     },
     "execution_count": 70,
     "metadata": {},
     "output_type": "execute_result"
    }
   ],
   "source": [
    "train_raw.columns"
   ]
  },
  {
   "cell_type": "markdown",
   "metadata": {
    "ExecuteTime": {
     "end_time": "2019-07-20T00:01:39.828766Z",
     "start_time": "2019-07-20T00:01:39.687195Z"
    }
   },
   "source": [
    "## Outliers"
   ]
  },
  {
   "cell_type": "code",
   "execution_count": 71,
   "metadata": {
    "ExecuteTime": {
     "end_time": "2019-09-02T01:24:00.629018Z",
     "start_time": "2019-09-02T01:24:00.572610Z"
    }
   },
   "outputs": [],
   "source": [
    "AreaVSPrice = train_raw[['GrLivArea', 'SalePrice']]"
   ]
  },
  {
   "cell_type": "code",
   "execution_count": 72,
   "metadata": {
    "ExecuteTime": {
     "end_time": "2019-09-02T01:24:04.672955Z",
     "start_time": "2019-09-02T01:24:01.108519Z"
    },
    "scrolled": false
   },
   "outputs": [
    {
     "data": {
      "image/png": "[encoded data removed]"
     },
     "metadata": {},
     "output_type": "display_data"
    },
    {
     "data": {
      "image/png": "[encoded data removed]"
     },
     "metadata": {},
     "output_type": "display_data"
    },
    {
     "data": {
      "image/png": "[encoded data removed]"
     },
     "metadata": {},
     "output_type": "display_data"
    }
   ],
   "source": [
    "%%R -i AreaVSPrice\n",
    "\n",
    "# Check residual plots and look for potential outliers\n",
    "linear_model = lm(SalePrice~GrLivArea, data=AreaVSPrice)\n",
    "plot(linear_model, c(1, 4))\n",
    "\n",
    "# Note that the dataframe index starts from 0 instead of 1\n",
    "outliers = AreaVSPrice %>% slice(c(524, 1299))\n",
    "\n",
    "ggplot(AreaVSPrice, aes(x=GrLivArea, y=SalePrice)) +\n",
    "    geom_point(col='red') +\n",
    "    geom_encircle(aes(x=GrLivArea, y=SalePrice), \n",
    "                  data=outliers,\n",
    "                  col='purple',\n",
    "                  size=2,\n",
    "                  expand=0.02) +\n",
    "    geom_text(x=4700, y=280000, label='Outliers', col='purple', size=6) +\n",
    "    geom_smooth(method='lm', aes(group=1), se=F) +\n",
    "    scale_y_continuous(breaks=seq(0, 800000, by=100000), labels=comma) +\n",
    "    labs(title='Distribution of House Sale Price and Above Ground Living Area',\n",
    "         x='Total Living Area',\n",
    "         y='Sales Price')"
   ]
  },
  {
   "cell_type": "code",
   "execution_count": 73,
   "metadata": {
    "ExecuteTime": {
     "end_time": "2019-09-02T01:24:04.723876Z",
     "start_time": "2019-09-02T01:24:04.678186Z"
    }
   },
   "outputs": [],
   "source": [
    "# Drop the outliers\n",
    "train_raw.drop(train_raw[train_raw.GrLivArea > 4500].index, inplace=True)"
   ]
  },
  {
   "cell_type": "code",
   "execution_count": 74,
   "metadata": {
    "ExecuteTime": {
     "end_time": "2019-09-02T01:24:25.113884Z",
     "start_time": "2019-09-02T01:24:25.020660Z"
    }
   },
   "outputs": [],
   "source": [
    "# concat the data\n",
    "all_raw = pd.concat([train_raw, test_raw], ignore_index=True, sort=False)"
   ]
  },
  {
   "cell_type": "code",
   "execution_count": 16,
   "metadata": {
    "ExecuteTime": {
     "end_time": "2019-08-30T18:42:21.955685Z",
     "start_time": "2019-08-30T18:42:21.920718Z"
    }
   },
   "outputs": [],
   "source": [
    "AreaVSPrice_droppedOL = train_raw[['GrLivArea', 'SalePrice']]"
   ]
  },
  {
   "cell_type": "code",
   "execution_count": 17,
   "metadata": {
    "ExecuteTime": {
     "end_time": "2019-08-30T18:42:26.961191Z",
     "start_time": "2019-08-30T18:42:26.607850Z"
    }
   },
   "outputs": [
    {
     "data": {
      "image/png": "[encoded data removed]"
     },
     "metadata": {},
     "output_type": "display_data"
    }
   ],
   "source": [
    "%%R -i AreaVSPrice_droppedOL\n",
    "\n",
    "ggplot(AreaVSPrice_droppedOL, aes(x=GrLivArea, y=SalePrice)) +\n",
    "    geom_point(col='red') +\n",
    "    geom_smooth(method='lm', aes(group=1), se=F) +\n",
    "    scale_y_continuous(breaks=seq(0, 800000, by=100000), labels=comma) +\n",
    "    labs(title='Distribution of House Sale Price and Above Ground Living Area',\n",
    "         subtitle='After Outliers Removal',\n",
    "         x='Total Living Area',\n",
    "         y='Sales Price')"
   ]
  },
  {
   "cell_type": "markdown",
   "metadata": {},
   "source": [
    "## Missing Data"
   ]
  },
  {
   "cell_type": "code",
   "execution_count": 75,
   "metadata": {
    "ExecuteTime": {
     "end_time": "2019-09-02T19:16:23.338284Z",
     "start_time": "2019-09-02T19:16:22.352069Z"
    }
   },
   "outputs": [
    {
     "data": {
      "text/plain": [
       "Index(['MSZoning', 'LotFrontage', 'Alley', 'Utilities', 'Exterior1st',\n",
       "       'Exterior2nd', 'MasVnrType', 'MasVnrArea', 'BsmtQual', 'BsmtCond',\n",
       "       'BsmtExposure', 'BsmtFinType1', 'BsmtFinSF1', 'BsmtFinType2',\n",
       "       'BsmtFinSF2', 'BsmtUnfSF', 'TotalBsmtSF', 'Electrical', 'BsmtFullBath',\n",
       "       'BsmtHalfBath', 'KitchenQual', 'Functional', 'FireplaceQu',\n",
       "       'GarageType', 'GarageYrBlt', 'GarageFinish', 'GarageCars', 'GarageArea',\n",
       "       'GarageQual', 'GarageCond', 'PoolQC', 'Fence', 'MiscFeature',\n",
       "       'SaleType', 'SalePrice'],\n",
       "      dtype='object')"
      ]
     },
     "execution_count": 75,
     "metadata": {},
     "output_type": "execute_result"
    },
    {
     "name": "stdout",
     "output_type": "stream",
     "text": [
      "There are 35 columns with missing data\n"
     ]
    }
   ],
   "source": [
    "# Columns with nan\n",
    "all_raw.loc[:, all_raw.isnull().any()].columns\n",
    "missing_features = len(all_raw.loc[:, all_raw.isnull().any()].columns)\n",
    "print ('There are {} columns with missing data'.format(missing_features))"
   ]
  },
  {
   "cell_type": "code",
   "execution_count": 76,
   "metadata": {
    "ExecuteTime": {
     "end_time": "2019-09-02T19:16:24.381019Z",
     "start_time": "2019-09-02T19:16:24.335580Z"
    }
   },
   "outputs": [],
   "source": [
    "def exam_raw(df, nullcol, columns):\n",
    "    '''\n",
    "    Extract rows within a dataframe for null values within target columns\n",
    "    df: input dataframe\n",
    "    nullcol: the columns containing the null values\n",
    "    columns: columns to be shown (as a list of strings)\n",
    "    '''\n",
    "    return df.loc[df[nullcol].isnull(), columns]"
   ]
  },
  {
   "cell_type": "markdown",
   "metadata": {},
   "source": [
    "### Individual rows to impute"
   ]
  },
  {
   "cell_type": "markdown",
   "metadata": {},
   "source": [
    "#### Masonry Variables"
   ]
  },
  {
   "cell_type": "code",
   "execution_count": 77,
   "metadata": {
    "ExecuteTime": {
     "end_time": "2019-09-02T19:16:26.753097Z",
     "start_time": "2019-09-02T19:16:26.651790Z"
    }
   },
   "outputs": [
    {
     "data": {
      "text/html": [
       "<div>\n",
       "<style scoped>\n",
       "    .dataframe tbody tr th:only-of-type {\n",
       "        vertical-align: middle;\n",
       "    }\n",
       "\n",
       "    .dataframe tbody tr th {\n",
       "        vertical-align: top;\n",
       "    }\n",
       "\n",
       "    .dataframe thead th {\n",
       "        text-align: right;\n",
       "    }\n",
       "</style>\n",
       "<table border=\"1\" class=\"dataframe\">\n",
       "  <thead>\n",
       "    <tr style=\"text-align: right;\">\n",
       "      <th></th>\n",
       "      <th>MasVnrType</th>\n",
       "      <th>MasVnrArea</th>\n",
       "    </tr>\n",
       "  </thead>\n",
       "  <tbody>\n",
       "    <tr>\n",
       "      <th>234</th>\n",
       "      <td>NaN</td>\n",
       "      <td>nan</td>\n",
       "    </tr>\n",
       "    <tr>\n",
       "      <th>528</th>\n",
       "      <td>NaN</td>\n",
       "      <td>nan</td>\n",
       "    </tr>\n",
       "    <tr>\n",
       "      <th>649</th>\n",
       "      <td>NaN</td>\n",
       "      <td>nan</td>\n",
       "    </tr>\n",
       "    <tr>\n",
       "      <th>935</th>\n",
       "      <td>NaN</td>\n",
       "      <td>nan</td>\n",
       "    </tr>\n",
       "    <tr>\n",
       "      <th>972</th>\n",
       "      <td>NaN</td>\n",
       "      <td>nan</td>\n",
       "    </tr>\n",
       "    <tr>\n",
       "      <th>976</th>\n",
       "      <td>NaN</td>\n",
       "      <td>nan</td>\n",
       "    </tr>\n",
       "    <tr>\n",
       "      <th>1242</th>\n",
       "      <td>NaN</td>\n",
       "      <td>nan</td>\n",
       "    </tr>\n",
       "    <tr>\n",
       "      <th>1277</th>\n",
       "      <td>NaN</td>\n",
       "      <td>nan</td>\n",
       "    </tr>\n",
       "    <tr>\n",
       "      <th>1689</th>\n",
       "      <td>NaN</td>\n",
       "      <td>nan</td>\n",
       "    </tr>\n",
       "    <tr>\n",
       "      <th>1704</th>\n",
       "      <td>NaN</td>\n",
       "      <td>nan</td>\n",
       "    </tr>\n",
       "    <tr>\n",
       "      <th>1880</th>\n",
       "      <td>NaN</td>\n",
       "      <td>nan</td>\n",
       "    </tr>\n",
       "    <tr>\n",
       "      <th>1990</th>\n",
       "      <td>NaN</td>\n",
       "      <td>nan</td>\n",
       "    </tr>\n",
       "    <tr>\n",
       "      <th>2002</th>\n",
       "      <td>NaN</td>\n",
       "      <td>nan</td>\n",
       "    </tr>\n",
       "    <tr>\n",
       "      <th>2039</th>\n",
       "      <td>NaN</td>\n",
       "      <td>nan</td>\n",
       "    </tr>\n",
       "    <tr>\n",
       "      <th>2309</th>\n",
       "      <td>NaN</td>\n",
       "      <td>nan</td>\n",
       "    </tr>\n",
       "    <tr>\n",
       "      <th>2323</th>\n",
       "      <td>NaN</td>\n",
       "      <td>nan</td>\n",
       "    </tr>\n",
       "    <tr>\n",
       "      <th>2338</th>\n",
       "      <td>NaN</td>\n",
       "      <td>nan</td>\n",
       "    </tr>\n",
       "    <tr>\n",
       "      <th>2347</th>\n",
       "      <td>NaN</td>\n",
       "      <td>nan</td>\n",
       "    </tr>\n",
       "    <tr>\n",
       "      <th>2366</th>\n",
       "      <td>NaN</td>\n",
       "      <td>nan</td>\n",
       "    </tr>\n",
       "    <tr>\n",
       "      <th>2590</th>\n",
       "      <td>NaN</td>\n",
       "      <td>nan</td>\n",
       "    </tr>\n",
       "    <tr>\n",
       "      <th>2608</th>\n",
       "      <td>NaN</td>\n",
       "      <td>198.000</td>\n",
       "    </tr>\n",
       "    <tr>\n",
       "      <th>2655</th>\n",
       "      <td>NaN</td>\n",
       "      <td>nan</td>\n",
       "    </tr>\n",
       "    <tr>\n",
       "      <th>2684</th>\n",
       "      <td>NaN</td>\n",
       "      <td>nan</td>\n",
       "    </tr>\n",
       "    <tr>\n",
       "      <th>2860</th>\n",
       "      <td>NaN</td>\n",
       "      <td>nan</td>\n",
       "    </tr>\n",
       "  </tbody>\n",
       "</table>\n",
       "</div>"
      ],
      "text/plain": [
       "     MasVnrType  MasVnrArea\n",
       "234         NaN         nan\n",
       "528         NaN         nan\n",
       "649         NaN         nan\n",
       "935         NaN         nan\n",
       "972         NaN         nan\n",
       "976         NaN         nan\n",
       "1242        NaN         nan\n",
       "1277        NaN         nan\n",
       "1689        NaN         nan\n",
       "1704        NaN         nan\n",
       "1880        NaN         nan\n",
       "1990        NaN         nan\n",
       "2002        NaN         nan\n",
       "2039        NaN         nan\n",
       "2309        NaN         nan\n",
       "2323        NaN         nan\n",
       "2338        NaN         nan\n",
       "2347        NaN         nan\n",
       "2366        NaN         nan\n",
       "2590        NaN         nan\n",
       "2608        NaN     198.000\n",
       "2655        NaN         nan\n",
       "2684        NaN         nan\n",
       "2860        NaN         nan"
      ]
     },
     "execution_count": 77,
     "metadata": {},
     "output_type": "execute_result"
    }
   ],
   "source": [
    "exam_raw(all_raw, 'MasVnrType', ['MasVnrType', 'MasVnrArea'])"
   ]
  },
  {
   "cell_type": "code",
   "execution_count": 78,
   "metadata": {
    "ExecuteTime": {
     "end_time": "2019-09-02T19:16:29.314346Z",
     "start_time": "2019-09-02T19:16:29.249232Z"
    }
   },
   "outputs": [],
   "source": [
    "# impute by mode other than 'None' because of existing area\n",
    "all_raw.loc[2608, 'MasVnrType'] = all_raw.MasVnrType.value_counts().index[1]"
   ]
  },
  {
   "cell_type": "code",
   "execution_count": 79,
   "metadata": {
    "ExecuteTime": {
     "end_time": "2019-09-02T19:16:29.757915Z",
     "start_time": "2019-09-02T19:16:29.700228Z"
    }
   },
   "outputs": [
    {
     "data": {
      "text/plain": [
       "'BrkFace'"
      ]
     },
     "execution_count": 79,
     "metadata": {},
     "output_type": "execute_result"
    }
   ],
   "source": [
    "all_raw.loc[2608, 'MasVnrType']"
   ]
  },
  {
   "cell_type": "markdown",
   "metadata": {},
   "source": [
    "#### Basement Variables"
   ]
  },
  {
   "cell_type": "code",
   "execution_count": 80,
   "metadata": {
    "ExecuteTime": {
     "end_time": "2019-09-02T19:16:32.450457Z",
     "start_time": "2019-09-02T19:16:32.316539Z"
    }
   },
   "outputs": [
    {
     "data": {
      "text/plain": [
       "BsmtExposure    82\n",
       "BsmtCond        82\n",
       "BsmtQual        81\n",
       "BsmtFinType2    80\n",
       "BsmtFinType1    79\n",
       "BsmtHalfBath     2\n",
       "BsmtFullBath     2\n",
       "TotalBsmtSF      1\n",
       "BsmtUnfSF        1\n",
       "BsmtFinSF2       1\n",
       "BsmtFinSF1       1\n",
       "dtype: int64"
      ]
     },
     "execution_count": 80,
     "metadata": {},
     "output_type": "execute_result"
    }
   ],
   "source": [
    "nullcount = all_raw.isnull().sum()\n",
    "\n",
    "# Null counts for basement related variables\n",
    "Bsmt_null = nullcount.loc[nullcount.index.str.contains('Bsmt')].sort_values(ascending=False)\n",
    "Bsmt_null\n",
    "\n",
    "# Slice basement related variables with greater proportion of nulls\n",
    "Bsmt_with_large_NAN = Bsmt_null.loc[Bsmt_null > 50].index"
   ]
  },
  {
   "cell_type": "code",
   "execution_count": 81,
   "metadata": {
    "ExecuteTime": {
     "end_time": "2019-09-02T19:16:59.825725Z",
     "start_time": "2019-09-02T19:16:59.765310Z"
    }
   },
   "outputs": [
    {
     "data": {
      "text/plain": [
       "BsmtExposure   0.000\n",
       "BsmtCond       0.000\n",
       "BsmtQual       0.000\n",
       "BsmtFinType2   0.000\n",
       "BsmtFinType1   0.000\n",
       "dtype: float64"
      ]
     },
     "execution_count": 81,
     "metadata": {},
     "output_type": "execute_result"
    }
   ],
   "source": [
    "# Confirm that all missing observations in 'BsmtFinType1' also corresponds to other variables\n",
    "all_raw.loc[all_raw.BsmtFinType1.isnull(), Bsmt_with_large_NAN].sum()"
   ]
  },
  {
   "cell_type": "code",
   "execution_count": 82,
   "metadata": {
    "ExecuteTime": {
     "end_time": "2019-09-02T19:17:01.391466Z",
     "start_time": "2019-09-02T19:17:01.300016Z"
    }
   },
   "outputs": [
    {
     "data": {
      "text/html": [
       "<div>\n",
       "<style scoped>\n",
       "    .dataframe tbody tr th:only-of-type {\n",
       "        vertical-align: middle;\n",
       "    }\n",
       "\n",
       "    .dataframe tbody tr th {\n",
       "        vertical-align: top;\n",
       "    }\n",
       "\n",
       "    .dataframe thead th {\n",
       "        text-align: right;\n",
       "    }\n",
       "</style>\n",
       "<table border=\"1\" class=\"dataframe\">\n",
       "  <thead>\n",
       "    <tr style=\"text-align: right;\">\n",
       "      <th></th>\n",
       "      <th>BsmtExposure</th>\n",
       "      <th>BsmtCond</th>\n",
       "      <th>BsmtQual</th>\n",
       "      <th>BsmtFinType2</th>\n",
       "      <th>BsmtFinType1</th>\n",
       "    </tr>\n",
       "  </thead>\n",
       "  <tbody>\n",
       "    <tr>\n",
       "      <th>332</th>\n",
       "      <td>No</td>\n",
       "      <td>TA</td>\n",
       "      <td>Gd</td>\n",
       "      <td>NaN</td>\n",
       "      <td>GLQ</td>\n",
       "    </tr>\n",
       "    <tr>\n",
       "      <th>947</th>\n",
       "      <td>NaN</td>\n",
       "      <td>TA</td>\n",
       "      <td>Gd</td>\n",
       "      <td>Unf</td>\n",
       "      <td>Unf</td>\n",
       "    </tr>\n",
       "    <tr>\n",
       "      <th>1485</th>\n",
       "      <td>NaN</td>\n",
       "      <td>TA</td>\n",
       "      <td>Gd</td>\n",
       "      <td>Unf</td>\n",
       "      <td>Unf</td>\n",
       "    </tr>\n",
       "    <tr>\n",
       "      <th>2038</th>\n",
       "      <td>Mn</td>\n",
       "      <td>NaN</td>\n",
       "      <td>Gd</td>\n",
       "      <td>Rec</td>\n",
       "      <td>GLQ</td>\n",
       "    </tr>\n",
       "    <tr>\n",
       "      <th>2183</th>\n",
       "      <td>No</td>\n",
       "      <td>NaN</td>\n",
       "      <td>TA</td>\n",
       "      <td>Unf</td>\n",
       "      <td>BLQ</td>\n",
       "    </tr>\n",
       "    <tr>\n",
       "      <th>2215</th>\n",
       "      <td>No</td>\n",
       "      <td>Fa</td>\n",
       "      <td>NaN</td>\n",
       "      <td>Unf</td>\n",
       "      <td>Unf</td>\n",
       "    </tr>\n",
       "    <tr>\n",
       "      <th>2216</th>\n",
       "      <td>No</td>\n",
       "      <td>TA</td>\n",
       "      <td>NaN</td>\n",
       "      <td>Unf</td>\n",
       "      <td>Unf</td>\n",
       "    </tr>\n",
       "    <tr>\n",
       "      <th>2346</th>\n",
       "      <td>NaN</td>\n",
       "      <td>TA</td>\n",
       "      <td>Gd</td>\n",
       "      <td>Unf</td>\n",
       "      <td>Unf</td>\n",
       "    </tr>\n",
       "    <tr>\n",
       "      <th>2522</th>\n",
       "      <td>Av</td>\n",
       "      <td>NaN</td>\n",
       "      <td>TA</td>\n",
       "      <td>Unf</td>\n",
       "      <td>ALQ</td>\n",
       "    </tr>\n",
       "  </tbody>\n",
       "</table>\n",
       "</div>"
      ],
      "text/plain": [
       "     BsmtExposure BsmtCond BsmtQual BsmtFinType2 BsmtFinType1\n",
       "332            No       TA       Gd          NaN          GLQ\n",
       "947           NaN       TA       Gd          Unf          Unf\n",
       "1485          NaN       TA       Gd          Unf          Unf\n",
       "2038           Mn      NaN       Gd          Rec          GLQ\n",
       "2183           No      NaN       TA          Unf          BLQ\n",
       "2215           No       Fa      NaN          Unf          Unf\n",
       "2216           No       TA      NaN          Unf          Unf\n",
       "2346          NaN       TA       Gd          Unf          Unf\n",
       "2522           Av      NaN       TA          Unf          ALQ"
      ]
     },
     "execution_count": 82,
     "metadata": {},
     "output_type": "execute_result"
    }
   ],
   "source": [
    "# Select observations where 'BsmtFinType1' are complete but missing at other columns\n",
    "all_raw.loc[all_raw.BsmtFinType1.notnull() & (all_raw.BsmtQual.isnull() | \n",
    "                                              all_raw.BsmtCond.isnull() | \n",
    "                                              all_raw.BsmtExposure.isnull() | \n",
    "                                              all_raw.BsmtFinType2.isnull()), \n",
    "            Bsmt_with_large_NAN]"
   ]
  },
  {
   "cell_type": "code",
   "execution_count": 83,
   "metadata": {
    "ExecuteTime": {
     "end_time": "2019-09-02T19:17:02.528634Z",
     "start_time": "2019-09-02T19:17:02.482012Z"
    }
   },
   "outputs": [],
   "source": [
    "def ModeImputer(df, indices, column):\n",
    "    \"\"\"\n",
    "    Impute specific rows with column modes.\n",
    "    df: input dataframe\n",
    "    indices: indices of row (as a list of integers)\n",
    "    column: column to be imputed\n",
    "    \"\"\"\n",
    "    df.loc[indices, column] = df[column].mode()[0]"
   ]
  },
  {
   "cell_type": "code",
   "execution_count": 84,
   "metadata": {
    "ExecuteTime": {
     "end_time": "2019-09-02T19:17:04.227802Z",
     "start_time": "2019-09-02T19:17:04.156951Z"
    }
   },
   "outputs": [],
   "source": [
    "ModeImputer(all_raw, [947, 1485, 2346], 'BsmtExposure')\n",
    "ModeImputer(all_raw, [2038, 2183, 2522], 'BsmtCond')\n",
    "ModeImputer(all_raw, [2215, 2216], 'BsmtQual')\n",
    "ModeImputer(all_raw, [332], 'BsmtFinType2')"
   ]
  },
  {
   "cell_type": "markdown",
   "metadata": {},
   "source": [
    "#### Garage Variables"
   ]
  },
  {
   "cell_type": "code",
   "execution_count": 85,
   "metadata": {
    "ExecuteTime": {
     "end_time": "2019-09-02T19:17:08.179013Z",
     "start_time": "2019-09-02T19:17:08.133305Z"
    }
   },
   "outputs": [
    {
     "data": {
      "text/plain": [
       "GarageCond      159\n",
       "GarageQual      159\n",
       "GarageFinish    159\n",
       "GarageYrBlt     159\n",
       "GarageType      157\n",
       "GarageArea        1\n",
       "GarageCars        1\n",
       "dtype: int64"
      ]
     },
     "execution_count": 85,
     "metadata": {},
     "output_type": "execute_result"
    }
   ],
   "source": [
    "# Null counts for garage related variables\n",
    "Garage_null = nullcount.loc[nullcount.index.str.contains('Garage')].sort_values(ascending=False)\n",
    "Garage_null\n",
    "\n",
    "# Slice basement related variables with greater proportion of nulls\n",
    "Garage_var = Garage_null.index\n",
    "Garage_with_large_NAN = Garage_null.loc[Garage_null > 100].index"
   ]
  },
  {
   "cell_type": "code",
   "execution_count": 86,
   "metadata": {
    "ExecuteTime": {
     "end_time": "2019-09-02T19:17:09.498839Z",
     "start_time": "2019-09-02T19:17:09.412702Z"
    }
   },
   "outputs": [
    {
     "data": {
      "text/plain": [
       "GarageCond     0.000\n",
       "GarageQual     0.000\n",
       "GarageFinish   0.000\n",
       "GarageYrBlt    0.000\n",
       "GarageType     0.000\n",
       "dtype: float64"
      ]
     },
     "execution_count": 86,
     "metadata": {},
     "output_type": "execute_result"
    }
   ],
   "source": [
    "# Confirm that all missing observations in 'GarageType' also corresponds to other variables\n",
    "all_raw.loc[all_raw.GarageType.isnull(), Garage_with_large_NAN].sum()"
   ]
  },
  {
   "cell_type": "code",
   "execution_count": 87,
   "metadata": {
    "ExecuteTime": {
     "end_time": "2019-09-02T19:17:10.761268Z",
     "start_time": "2019-09-02T19:17:10.707022Z"
    }
   },
   "outputs": [
    {
     "data": {
      "text/html": [
       "<div>\n",
       "<style scoped>\n",
       "    .dataframe tbody tr th:only-of-type {\n",
       "        vertical-align: middle;\n",
       "    }\n",
       "\n",
       "    .dataframe tbody tr th {\n",
       "        vertical-align: top;\n",
       "    }\n",
       "\n",
       "    .dataframe thead th {\n",
       "        text-align: right;\n",
       "    }\n",
       "</style>\n",
       "<table border=\"1\" class=\"dataframe\">\n",
       "  <thead>\n",
       "    <tr style=\"text-align: right;\">\n",
       "      <th></th>\n",
       "      <th>GarageCond</th>\n",
       "      <th>GarageQual</th>\n",
       "      <th>GarageFinish</th>\n",
       "      <th>GarageYrBlt</th>\n",
       "      <th>GarageType</th>\n",
       "      <th>GarageArea</th>\n",
       "      <th>GarageCars</th>\n",
       "    </tr>\n",
       "  </thead>\n",
       "  <tbody>\n",
       "    <tr>\n",
       "      <th>2124</th>\n",
       "      <td>NaN</td>\n",
       "      <td>NaN</td>\n",
       "      <td>NaN</td>\n",
       "      <td>nan</td>\n",
       "      <td>Detchd</td>\n",
       "      <td>360.000</td>\n",
       "      <td>1.000</td>\n",
       "    </tr>\n",
       "    <tr>\n",
       "      <th>2574</th>\n",
       "      <td>NaN</td>\n",
       "      <td>NaN</td>\n",
       "      <td>NaN</td>\n",
       "      <td>nan</td>\n",
       "      <td>Detchd</td>\n",
       "      <td>nan</td>\n",
       "      <td>nan</td>\n",
       "    </tr>\n",
       "  </tbody>\n",
       "</table>\n",
       "</div>"
      ],
      "text/plain": [
       "     GarageCond GarageQual GarageFinish  GarageYrBlt GarageType  GarageArea  \\\n",
       "2124        NaN        NaN          NaN          nan     Detchd     360.000   \n",
       "2574        NaN        NaN          NaN          nan     Detchd         nan   \n",
       "\n",
       "      GarageCars  \n",
       "2124       1.000  \n",
       "2574         nan  "
      ]
     },
     "execution_count": 87,
     "metadata": {},
     "output_type": "execute_result"
    }
   ],
   "source": [
    "# Select observations where 'GarageType' are complete but missing at other columns\n",
    "all_raw.loc[all_raw.GarageType.notnull() & (all_raw.GarageCond.isnull() | \n",
    "                                              all_raw.GarageQual.isnull() | \n",
    "                                              all_raw.GarageFinish.isnull() | \n",
    "                                              all_raw.GarageYrBlt.isnull()), \n",
    "            Garage_var]"
   ]
  },
  {
   "cell_type": "code",
   "execution_count": 88,
   "metadata": {
    "ExecuteTime": {
     "end_time": "2019-09-02T19:17:11.608263Z",
     "start_time": "2019-09-02T19:17:11.469226Z"
    }
   },
   "outputs": [],
   "source": [
    "ModeImputer(all_raw, [2124], 'GarageCond')\n",
    "ModeImputer(all_raw, [2124], 'GarageQual')\n",
    "ModeImputer(all_raw, [2124], 'GarageFinish')\n",
    "\n",
    "# Seems like obs 2574 doesn't really have a garage\n",
    "all_raw.loc[2574, 'GarageType'] = np.nan"
   ]
  },
  {
   "cell_type": "markdown",
   "metadata": {},
   "source": [
    "### Imputation for naturally non-existing data"
   ]
  },
  {
   "cell_type": "code",
   "execution_count": 89,
   "metadata": {
    "ExecuteTime": {
     "end_time": "2019-09-02T19:17:12.918633Z",
     "start_time": "2019-09-02T19:17:12.858112Z"
    }
   },
   "outputs": [],
   "source": [
    "# List of variables to be casted to none or zeroes\n",
    "tonone = ['PoolQC', 'MiscFeature', 'Alley', 'Fence', 'FireplaceQu',\n",
    "          'GarageType', 'GarageFinish', 'GarageQual', 'GarageCond',\n",
    "          'BsmtQual', 'BsmtCond', 'BsmtExposure', \n",
    "          'BsmtFinType1', 'BsmtFinType2', 'MasVnrType']\n",
    "\n",
    "tozero = ['GarageArea', 'GarageCars', 'BsmtFinSF1', 'BsmtFinSF2', 'BsmtUnfSF',\n",
    "          'TotalBsmtSF', 'BsmtFullBath', 'BsmtHalfBath', 'MasVnrArea']"
   ]
  },
  {
   "cell_type": "code",
   "execution_count": 90,
   "metadata": {
    "ExecuteTime": {
     "end_time": "2019-09-02T19:17:13.585190Z",
     "start_time": "2019-09-02T19:17:13.529484Z"
    }
   },
   "outputs": [],
   "source": [
    "for col in tonone:\n",
    "    all_raw[col] = all_raw[col].fillna('None')"
   ]
  },
  {
   "cell_type": "code",
   "execution_count": 91,
   "metadata": {
    "ExecuteTime": {
     "end_time": "2019-09-02T19:17:14.192420Z",
     "start_time": "2019-09-02T19:17:14.150038Z"
    }
   },
   "outputs": [],
   "source": [
    "for col in tozero:\n",
    "    all_raw[col] = all_raw[col].fillna(0)"
   ]
  },
  {
   "cell_type": "markdown",
   "metadata": {},
   "source": [
    "### Imputation according to mode"
   ]
  },
  {
   "cell_type": "code",
   "execution_count": 92,
   "metadata": {
    "ExecuteTime": {
     "end_time": "2019-09-02T19:17:15.563971Z",
     "start_time": "2019-09-02T19:17:15.522346Z"
    }
   },
   "outputs": [],
   "source": [
    "# Impute Electrical to its mode\n",
    "all_raw['Electrical'].fillna(all_raw['Electrical'].mode()[0], inplace=True)"
   ]
  },
  {
   "cell_type": "code",
   "execution_count": 93,
   "metadata": {
    "ExecuteTime": {
     "end_time": "2019-09-02T19:17:16.252717Z",
     "start_time": "2019-09-02T19:17:16.212362Z"
    }
   },
   "outputs": [
    {
     "data": {
      "text/plain": [
       "1"
      ]
     },
     "execution_count": 93,
     "metadata": {},
     "output_type": "execute_result"
    }
   ],
   "source": [
    "all_raw['Exterior2nd'].isna().sum()"
   ]
  },
  {
   "cell_type": "markdown",
   "metadata": {},
   "source": [
    "### Random imputation"
   ]
  },
  {
   "cell_type": "code",
   "execution_count": 94,
   "metadata": {
    "ExecuteTime": {
     "end_time": "2019-09-02T19:17:19.238536Z",
     "start_time": "2019-09-02T19:17:19.194535Z"
    }
   },
   "outputs": [],
   "source": [
    "def random_impute(df, columns, seed):\n",
    "    \"\"\"\n",
    "    Impute the missing values within categorical features according to proportion.\n",
    "    df: input dataframe\n",
    "    columns: columns to be imputed (as a list of strings)\n",
    "    seed: random seed that's used\n",
    "    \"\"\"\n",
    "    np.random.seed(seed)\n",
    "    for column in columns:\n",
    "        series = df[column].value_counts()\n",
    "        proportion = series / series.sum()\n",
    "        df[column] = df[column].fillna(np.random.choice(series.index, p=proportion))"
   ]
  },
  {
   "cell_type": "code",
   "execution_count": 95,
   "metadata": {
    "ExecuteTime": {
     "end_time": "2019-09-02T19:17:20.529231Z",
     "start_time": "2019-09-02T19:17:19.583352Z"
    }
   },
   "outputs": [],
   "source": [
    "random_impute(all_raw, ['MSZoning', 'SaleType',\n",
    "                        'KitchenQual', 'Exterior1st', 'Exterior2nd'], 0)"
   ]
  },
  {
   "cell_type": "markdown",
   "metadata": {},
   "source": [
    "### Dropping useless variables"
   ]
  },
  {
   "cell_type": "code",
   "execution_count": 96,
   "metadata": {
    "ExecuteTime": {
     "end_time": "2019-09-02T19:17:25.108241Z",
     "start_time": "2019-09-02T19:17:25.066783Z"
    }
   },
   "outputs": [
    {
     "data": {
      "text/plain": [
       "AllPub    2914\n",
       "NoSeWa       1\n",
       "Name: Utilities, dtype: int64"
      ]
     },
     "execution_count": 96,
     "metadata": {},
     "output_type": "execute_result"
    }
   ],
   "source": [
    "all_raw.Utilities.value_counts()"
   ]
  },
  {
   "cell_type": "code",
   "execution_count": 97,
   "metadata": {
    "ExecuteTime": {
     "end_time": "2019-09-02T19:17:26.562035Z",
     "start_time": "2019-09-02T19:17:26.524028Z"
    }
   },
   "outputs": [],
   "source": [
    "all_raw.drop(['Utilities'], axis=1, inplace=True)"
   ]
  },
  {
   "cell_type": "markdown",
   "metadata": {},
   "source": [
    "### Other imputations"
   ]
  },
  {
   "cell_type": "code",
   "execution_count": 98,
   "metadata": {
    "ExecuteTime": {
     "end_time": "2019-09-02T19:17:30.216496Z",
     "start_time": "2019-09-02T19:17:30.100892Z"
    }
   },
   "outputs": [],
   "source": [
    "# Impute Lot Frontage stratified by median values in different neighborhoods\n",
    "all_raw['LotFrontage'] = all_raw.groupby('Neighborhood')['LotFrontage'].transform(\n",
    "    lambda x: x.fillna(x.median()))"
   ]
  },
  {
   "cell_type": "code",
   "execution_count": 99,
   "metadata": {
    "ExecuteTime": {
     "end_time": "2019-09-02T19:17:30.654918Z",
     "start_time": "2019-09-02T19:17:30.607029Z"
    }
   },
   "outputs": [],
   "source": [
    "# Impute 'Garage year built' by 'House year built'\n",
    "garage_df = exam_raw(all_raw, 'GarageYrBlt', ['GarageYrBlt', 'YearBuilt'])\n",
    "all_raw.GarageYrBlt.fillna(garage_df.YearBuilt, inplace=True)"
   ]
  },
  {
   "cell_type": "code",
   "execution_count": 100,
   "metadata": {
    "ExecuteTime": {
     "end_time": "2019-09-02T19:17:31.154808Z",
     "start_time": "2019-09-02T19:17:31.088657Z"
    }
   },
   "outputs": [],
   "source": [
    "# Impute Functional as 'Typical'\n",
    "all_raw[\"Functional\"].fillna(\"Typ\", inplace=True)"
   ]
  },
  {
   "cell_type": "markdown",
   "metadata": {},
   "source": [
    "---"
   ]
  },
  {
   "cell_type": "code",
   "execution_count": 101,
   "metadata": {
    "ExecuteTime": {
     "end_time": "2019-09-02T19:17:32.608992Z",
     "start_time": "2019-09-02T19:17:32.565119Z"
    }
   },
   "outputs": [
    {
     "data": {
      "text/plain": [
       "Index(['SalePrice'], dtype='object')"
      ]
     },
     "execution_count": 101,
     "metadata": {},
     "output_type": "execute_result"
    }
   ],
   "source": [
    "# Check to see if there're anymore missing values\n",
    "all_raw.loc[:, all_raw.isnull().any()].columns"
   ]
  },
  {
   "cell_type": "markdown",
   "metadata": {},
   "source": [
    "# Feature Engineering"
   ]
  },
  {
   "cell_type": "markdown",
   "metadata": {},
   "source": [
    "## Casting numerical features to categorical"
   ]
  },
  {
   "cell_type": "code",
   "execution_count": 102,
   "metadata": {
    "ExecuteTime": {
     "end_time": "2019-09-02T19:17:44.205555Z",
     "start_time": "2019-09-02T19:17:44.170916Z"
    }
   },
   "outputs": [],
   "source": [
    "all_imputed = all_raw.copy()"
   ]
  },
  {
   "cell_type": "code",
   "execution_count": 103,
   "metadata": {
    "ExecuteTime": {
     "end_time": "2019-09-02T19:17:44.613522Z",
     "start_time": "2019-09-02T19:17:44.572897Z"
    }
   },
   "outputs": [],
   "source": [
    "tocat = ['MSSubClass', 'OverallCond', 'YrSold', 'MoSold']"
   ]
  },
  {
   "cell_type": "code",
   "execution_count": 104,
   "metadata": {
    "ExecuteTime": {
     "end_time": "2019-09-02T19:17:44.990736Z",
     "start_time": "2019-09-02T19:17:44.932304Z"
    }
   },
   "outputs": [],
   "source": [
    "for col in tocat:\n",
    "    all_imputed[col] = all_imputed[col].astype(str)"
   ]
  },
  {
   "cell_type": "code",
   "execution_count": 105,
   "metadata": {
    "ExecuteTime": {
     "end_time": "2019-09-02T19:17:45.394699Z",
     "start_time": "2019-09-02T19:17:45.339569Z"
    }
   },
   "outputs": [
    {
     "data": {
      "text/plain": [
       "array([5, 8, 6, 7, 4, 2, 3, 9, 1])"
      ]
     },
     "execution_count": 105,
     "metadata": {},
     "output_type": "execute_result"
    }
   ],
   "source": [
    "train_raw.OverallCond.unique()"
   ]
  },
  {
   "cell_type": "markdown",
   "metadata": {},
   "source": [
    "## Adding variables"
   ]
  },
  {
   "cell_type": "code",
   "execution_count": 106,
   "metadata": {
    "ExecuteTime": {
     "end_time": "2019-09-02T19:17:48.138835Z",
     "start_time": "2019-09-02T19:17:48.092788Z"
    }
   },
   "outputs": [],
   "source": [
    "# Compute total Square Feet\n",
    "all_imputed['TotalSF'] = all_imputed['TotalBsmtSF'] + \\\n",
    "    all_imputed['1stFlrSF'] + all_imputed['2ndFlrSF']"
   ]
  },
  {
   "cell_type": "code",
   "execution_count": 107,
   "metadata": {
    "ExecuteTime": {
     "end_time": "2019-09-02T19:17:48.579232Z",
     "start_time": "2019-09-02T19:17:48.513246Z"
    }
   },
   "outputs": [
    {
     "name": "stdout",
     "output_type": "stream",
     "text": [
      "The correlation between Total SF and Sale Price is 0.833\n"
     ]
    }
   ],
   "source": [
    "TotalSFVSPrive = all_imputed[['TotalSF', 'SalePrice']].dropna()\n",
    "correlation = round(TotalSFVSPrive.corr().iloc[1,0], 3)\n",
    "print('The correlation between Total SF and Sale Price is {}'.format(correlation))"
   ]
  },
  {
   "cell_type": "code",
   "execution_count": 189,
   "metadata": {
    "ExecuteTime": {
     "end_time": "2019-07-29T16:15:48.538434Z",
     "start_time": "2019-07-29T16:15:48.183157Z"
    }
   },
   "outputs": [
    {
     "data": {
      "image/png": "[encoded data removed]"
     },
     "metadata": {},
     "output_type": "display_data"
    }
   ],
   "source": [
    "%%R -i TotalSFVSPrive\n",
    "\n",
    "ggplot(TotalSFVSPrive, aes(x=TotalSF, y=SalePrice)) +\n",
    "    geom_point(col='red') +\n",
    "    geom_smooth(method='lm', aes(group=1), se=F) +\n",
    "    scale_y_continuous(breaks=seq(0, 800000, by=100000), labels=comma) +\n",
    "    labs(title='Distribution of House Sale Price and Total Square Feet',\n",
    "         x='Total Square Feet',\n",
    "         y='Sales Price')"
   ]
  },
  {
   "cell_type": "code",
   "execution_count": 108,
   "metadata": {
    "ExecuteTime": {
     "end_time": "2019-09-02T19:17:55.101912Z",
     "start_time": "2019-09-02T19:17:55.052738Z"
    }
   },
   "outputs": [],
   "source": [
    "# Inflation index for Ames obtained through external site\n",
    "inflationindex = {\n",
    "    '2006': 240.85,\n",
    "    '2007': 246.07,\n",
    "    '2008': 247.23,\n",
    "    '2009': 247.03,\n",
    "    '2010': 245.29\n",
    "}\n",
    "\n",
    "all_imputed['InflationIndex'] = all_imputed['YrSold'].map(inflationindex)"
   ]
  },
  {
   "cell_type": "code",
   "execution_count": 109,
   "metadata": {
    "ExecuteTime": {
     "end_time": "2019-09-02T19:17:56.393394Z",
     "start_time": "2019-09-02T19:17:56.356122Z"
    }
   },
   "outputs": [],
   "source": [
    "cats = all_imputed.copy()"
   ]
  },
  {
   "cell_type": "markdown",
   "metadata": {},
   "source": [
    "## Transforming variables"
   ]
  },
  {
   "cell_type": "markdown",
   "metadata": {},
   "source": [
    "### Features"
   ]
  },
  {
   "cell_type": "code",
   "execution_count": 110,
   "metadata": {
    "ExecuteTime": {
     "end_time": "2019-09-02T19:18:08.420641Z",
     "start_time": "2019-09-02T19:18:08.294324Z"
    }
   },
   "outputs": [
    {
     "name": "stdout",
     "output_type": "stream",
     "text": [
      "There are 13 skewed features to be transformed\n"
     ]
    }
   ],
   "source": [
    "# Select highly skewed features\n",
    "numerical_features = all_imputed.select_dtypes('number').columns\n",
    "skewness = all_imputed[numerical_features].apply(lambda x: skew(x))\n",
    "skewed_features = skewness[abs(skewness) > 1.5]\n",
    "print('There are {} skewed features to be transformed'.format(len(skewed_features)))\n",
    "\n",
    "# Handle rows with zeroes\n",
    "skewed_features_addone = all_imputed[skewed_features.index] + 1"
   ]
  },
  {
   "cell_type": "code",
   "execution_count": 111,
   "metadata": {
    "ExecuteTime": {
     "end_time": "2019-09-02T19:18:09.689757Z",
     "start_time": "2019-09-02T19:18:09.566570Z"
    }
   },
   "outputs": [],
   "source": [
    "# Apply boxcox transformation to all variables with skewness > 1.5\n",
    "for features in skewed_features.index:\n",
    "    all_imputed[features], _ = stats.boxcox(\n",
    "        skewed_features_addone[features])"
   ]
  },
  {
   "cell_type": "markdown",
   "metadata": {},
   "source": [
    "### Target Variable"
   ]
  },
  {
   "cell_type": "code",
   "execution_count": 112,
   "metadata": {
    "ExecuteTime": {
     "end_time": "2019-09-02T19:18:13.644405Z",
     "start_time": "2019-09-02T19:18:13.593213Z"
    }
   },
   "outputs": [],
   "source": [
    "price = all_imputed[['SalePrice']].dropna()"
   ]
  },
  {
   "cell_type": "code",
   "execution_count": 113,
   "metadata": {
    "ExecuteTime": {
     "end_time": "2019-09-02T19:18:15.521390Z",
     "start_time": "2019-09-02T19:18:14.302419Z"
    }
   },
   "outputs": [
    {
     "data": {
      "image/png": "[encoded data removed]"
     },
     "metadata": {},
     "output_type": "display_data"
    }
   ],
   "source": [
    "%%R -i price\n",
    "\n",
    "ggplot(price, aes(x=SalePrice)) + \n",
    "    geom_histogram(fill='red', binwidth=10000) +\n",
    "    scale_x_continuous(breaks=seq(0, 800000, by=100000), labels=comma) +\n",
    "    labs(title='Distribution of House Sale Price',\n",
    "         x='Sale Price',\n",
    "         y='Count')"
   ]
  },
  {
   "cell_type": "code",
   "execution_count": 114,
   "metadata": {
    "ExecuteTime": {
     "end_time": "2019-09-02T19:18:16.291600Z",
     "start_time": "2019-09-02T19:18:15.680342Z"
    }
   },
   "outputs": [
    {
     "data": {
      "image/png": "[encoded data removed]"
     },
     "metadata": {},
     "output_type": "display_data"
    }
   ],
   "source": [
    "%%R -i price\n",
    "\n",
    "qqnorm(price$SalePrice, col='red')\n",
    "qqline(price$SalePrice, col='blue')"
   ]
  },
  {
   "cell_type": "code",
   "execution_count": 115,
   "metadata": {
    "ExecuteTime": {
     "end_time": "2019-09-02T19:18:18.764555Z",
     "start_time": "2019-09-02T19:18:18.725907Z"
    }
   },
   "outputs": [],
   "source": [
    "# log-transformed Sale Price\n",
    "all_imputed['SalePrice'] = np.log1p(all_imputed['SalePrice'])\n",
    "price = all_imputed[['SalePrice']].dropna()"
   ]
  },
  {
   "cell_type": "code",
   "execution_count": 116,
   "metadata": {
    "ExecuteTime": {
     "end_time": "2019-09-02T19:18:20.067366Z",
     "start_time": "2019-09-02T19:18:19.670314Z"
    }
   },
   "outputs": [
    {
     "data": {
      "image/png": "[encoded data removed]"
     },
     "metadata": {},
     "output_type": "display_data"
    }
   ],
   "source": [
    "%%R -i price\n",
    "\n",
    "ggplot(price, aes(x=SalePrice)) +\n",
    "geom_histogram(fill='red', bins=100) +\n",
    "labs(title='Distribution of House Sale Price',\n",
    "     x='Log Sale Price',\n",
    "     y='Count')"
   ]
  },
  {
   "cell_type": "code",
   "execution_count": 117,
   "metadata": {
    "ExecuteTime": {
     "end_time": "2019-09-02T19:18:21.742830Z",
     "start_time": "2019-09-02T19:18:21.627836Z"
    }
   },
   "outputs": [
    {
     "data": {
      "image/png": "[encoded data removed]"
     },
     "metadata": {},
     "output_type": "display_data"
    }
   ],
   "source": [
    "%%R -i price\n",
    "\n",
    "qqnorm(price$SalePrice, col='red')\n",
    "qqline(price$SalePrice, col='blue')"
   ]
  },
  {
   "cell_type": "markdown",
   "metadata": {},
   "source": [
    "## Scaling and Encoding Variables"
   ]
  },
  {
   "cell_type": "code",
   "execution_count": 118,
   "metadata": {
    "ExecuteTime": {
     "end_time": "2019-09-02T19:18:49.820160Z",
     "start_time": "2019-09-02T19:18:49.757013Z"
    }
   },
   "outputs": [
    {
     "data": {
      "text/plain": [
       "True"
      ]
     },
     "execution_count": 118,
     "metadata": {},
     "output_type": "execute_result"
    }
   ],
   "source": [
    "# Creating list of numerical and categorical features respectively\n",
    "numerical_features = all_imputed.select_dtypes('number').columns.tolist()\n",
    "numerical_features.remove('SalePrice')\n",
    "categorical_features = all_imputed.select_dtypes('object').columns.tolist()\n",
    "\n",
    "# Asserting all columns are selected\n",
    "len(all_imputed.columns) - 1 == len(numerical_features) + len(categorical_features)"
   ]
  },
  {
   "cell_type": "code",
   "execution_count": 119,
   "metadata": {
    "ExecuteTime": {
     "end_time": "2019-09-02T19:18:51.101982Z",
     "start_time": "2019-09-02T19:18:51.061607Z"
    }
   },
   "outputs": [],
   "source": [
    "# ### Cat Route\n",
    "# cats = all_imputed"
   ]
  },
  {
   "cell_type": "code",
   "execution_count": 120,
   "metadata": {
    "ExecuteTime": {
     "end_time": "2019-09-02T19:18:57.058774Z",
     "start_time": "2019-09-02T19:18:56.950962Z"
    }
   },
   "outputs": [],
   "source": [
    "# Transform columns that might be inherently ordinal\n",
    "ordinal_cols = ['FireplaceQu', 'BsmtQual', 'BsmtCond', 'GarageQual', 'GarageCond', \n",
    "        'ExterQual', 'ExterCond','HeatingQC', 'PoolQC', 'KitchenQual', 'BsmtFinType1', \n",
    "        'BsmtFinType2', 'Functional', 'Fence', 'BsmtExposure', 'GarageFinish', 'LandSlope',\n",
    "        'LotShape', 'PavedDrive', 'Street', 'Alley', 'CentralAir', 'MSSubClass', \n",
    "        'OverallCond']\n",
    "\n",
    "#Yr/MoSold???\n",
    "\n",
    "lbl = LabelEncoder()\n",
    "all_imputed.loc[:, ordinal_cols] = all_imputed.loc[:, ordinal_cols].apply(lbl.fit_transform)"
   ]
  },
  {
   "cell_type": "code",
   "execution_count": 121,
   "metadata": {
    "ExecuteTime": {
     "end_time": "2019-09-02T19:19:02.501017Z",
     "start_time": "2019-09-02T19:19:02.462700Z"
    }
   },
   "outputs": [],
   "source": [
    "# Create boolean masks for train and test datasets\n",
    "train_mask = all_imputed['SalePrice'].notnull()\n",
    "test_mask = all_imputed['SalePrice'].isnull()"
   ]
  },
  {
   "cell_type": "code",
   "execution_count": 122,
   "metadata": {
    "ExecuteTime": {
     "end_time": "2019-09-02T19:19:03.861273Z",
     "start_time": "2019-09-02T19:19:03.702222Z"
    }
   },
   "outputs": [],
   "source": [
    "# Standardize the training set and testing set accordingly\n",
    "std = StandardScaler()\n",
    "scaler = std.fit(all_imputed.loc[train_mask, numerical_features])\n",
    "\n",
    "# Use the fitted scale on train set onto test set to avoid leakage\n",
    "all_imputed.loc[train_mask, numerical_features] = scaler.transform(\n",
    "    all_imputed.loc[train_mask, numerical_features])\n",
    "all_imputed.loc[test_mask, numerical_features] = scaler.transform(\n",
    "    all_imputed.loc[test_mask, numerical_features])\n",
    "\n",
    "# ### Doing the same for Catboost\n",
    "# scaler = std.fit(cats.loc[train_mask, numerical_features])\n",
    "# cats.loc[train_mask, numerical_features] = scaler.transform(\n",
    "#     cats.loc[train_mask, numerical_features])\n",
    "# cats.loc[test_mask, numerical_features] = scaler.transform(\n",
    "#     cats.loc[test_mask, numerical_features])"
   ]
  },
  {
   "cell_type": "code",
   "execution_count": 123,
   "metadata": {
    "ExecuteTime": {
     "end_time": "2019-09-02T19:19:08.906704Z",
     "start_time": "2019-09-02T19:19:08.791557Z"
    }
   },
   "outputs": [],
   "source": [
    "# Dummification of remaining categorical variables\n",
    "all_imputed = pd.get_dummies(all_imputed)\n",
    "\n",
    "# Split the data back into train and test sets\n",
    "train = all_imputed.loc[train_mask]\n",
    "test = all_imputed.loc[test_mask]\n",
    "\n",
    "train_cat = cats.loc[train_mask]"
   ]
  },
  {
   "cell_type": "code",
   "execution_count": 124,
   "metadata": {
    "ExecuteTime": {
     "end_time": "2019-09-02T19:19:13.249319Z",
     "start_time": "2019-09-02T19:19:13.208241Z"
    }
   },
   "outputs": [],
   "source": [
    "# Prepare data for ML\n",
    "X_train = train.drop(['SalePrice'], axis = 1)\n",
    "y_train = train['SalePrice']\n",
    "\n",
    "X_test = test.drop(['SalePrice'], axis = 1)\n",
    "\n",
    "X_train_cat = train_cat.drop(['SalePrice'], axis = 1)"
   ]
  },
  {
   "cell_type": "code",
   "execution_count": 125,
   "metadata": {
    "ExecuteTime": {
     "end_time": "2019-09-02T19:19:15.677063Z",
     "start_time": "2019-09-02T19:19:15.638453Z"
    }
   },
   "outputs": [
    {
     "data": {
      "text/plain": [
       "True"
      ]
     },
     "execution_count": 125,
     "metadata": {},
     "output_type": "execute_result"
    },
    {
     "name": "stdout",
     "output_type": "stream",
     "text": [
      "We have 236 columns in our dataset.\n"
     ]
    }
   ],
   "source": [
    "# Assert we have the same number of columns in X_train and X_test\n",
    "X_train.shape[1] == X_test.shape[1]\n",
    "print('We have {} columns in our dataset.'.format(X_train.shape[1]))"
   ]
  },
  {
   "cell_type": "markdown",
   "metadata": {},
   "source": [
    "# Modelling"
   ]
  },
  {
   "cell_type": "code",
   "execution_count": 126,
   "metadata": {
    "ExecuteTime": {
     "end_time": "2019-09-02T19:19:20.262507Z",
     "start_time": "2019-09-02T19:19:20.223514Z"
    }
   },
   "outputs": [],
   "source": [
    "def rmse(cv):\n",
    "    '''\n",
    "    Prints the RMSE that is identical to Kaggle matrics.\n",
    "    Used for GridSearchCV and RandomizedSearchCV.\n",
    "    '''\n",
    "    print('The lowest RMSE found: {}'.format(np.sqrt(np.abs(cv.best_score_))))\n",
    "    \n",
    "    \n",
    "def cvsrmse(cv):\n",
    "    '''\n",
    "    Prints the RMSE that is identical to Kaggle matrics.\n",
    "    Used for cross_val_score.\n",
    "    '''\n",
    "    print('The lowest RMSE found: {}'.format(np.sqrt(np.abs(cv.mean()))))"
   ]
  },
  {
   "cell_type": "markdown",
   "metadata": {},
   "source": [
    "## Base Models"
   ]
  },
  {
   "cell_type": "markdown",
   "metadata": {},
   "source": [
    "### Lasso"
   ]
  },
  {
   "cell_type": "code",
   "execution_count": 127,
   "metadata": {
    "ExecuteTime": {
     "end_time": "2019-09-02T19:21:58.777528Z",
     "start_time": "2019-09-02T19:19:31.673621Z"
    }
   },
   "outputs": [
    {
     "name": "stdout",
     "output_type": "stream",
     "text": [
      "Fitting 5 folds for each of 201 candidates, totalling 1005 fits\n"
     ]
    },
    {
     "name": "stderr",
     "output_type": "stream",
     "text": [
      "[Parallel(n_jobs=-1)]: Using backend LokyBackend with 4 concurrent workers.\n",
      "[Parallel(n_jobs=-1)]: Done  42 tasks      | elapsed:    9.7s\n",
      "[Parallel(n_jobs=-1)]: Done 192 tasks      | elapsed:   32.8s\n",
      "[Parallel(n_jobs=-1)]: Done 442 tasks      | elapsed:  1.2min\n",
      "[Parallel(n_jobs=-1)]: Done 792 tasks      | elapsed:  1.9min\n",
      "[Parallel(n_jobs=-1)]: Done 1005 out of 1005 | elapsed:  2.4min finished\n"
     ]
    },
    {
     "data": {
      "text/plain": [
       "GridSearchCV(cv=5, error_score='raise-deprecating',\n",
       "             estimator=Lasso(alpha=1.0, copy_X=True, fit_intercept=True,\n",
       "                             max_iter=1000, normalize=False, positive=False,\n",
       "                             precompute=False, random_state=None,\n",
       "                             selection='cyclic', tol=0.0001, warm_start=True),\n",
       "             iid='warn', n_jobs=-1,\n",
       "             param_grid={'alpha': array([1.00000000e-05, 1.02329299e-05, 1.04712855e-05, 1.07151931e-05,\n",
       "       1.096478...\n",
       "       6.91830971e-04, 7.07945784e-04, 7.24435960e-04, 7.41310241e-04,\n",
       "       7.58577575e-04, 7.76247117e-04, 7.94328235e-04, 8.12830516e-04,\n",
       "       8.31763771e-04, 8.51138038e-04, 8.70963590e-04, 8.91250938e-04,\n",
       "       9.12010839e-04, 9.33254301e-04, 9.54992586e-04, 9.77237221e-04,\n",
       "       1.00000000e-03])},\n",
       "             pre_dispatch='2*n_jobs', refit=True, return_train_score=False,\n",
       "             scoring='neg_mean_squared_error', verbose=1)"
      ]
     },
     "execution_count": 127,
     "metadata": {},
     "output_type": "execute_result"
    }
   ],
   "source": [
    "# Hyperparameters to tune\n",
    "params = {'alpha': np.logspace(-5, -3, 201)}\n",
    "\n",
    "# Instantiate the regressor\n",
    "lasso = Lasso(warm_start=True)\n",
    "lasso_cv = GridSearchCV(estimator=lasso, \n",
    "                        param_grid=params, \n",
    "                        cv=5, verbose=1, \n",
    "                        scoring='neg_mean_squared_error', \n",
    "                        n_jobs=-1)\n",
    "\n",
    "lasso_cv.fit(X_train, y_train)"
   ]
  },
  {
   "cell_type": "code",
   "execution_count": 128,
   "metadata": {
    "ExecuteTime": {
     "end_time": "2019-09-02T19:24:27.492853Z",
     "start_time": "2019-09-02T19:24:27.204618Z"
    }
   },
   "outputs": [
    {
     "name": "stdout",
     "output_type": "stream",
     "text": [
      "The lowest RMSE found: 0.11110718494336422\n",
      "The best parameters found:  {'alpha': 0.0004897788193684461}\n"
     ]
    }
   ],
   "source": [
    "rmse(lasso_cv)\n",
    "print('The best parameters found: ', lasso_cv.best_params_)\n",
    "lasso_base = lasso_cv.best_estimator_"
   ]
  },
  {
   "cell_type": "code",
   "execution_count": 134,
   "metadata": {
    "ExecuteTime": {
     "end_time": "2019-09-02T19:36:22.168071Z",
     "start_time": "2019-09-02T19:36:21.960335Z"
    }
   },
   "outputs": [
    {
     "data": {
      "text/plain": [
       "Lasso(alpha=0.0004897788, copy_X=True, fit_intercept=True, max_iter=1000,\n",
       "      normalize=False, positive=False, precompute=False, random_state=None,\n",
       "      selection='cyclic', tol=0.0001, warm_start=False)"
      ]
     },
     "execution_count": 134,
     "metadata": {},
     "output_type": "execute_result"
    },
    {
     "name": "stdout",
     "output_type": "stream",
     "text": [
      "number of features used: 105\n"
     ]
    }
   ],
   "source": [
    "lasso_t = Lasso(alpha = 0.0004897788)\n",
    "lasso_t.fit(X_train, y_train)\n",
    "train_score_t=lasso_t.score(X_train,y_train)\n",
    "coeff_used = np.sum(lasso_t.coef_!=0)\n",
    "\n",
    "print(\"number of features used: {}\".format(coeff_used))"
   ]
  },
  {
   "cell_type": "markdown",
   "metadata": {},
   "source": [
    "### Elastic-net"
   ]
  },
  {
   "cell_type": "code",
   "execution_count": null,
   "metadata": {
    "ExecuteTime": {
     "end_time": "2019-07-28T03:58:23.241155Z",
     "start_time": "2019-07-28T03:57:28.944Z"
    }
   },
   "outputs": [],
   "source": [
    "# Hyperparameters to tune\n",
    "params = {'alpha': np.logspace(-4, -3, 101),\n",
    "          'l1_ratio': np.linspace(0.9, 1, 101)}\n",
    "\n",
    "# Instantiate the regressor\n",
    "e_net = ElasticNet(warm_start=True)\n",
    "e_net_cv = RandomizedSearchCV(estimator=e_net, \n",
    "                              param_distributions=params, \n",
    "                              cv=5, verbose=1, n_iter=500,\n",
    "                              scoring='neg_mean_squared_error', \n",
    "                              n_jobs=-1, random_state=1)\n",
    "\n",
    "e_net_cv.fit(X_train, y_train)"
   ]
  },
  {
   "cell_type": "code",
   "execution_count": null,
   "metadata": {
    "ExecuteTime": {
     "end_time": "2019-07-28T03:58:23.243814Z",
     "start_time": "2019-07-28T03:57:29.000Z"
    }
   },
   "outputs": [],
   "source": [
    "rmse(e_net_cv)\n",
    "print('The best parameters found: ', e_net_cv.best_params_)\n",
    "e_net_base = e_net_cv.best_estimator_"
   ]
  },
  {
   "cell_type": "markdown",
   "metadata": {},
   "source": [
    "### Stochastic Gradient Boosting"
   ]
  },
  {
   "cell_type": "code",
   "execution_count": 135,
   "metadata": {
    "ExecuteTime": {
     "end_time": "2019-09-02T20:13:30.100124Z",
     "start_time": "2019-09-02T19:52:56.186534Z"
    }
   },
   "outputs": [
    {
     "name": "stdout",
     "output_type": "stream",
     "text": [
      "Fitting 5 folds for each of 30 candidates, totalling 150 fits\n"
     ]
    },
    {
     "name": "stderr",
     "output_type": "stream",
     "text": [
      "[Parallel(n_jobs=-1)]: Using backend LokyBackend with 4 concurrent workers.\n",
      "[Parallel(n_jobs=-1)]: Done  42 tasks      | elapsed:  5.9min\n",
      "[Parallel(n_jobs=-1)]: Done 150 out of 150 | elapsed: 20.3min finished\n"
     ]
    },
    {
     "data": {
      "text/plain": [
       "RandomizedSearchCV(cv=5, error_score='raise-deprecating',\n",
       "                   estimator=GradientBoostingRegressor(alpha=0.9,\n",
       "                                                       criterion='friedman_mse',\n",
       "                                                       init=None,\n",
       "                                                       learning_rate=0.1,\n",
       "                                                       loss='ls', max_depth=3,\n",
       "                                                       max_features=None,\n",
       "                                                       max_leaf_nodes=None,\n",
       "                                                       min_impurity_decrease=0.0,\n",
       "                                                       min_impurity_split=None,\n",
       "                                                       min_samples_leaf=1,\n",
       "                                                       min_samples_split=2,\n",
       "                                                       min_weight_fraction_leaf=0.0,\n",
       "                                                       n_estimators=100,...\n",
       "                   param_distributions={'learning_rate': [0.01],\n",
       "                                        'loss': ['huber'], 'max_depth': [3, 4],\n",
       "                                        'max_features': ['sqrt'],\n",
       "                                        'min_samples_leaf': [5, 6, 7, 8, 9, 10],\n",
       "                                        'min_samples_split': [15, 16, 17, 18,\n",
       "                                                              19, 20],\n",
       "                                        'n_estimators': [5000],\n",
       "                                        'random_state': [1],\n",
       "                                        'subsample': [0.7, 0.8, 0.9]},\n",
       "                   pre_dispatch='2*n_jobs', random_state=None, refit=True,\n",
       "                   return_train_score=False, scoring='neg_mean_squared_error',\n",
       "                   verbose=1)"
      ]
     },
     "execution_count": 135,
     "metadata": {},
     "output_type": "execute_result"
    }
   ],
   "source": [
    "# Hyperparameters to tune\n",
    "params = {\n",
    "    'loss': ['huber'],\n",
    "    'n_estimators': [5000],\n",
    "    'learning_rate': [0.01],\n",
    "    'max_depth': [3, 4],\n",
    "    'subsample': [0.7, 0.8, 0.9],\n",
    "    'max_features': ['sqrt'],\n",
    "    'min_samples_leaf': [5, 6, 7, 8, 9, 10],\n",
    "    'min_samples_split': [15, 16, 17, 18, 19, 20], \n",
    "    'random_state': [1]\n",
    "}\n",
    "\n",
    "# Instantiate the regressor\n",
    "gbr = GradientBoostingRegressor()\n",
    "gbr_cv = RandomizedSearchCV(estimator=gbr,\n",
    "                      param_distributions=params, \n",
    "                      cv=5, verbose=1, n_iter=30,\n",
    "                      scoring='neg_mean_squared_error', \n",
    "                      n_jobs=-1)\n",
    "\n",
    "gbr_cv.fit(X_train, y_train)"
   ]
  },
  {
   "cell_type": "code",
   "execution_count": 136,
   "metadata": {
    "ExecuteTime": {
     "end_time": "2019-09-02T20:17:12.310349Z",
     "start_time": "2019-09-02T20:17:12.046543Z"
    }
   },
   "outputs": [
    {
     "name": "stdout",
     "output_type": "stream",
     "text": [
      "The lowest RMSE found: 0.10935195304653274\n",
      "The best parameters found:  {'subsample': 0.9, 'random_state': 1, 'n_estimators': 5000, 'min_samples_split': 16, 'min_samples_leaf': 5, 'max_features': 'sqrt', 'max_depth': 3, 'loss': 'huber', 'learning_rate': 0.01}\n"
     ]
    }
   ],
   "source": [
    "rmse(gbr_cv)\n",
    "print('The best parameters found: ', gbr_cv.best_params_)\n",
    "gbr_base = gbr_cv.best_estimator_"
   ]
  },
  {
   "cell_type": "code",
   "execution_count": 151,
   "metadata": {
    "ExecuteTime": {
     "end_time": "2019-09-02T20:49:13.328519Z",
     "start_time": "2019-09-02T20:49:13.241095Z"
    }
   },
   "outputs": [
    {
     "data": {
      "text/plain": [
       "Index(['MSSubClass', 'LotFrontage', 'LotArea', 'Street', 'Alley', 'LotShape',\n",
       "       'LandSlope', 'OverallQual', 'OverallCond', 'YearBuilt',\n",
       "       ...\n",
       "       'SaleType_ConLw', 'SaleType_New', 'SaleType_Oth', 'SaleType_WD',\n",
       "       'SaleCondition_Abnorml', 'SaleCondition_AdjLand',\n",
       "       'SaleCondition_Alloca', 'SaleCondition_Family', 'SaleCondition_Normal',\n",
       "       'SaleCondition_Partial'],\n",
       "      dtype='object', length=236)"
      ]
     },
     "execution_count": 151,
     "metadata": {},
     "output_type": "execute_result"
    }
   ],
   "source": [
    "X_train.columns"
   ]
  },
  {
   "cell_type": "code",
   "execution_count": 171,
   "metadata": {
    "ExecuteTime": {
     "end_time": "2019-09-02T21:03:23.266112Z",
     "start_time": "2019-09-02T21:03:23.217631Z"
    }
   },
   "outputs": [
    {
     "data": {
      "text/plain": [
       "array([0.0923572 , 0.09145425, 0.06550213, 0.05639684, 0.04731253,\n",
       "       0.04701645, 0.04377822, 0.04364957, 0.04044818, 0.03717702])"
      ]
     },
     "execution_count": 171,
     "metadata": {},
     "output_type": "execute_result"
    },
    {
     "data": {
      "text/plain": [
       "['OverallQual',\n",
       " 'TotalSF',\n",
       " 'GrLivArea',\n",
       " 'ExterQual',\n",
       " 'YearBuilt',\n",
       " 'GarageCars',\n",
       " 'TotalBsmtSF',\n",
       " 'FullBath',\n",
       " 'GarageArea',\n",
       " 'YearRemodAdd']"
      ]
     },
     "execution_count": 171,
     "metadata": {},
     "output_type": "execute_result"
    },
    {
     "data": {
      "text/plain": [
       "range(9, -1, -1)"
      ]
     },
     "execution_count": 171,
     "metadata": {},
     "output_type": "execute_result"
    }
   ],
   "source": [
    "indices = np.argsort(importances)[::-1][:10]\n",
    "importances[indices]\n",
    "[feature_names[i] for i in indices]\n",
    "range(len(indices))[::-1]"
   ]
  },
  {
   "cell_type": "code",
   "execution_count": 179,
   "metadata": {
    "ExecuteTime": {
     "end_time": "2019-09-02T21:29:07.781527Z",
     "start_time": "2019-09-02T21:29:06.288185Z"
    }
   },
   "outputs": [
    {
     "data": {
      "text/plain": [
       "Text(0.5, 1.0, 'Feature Importances')"
      ]
     },
     "execution_count": 179,
     "metadata": {},
     "output_type": "execute_result"
    },
    {
     "data": {
      "text/plain": [
       "<BarContainer object of 10 artists>"
      ]
     },
     "execution_count": 179,
     "metadata": {},
     "output_type": "execute_result"
    },
    {
     "data": {
      "text/plain": [
       "([<matplotlib.axis.YTick at 0x133a45518>,\n",
       "  <matplotlib.axis.YTick at 0x133a42e10>,\n",
       "  <matplotlib.axis.YTick at 0x133b95f28>,\n",
       "  <matplotlib.axis.YTick at 0x133c98780>,\n",
       "  <matplotlib.axis.YTick at 0x133c98cc0>,\n",
       "  <matplotlib.axis.YTick at 0x133c9d278>,\n",
       "  <matplotlib.axis.YTick at 0x133c9d7f0>,\n",
       "  <matplotlib.axis.YTick at 0x133c9dd68>,\n",
       "  <matplotlib.axis.YTick at 0x133c9de48>,\n",
       "  <matplotlib.axis.YTick at 0x133ca90f0>],\n",
       " <a list of 10 Text yticklabel objects>)"
      ]
     },
     "execution_count": 179,
     "metadata": {},
     "output_type": "execute_result"
    },
    {
     "data": {
      "text/plain": [
       "Text(0.5, 0, 'Relative Importance')"
      ]
     },
     "execution_count": 179,
     "metadata": {},
     "output_type": "execute_result"
    },
    {
     "data": {
      "image/png": "[encoded data removed]",
      "text/plain": [
       "<Figure size 432x288 with 1 Axes>"
      ]
     },
     "metadata": {},
     "output_type": "display_data"
    }
   ],
   "source": [
    "feature_names = X_train.columns\n",
    "importances = gbr_base.feature_importances_\n",
    "indices = np.argsort(importances)[::-1][:10]\n",
    "\n",
    "plt.title('Feature Importances')\n",
    "plt.barh(range(len(indices))[::-1], importances[indices], color='b', align='center')\n",
    "plt.yticks(range(len(indices))[::-1], [feature_names[i] for i in indices])\n",
    "plt.xlabel('Relative Importance')\n",
    "plt.show()\n"
   ]
  },
  {
   "cell_type": "markdown",
   "metadata": {},
   "source": [
    "### Kernel Ridge"
   ]
  },
  {
   "cell_type": "code",
   "execution_count": 104,
   "metadata": {
    "ExecuteTime": {
     "end_time": "2019-07-29T03:48:10.337940Z",
     "start_time": "2019-07-29T03:45:09.501190Z"
    }
   },
   "outputs": [
    {
     "name": "stdout",
     "output_type": "stream",
     "text": [
      "Fitting 5 folds for each of 500 candidates, totalling 2500 fits\n"
     ]
    },
    {
     "name": "stderr",
     "output_type": "stream",
     "text": [
      "[Parallel(n_jobs=-1)]: Using backend LokyBackend with 4 concurrent workers.\n",
      "[Parallel(n_jobs=-1)]: Done  42 tasks      | elapsed:    5.6s\n",
      "[Parallel(n_jobs=-1)]: Done 192 tasks      | elapsed:   14.7s\n",
      "[Parallel(n_jobs=-1)]: Done 442 tasks      | elapsed:   30.9s\n",
      "[Parallel(n_jobs=-1)]: Done 792 tasks      | elapsed:   55.6s\n",
      "[Parallel(n_jobs=-1)]: Done 1242 tasks      | elapsed:  1.5min\n",
      "[Parallel(n_jobs=-1)]: Done 1792 tasks      | elapsed:  2.1min\n",
      "[Parallel(n_jobs=-1)]: Done 2442 tasks      | elapsed:  2.9min\n",
      "[Parallel(n_jobs=-1)]: Done 2500 out of 2500 | elapsed:  3.0min finished\n"
     ]
    },
    {
     "data": {
      "text/plain": [
       "RandomizedSearchCV(cv=5, error_score='raise-deprecating',\n",
       "                   estimator=KernelRidge(alpha=1, coef0=1, degree=3, gamma=None,\n",
       "                                         kernel='linear', kernel_params=None),\n",
       "                   iid='warn', n_iter=500, n_jobs=-1,\n",
       "                   param_distributions={'alpha': array([0.  , 0.01, 0.02, 0.03, 0.04, 0.05, 0.06, 0.07, 0.08, 0.09, 0.1 ,\n",
       "       0.11, 0.12, 0.13, 0.14, 0.15, 0.16, 0.17, 0.18, 0.19, 0.2 , 0.21,\n",
       "       0.22, 0.23, 0.24, 0.25, 0.26, 0...\n",
       "       2.54, 2.55, 2.56, 2.57, 2.58, 2.59, 2.6 , 2.61, 2.62, 2.63, 2.64,\n",
       "       2.65, 2.66, 2.67, 2.68, 2.69, 2.7 , 2.71, 2.72, 2.73, 2.74, 2.75,\n",
       "       2.76, 2.77, 2.78, 2.79, 2.8 , 2.81, 2.82, 2.83, 2.84, 2.85, 2.86,\n",
       "       2.87, 2.88, 2.89, 2.9 , 2.91, 2.92, 2.93, 2.94, 2.95, 2.96, 2.97,\n",
       "       2.98, 2.99, 3.  ]),\n",
       "                                        'kernel': ['polynomial']},\n",
       "                   pre_dispatch='2*n_jobs', random_state=1, refit=True,\n",
       "                   return_train_score=False, scoring='neg_mean_squared_error',\n",
       "                   verbose=1)"
      ]
     },
     "execution_count": 104,
     "metadata": {},
     "output_type": "execute_result"
    }
   ],
   "source": [
    "# Hyperparameters to tune\n",
    "params = {\n",
    "    'alpha': np.linspace(0, 1, 101),\n",
    "    'degree': np.linspace(1, 3, 201),\n",
    "    'coef0': np.linspace(2, 4, 201),\n",
    "    'kernel': ['polynomial']\n",
    "}\n",
    "\n",
    "# Instantiate the regressor\n",
    "krr = KernelRidge()\n",
    "krr_cv = RandomizedSearchCV(estimator=krr, \n",
    "                            param_distributions=params, \n",
    "                            cv=5, verbose=1, n_iter=500,\n",
    "                            scoring='neg_mean_squared_error', \n",
    "                            n_jobs=-1, random_state=1)\n",
    "\n",
    "krr_cv.fit(X_train, y_train)"
   ]
  },
  {
   "cell_type": "code",
   "execution_count": 146,
   "metadata": {
    "ExecuteTime": {
     "end_time": "2019-07-29T14:21:06.026205Z",
     "start_time": "2019-07-29T14:21:05.981881Z"
    }
   },
   "outputs": [
    {
     "name": "stdout",
     "output_type": "stream",
     "text": [
      "The lowest RMSE found: 0.11164292383387983\n",
      "The best parameters found:  {'kernel': 'polynomial', 'degree': 1.75, 'coef0': 4.0, 'alpha': 0.24}\n"
     ]
    }
   ],
   "source": [
    "rmse(krr_cv)\n",
    "print('The best parameters found: ', krr_cv.best_params_)\n",
    "krr_base = krr_cv.best_estimator_"
   ]
  },
  {
   "cell_type": "code",
   "execution_count": 148,
   "metadata": {
    "ExecuteTime": {
     "end_time": "2019-07-29T14:21:23.508280Z",
     "start_time": "2019-07-29T14:21:23.454772Z"
    }
   },
   "outputs": [
    {
     "ename": "AttributeError",
     "evalue": "'dict' object has no attribute 'feature_importance_'",
     "output_type": "error",
     "traceback": [
      "\u001b[0;31m---------------------------------------------------------------------------\u001b[0m",
      "\u001b[0;31mAttributeError\u001b[0m                            Traceback (most recent call last)",
      "\u001b[0;32m<ipython-input-148-74fd98b1d62b>\u001b[0m in \u001b[0;36m<module>\u001b[0;34m\u001b[0m\n\u001b[0;32m----> 1\u001b[0;31m \u001b[0mkrr_cv\u001b[0m\u001b[0;34m.\u001b[0m\u001b[0mbest_params_\u001b[0m\u001b[0;34m.\u001b[0m\u001b[0mfeature_importance_\u001b[0m\u001b[0;34m\u001b[0m\u001b[0;34m\u001b[0m\u001b[0m\n\u001b[0m",
      "\u001b[0;31mAttributeError\u001b[0m: 'dict' object has no attribute 'feature_importance_'"
     ]
    }
   ],
   "source": []
  },
  {
   "cell_type": "code",
   "execution_count": 139,
   "metadata": {
    "ExecuteTime": {
     "end_time": "2019-07-29T13:46:30.432163Z",
     "start_time": "2019-07-29T13:46:30.377015Z"
    }
   },
   "outputs": [
    {
     "ename": "AttributeError",
     "evalue": "'KernelRidge' object has no attribute 'feature_importance'",
     "output_type": "error",
     "traceback": [
      "\u001b[0;31m---------------------------------------------------------------------------\u001b[0m",
      "\u001b[0;31mAttributeError\u001b[0m                            Traceback (most recent call last)",
      "\u001b[0;32m<ipython-input-139-edda1ecc5fc8>\u001b[0m in \u001b[0;36m<module>\u001b[0;34m\u001b[0m\n\u001b[0;32m----> 1\u001b[0;31m \u001b[0mkrr_cv\u001b[0m\u001b[0;34m.\u001b[0m\u001b[0mbest_estimator_\u001b[0m\u001b[0;34m.\u001b[0m\u001b[0mfeature_importance\u001b[0m\u001b[0;34m(\u001b[0m\u001b[0;34m)\u001b[0m\u001b[0;34m\u001b[0m\u001b[0;34m\u001b[0m\u001b[0m\n\u001b[0m",
      "\u001b[0;31mAttributeError\u001b[0m: 'KernelRidge' object has no attribute 'feature_importance'"
     ]
    }
   ],
   "source": [
    "feature_importance = tree_model.feature_importances_\n",
    "print([t[1] for t in zip(feature_importance, train.columns) if t[0]>0])\n",
    "feature_importance"
   ]
  },
  {
   "cell_type": "markdown",
   "metadata": {},
   "source": [
    "### CatBoosting"
   ]
  },
  {
   "cell_type": "code",
   "execution_count": 214,
   "metadata": {
    "ExecuteTime": {
     "end_time": "2019-07-29T17:20:04.319949Z",
     "start_time": "2019-07-29T16:20:43.317736Z"
    }
   },
   "outputs": [
    {
     "name": "stdout",
     "output_type": "stream",
     "text": [
      "Fitting 3 folds for each of 300 candidates, totalling 900 fits\n"
     ]
    },
    {
     "name": "stderr",
     "output_type": "stream",
     "text": [
      "[Parallel(n_jobs=-1)]: Using backend LokyBackend with 4 concurrent workers.\n",
      "[Parallel(n_jobs=-1)]: Done  42 tasks      | elapsed:  2.9min\n",
      "[Parallel(n_jobs=-1)]: Done 192 tasks      | elapsed: 13.0min\n",
      "[Parallel(n_jobs=-1)]: Done 442 tasks      | elapsed: 30.6min\n",
      "[Parallel(n_jobs=-1)]: Done 792 tasks      | elapsed: 53.2min\n",
      "[Parallel(n_jobs=-1)]: Done 900 out of 900 | elapsed: 59.3min finished\n"
     ]
    },
    {
     "name": "stdout",
     "output_type": "stream",
     "text": [
      "0:\tlearn: 1.9103004\ttotal: 7.69ms\tremaining: 6.14s\n",
      "1:\tlearn: 0.4375935\ttotal: 10.9ms\tremaining: 4.34s\n",
      "2:\tlearn: 0.2942512\ttotal: 13.4ms\tremaining: 3.56s\n",
      "3:\tlearn: 0.2780160\ttotal: 17.9ms\tremaining: 3.56s\n",
      "4:\tlearn: 0.2740042\ttotal: 23.1ms\tremaining: 3.67s\n",
      "5:\tlearn: 0.2464557\ttotal: 27.7ms\tremaining: 3.66s\n",
      "6:\tlearn: 0.2426296\ttotal: 30.6ms\tremaining: 3.47s\n",
      "7:\tlearn: 0.2310029\ttotal: 33.3ms\tremaining: 3.3s\n",
      "8:\tlearn: 0.2219986\ttotal: 35.9ms\tremaining: 3.15s\n",
      "9:\tlearn: 0.2202195\ttotal: 38.3ms\tremaining: 3.03s\n",
      "10:\tlearn: 0.2130452\ttotal: 40.5ms\tremaining: 2.91s\n",
      "11:\tlearn: 0.2128646\ttotal: 42.8ms\tremaining: 2.81s\n",
      "12:\tlearn: 0.2025737\ttotal: 45ms\tremaining: 2.73s\n",
      "13:\tlearn: 0.2023668\ttotal: 47.8ms\tremaining: 2.68s\n",
      "14:\tlearn: 0.2011032\ttotal: 49.9ms\tremaining: 2.61s\n",
      "15:\tlearn: 0.2010842\ttotal: 52.2ms\tremaining: 2.56s\n",
      "16:\tlearn: 0.2010837\ttotal: 54.5ms\tremaining: 2.51s\n",
      "17:\tlearn: 0.1935168\ttotal: 56.8ms\tremaining: 2.47s\n",
      "18:\tlearn: 0.1854817\ttotal: 59.2ms\tremaining: 2.44s\n",
      "19:\tlearn: 0.1812190\ttotal: 61.4ms\tremaining: 2.39s\n",
      "20:\tlearn: 0.1797032\ttotal: 63.5ms\tremaining: 2.36s\n",
      "21:\tlearn: 0.1795443\ttotal: 65.8ms\tremaining: 2.33s\n",
      "22:\tlearn: 0.1782477\ttotal: 67.9ms\tremaining: 2.29s\n",
      "23:\tlearn: 0.1782458\ttotal: 70.3ms\tremaining: 2.27s\n",
      "24:\tlearn: 0.1776908\ttotal: 72.6ms\tremaining: 2.25s\n",
      "25:\tlearn: 0.1728024\ttotal: 74.9ms\tremaining: 2.23s\n",
      "26:\tlearn: 0.1726105\ttotal: 77ms\tremaining: 2.21s\n",
      "27:\tlearn: 0.1695397\ttotal: 80.1ms\tremaining: 2.21s\n",
      "28:\tlearn: 0.1693162\ttotal: 82.5ms\tremaining: 2.19s\n",
      "29:\tlearn: 0.1673689\ttotal: 84.9ms\tremaining: 2.18s\n",
      "30:\tlearn: 0.1663275\ttotal: 87.2ms\tremaining: 2.16s\n",
      "31:\tlearn: 0.1651231\ttotal: 89.4ms\tremaining: 2.14s\n",
      "32:\tlearn: 0.1646827\ttotal: 92ms\tremaining: 2.14s\n",
      "33:\tlearn: 0.1646824\ttotal: 94.8ms\tremaining: 2.13s\n",
      "34:\tlearn: 0.1637563\ttotal: 98.1ms\tremaining: 2.14s\n",
      "35:\tlearn: 0.1635120\ttotal: 104ms\tremaining: 2.21s\n",
      "36:\tlearn: 0.1613367\ttotal: 110ms\tremaining: 2.26s\n",
      "37:\tlearn: 0.1611412\ttotal: 115ms\tremaining: 2.31s\n",
      "38:\tlearn: 0.1607360\ttotal: 118ms\tremaining: 2.3s\n",
      "39:\tlearn: 0.1592408\ttotal: 121ms\tremaining: 2.29s\n",
      "40:\tlearn: 0.1592034\ttotal: 123ms\tremaining: 2.28s\n",
      "41:\tlearn: 0.1591438\ttotal: 126ms\tremaining: 2.28s\n",
      "42:\tlearn: 0.1573592\ttotal: 129ms\tremaining: 2.26s\n",
      "43:\tlearn: 0.1566448\ttotal: 131ms\tremaining: 2.25s\n",
      "44:\tlearn: 0.1562131\ttotal: 133ms\tremaining: 2.23s\n",
      "45:\tlearn: 0.1559933\ttotal: 138ms\tremaining: 2.26s\n",
      "46:\tlearn: 0.1540279\ttotal: 140ms\tremaining: 2.25s\n",
      "47:\tlearn: 0.1527282\ttotal: 143ms\tremaining: 2.24s\n",
      "48:\tlearn: 0.1518135\ttotal: 145ms\tremaining: 2.22s\n",
      "49:\tlearn: 0.1516880\ttotal: 147ms\tremaining: 2.21s\n",
      "50:\tlearn: 0.1506396\ttotal: 150ms\tremaining: 2.21s\n",
      "51:\tlearn: 0.1494435\ttotal: 152ms\tremaining: 2.19s\n",
      "52:\tlearn: 0.1485116\ttotal: 155ms\tremaining: 2.18s\n",
      "53:\tlearn: 0.1480710\ttotal: 157ms\tremaining: 2.17s\n",
      "54:\tlearn: 0.1480702\ttotal: 160ms\tremaining: 2.16s\n",
      "55:\tlearn: 0.1470293\ttotal: 162ms\tremaining: 2.15s\n",
      "56:\tlearn: 0.1455371\ttotal: 165ms\tremaining: 2.15s\n",
      "57:\tlearn: 0.1452138\ttotal: 168ms\tremaining: 2.14s\n",
      "58:\tlearn: 0.1443498\ttotal: 170ms\tremaining: 2.14s\n",
      "59:\tlearn: 0.1434921\ttotal: 172ms\tremaining: 2.13s\n",
      "60:\tlearn: 0.1429319\ttotal: 175ms\tremaining: 2.12s\n",
      "61:\tlearn: 0.1418703\ttotal: 178ms\tremaining: 2.12s\n",
      "62:\tlearn: 0.1418672\ttotal: 181ms\tremaining: 2.12s\n",
      "63:\tlearn: 0.1404987\ttotal: 184ms\tremaining: 2.12s\n",
      "64:\tlearn: 0.1404100\ttotal: 187ms\tremaining: 2.11s\n",
      "65:\tlearn: 0.1403589\ttotal: 190ms\tremaining: 2.11s\n",
      "66:\tlearn: 0.1402810\ttotal: 192ms\tremaining: 2.1s\n",
      "67:\tlearn: 0.1392248\ttotal: 194ms\tremaining: 2.09s\n",
      "68:\tlearn: 0.1385210\ttotal: 197ms\tremaining: 2.08s\n",
      "69:\tlearn: 0.1383740\ttotal: 202ms\tremaining: 2.11s\n",
      "70:\tlearn: 0.1383214\ttotal: 205ms\tremaining: 2.1s\n",
      "71:\tlearn: 0.1371627\ttotal: 207ms\tremaining: 2.09s\n",
      "72:\tlearn: 0.1367796\ttotal: 209ms\tremaining: 2.08s\n",
      "73:\tlearn: 0.1366858\ttotal: 211ms\tremaining: 2.07s\n",
      "74:\tlearn: 0.1364728\ttotal: 214ms\tremaining: 2.06s\n",
      "75:\tlearn: 0.1359228\ttotal: 216ms\tremaining: 2.06s\n",
      "76:\tlearn: 0.1358653\ttotal: 222ms\tremaining: 2.08s\n",
      "77:\tlearn: 0.1353510\ttotal: 224ms\tremaining: 2.07s\n",
      "78:\tlearn: 0.1348814\ttotal: 226ms\tremaining: 2.06s\n",
      "79:\tlearn: 0.1336466\ttotal: 229ms\tremaining: 2.06s\n",
      "80:\tlearn: 0.1333147\ttotal: 231ms\tremaining: 2.05s\n",
      "81:\tlearn: 0.1319403\ttotal: 234ms\tremaining: 2.05s\n",
      "82:\tlearn: 0.1311216\ttotal: 236ms\tremaining: 2.04s\n",
      "83:\tlearn: 0.1305469\ttotal: 238ms\tremaining: 2.03s\n",
      "84:\tlearn: 0.1295292\ttotal: 240ms\tremaining: 2.02s\n",
      "85:\tlearn: 0.1295116\ttotal: 243ms\tremaining: 2.02s\n",
      "86:\tlearn: 0.1294921\ttotal: 246ms\tremaining: 2.02s\n",
      "87:\tlearn: 0.1294777\ttotal: 248ms\tremaining: 2.01s\n",
      "88:\tlearn: 0.1294771\ttotal: 251ms\tremaining: 2s\n",
      "89:\tlearn: 0.1292945\ttotal: 253ms\tremaining: 2s\n",
      "90:\tlearn: 0.1291332\ttotal: 256ms\tremaining: 1.99s\n",
      "91:\tlearn: 0.1287817\ttotal: 258ms\tremaining: 1.99s\n",
      "92:\tlearn: 0.1283327\ttotal: 260ms\tremaining: 1.98s\n",
      "93:\tlearn: 0.1282744\ttotal: 262ms\tremaining: 1.97s\n",
      "94:\tlearn: 0.1271584\ttotal: 265ms\tremaining: 1.96s\n",
      "95:\tlearn: 0.1268669\ttotal: 267ms\tremaining: 1.96s\n",
      "96:\tlearn: 0.1268533\ttotal: 270ms\tremaining: 1.95s\n",
      "97:\tlearn: 0.1267959\ttotal: 273ms\tremaining: 1.95s\n",
      "98:\tlearn: 0.1265027\ttotal: 275ms\tremaining: 1.95s\n",
      "99:\tlearn: 0.1264274\ttotal: 278ms\tremaining: 1.95s\n",
      "100:\tlearn: 0.1258302\ttotal: 280ms\tremaining: 1.94s\n",
      "101:\tlearn: 0.1258277\ttotal: 283ms\tremaining: 1.93s\n",
      "102:\tlearn: 0.1257279\ttotal: 285ms\tremaining: 1.93s\n",
      "103:\tlearn: 0.1252757\ttotal: 288ms\tremaining: 1.93s\n",
      "104:\tlearn: 0.1252726\ttotal: 290ms\tremaining: 1.92s\n",
      "105:\tlearn: 0.1244606\ttotal: 293ms\tremaining: 1.92s\n",
      "106:\tlearn: 0.1243104\ttotal: 295ms\tremaining: 1.91s\n",
      "107:\tlearn: 0.1242039\ttotal: 297ms\tremaining: 1.9s\n",
      "108:\tlearn: 0.1241906\ttotal: 300ms\tremaining: 1.9s\n",
      "109:\tlearn: 0.1237019\ttotal: 302ms\tremaining: 1.89s\n",
      "110:\tlearn: 0.1230211\ttotal: 304ms\tremaining: 1.89s\n",
      "111:\tlearn: 0.1229383\ttotal: 307ms\tremaining: 1.88s\n",
      "112:\tlearn: 0.1229342\ttotal: 309ms\tremaining: 1.88s\n",
      "113:\tlearn: 0.1227830\ttotal: 311ms\tremaining: 1.87s\n",
      "114:\tlearn: 0.1227822\ttotal: 313ms\tremaining: 1.87s\n",
      "115:\tlearn: 0.1223037\ttotal: 316ms\tremaining: 1.86s\n",
      "116:\tlearn: 0.1217906\ttotal: 318ms\tremaining: 1.85s\n",
      "117:\tlearn: 0.1210834\ttotal: 321ms\tremaining: 1.85s\n",
      "118:\tlearn: 0.1200784\ttotal: 323ms\tremaining: 1.85s\n",
      "119:\tlearn: 0.1199180\ttotal: 326ms\tremaining: 1.84s\n",
      "120:\tlearn: 0.1197880\ttotal: 328ms\tremaining: 1.84s\n",
      "121:\tlearn: 0.1196837\ttotal: 331ms\tremaining: 1.84s\n",
      "122:\tlearn: 0.1196064\ttotal: 333ms\tremaining: 1.83s\n",
      "123:\tlearn: 0.1191140\ttotal: 335ms\tremaining: 1.83s\n",
      "124:\tlearn: 0.1190733\ttotal: 338ms\tremaining: 1.82s\n",
      "125:\tlearn: 0.1189406\ttotal: 341ms\tremaining: 1.82s\n",
      "126:\tlearn: 0.1187147\ttotal: 343ms\tremaining: 1.82s\n",
      "127:\tlearn: 0.1186442\ttotal: 346ms\tremaining: 1.81s\n",
      "128:\tlearn: 0.1186396\ttotal: 348ms\tremaining: 1.81s\n",
      "129:\tlearn: 0.1184642\ttotal: 351ms\tremaining: 1.81s\n",
      "130:\tlearn: 0.1182614\ttotal: 353ms\tremaining: 1.8s\n",
      "131:\tlearn: 0.1182551\ttotal: 356ms\tremaining: 1.8s\n",
      "132:\tlearn: 0.1180179\ttotal: 358ms\tremaining: 1.8s\n",
      "133:\tlearn: 0.1179897\ttotal: 361ms\tremaining: 1.79s\n",
      "134:\tlearn: 0.1179498\ttotal: 363ms\tremaining: 1.79s\n",
      "135:\tlearn: 0.1179488\ttotal: 366ms\tremaining: 1.78s\n",
      "136:\tlearn: 0.1178529\ttotal: 369ms\tremaining: 1.78s\n",
      "137:\tlearn: 0.1178503\ttotal: 371ms\tremaining: 1.78s\n",
      "138:\tlearn: 0.1175166\ttotal: 373ms\tremaining: 1.77s\n",
      "139:\tlearn: 0.1173507\ttotal: 376ms\tremaining: 1.77s\n",
      "140:\tlearn: 0.1172023\ttotal: 378ms\tremaining: 1.77s\n",
      "141:\tlearn: 0.1171809\ttotal: 380ms\tremaining: 1.76s\n",
      "142:\tlearn: 0.1169907\ttotal: 383ms\tremaining: 1.76s\n",
      "143:\tlearn: 0.1168334\ttotal: 385ms\tremaining: 1.75s\n",
      "144:\tlearn: 0.1166987\ttotal: 388ms\tremaining: 1.75s\n",
      "145:\tlearn: 0.1164933\ttotal: 390ms\tremaining: 1.75s\n",
      "146:\tlearn: 0.1162538\ttotal: 393ms\tremaining: 1.74s\n",
      "147:\tlearn: 0.1160071\ttotal: 401ms\tremaining: 1.76s\n",
      "148:\tlearn: 0.1151931\ttotal: 404ms\tremaining: 1.76s\n",
      "149:\tlearn: 0.1151822\ttotal: 406ms\tremaining: 1.76s\n",
      "150:\tlearn: 0.1151781\ttotal: 412ms\tremaining: 1.77s\n",
      "151:\tlearn: 0.1148606\ttotal: 414ms\tremaining: 1.76s\n",
      "152:\tlearn: 0.1144637\ttotal: 417ms\tremaining: 1.76s\n",
      "153:\tlearn: 0.1144553\ttotal: 419ms\tremaining: 1.76s\n",
      "154:\tlearn: 0.1143275\ttotal: 421ms\tremaining: 1.75s\n",
      "155:\tlearn: 0.1142906\ttotal: 424ms\tremaining: 1.75s\n",
      "156:\tlearn: 0.1140851\ttotal: 426ms\tremaining: 1.75s\n",
      "157:\tlearn: 0.1140799\ttotal: 428ms\tremaining: 1.74s\n",
      "158:\tlearn: 0.1140637\ttotal: 430ms\tremaining: 1.74s\n",
      "159:\tlearn: 0.1138898\ttotal: 433ms\tremaining: 1.73s\n",
      "160:\tlearn: 0.1137234\ttotal: 435ms\tremaining: 1.73s\n",
      "161:\tlearn: 0.1137207\ttotal: 438ms\tremaining: 1.72s\n",
      "162:\tlearn: 0.1135322\ttotal: 440ms\tremaining: 1.72s\n",
      "163:\tlearn: 0.1134932\ttotal: 443ms\tremaining: 1.72s\n",
      "164:\tlearn: 0.1134704\ttotal: 445ms\tremaining: 1.71s\n",
      "165:\tlearn: 0.1134646\ttotal: 448ms\tremaining: 1.71s\n",
      "166:\tlearn: 0.1134646\ttotal: 450ms\tremaining: 1.71s\n",
      "167:\tlearn: 0.1134625\ttotal: 453ms\tremaining: 1.7s\n",
      "168:\tlearn: 0.1133253\ttotal: 456ms\tremaining: 1.7s\n",
      "169:\tlearn: 0.1132362\ttotal: 458ms\tremaining: 1.7s\n",
      "170:\tlearn: 0.1129393\ttotal: 460ms\tremaining: 1.69s\n",
      "171:\tlearn: 0.1128446\ttotal: 463ms\tremaining: 1.69s\n",
      "172:\tlearn: 0.1128416\ttotal: 465ms\tremaining: 1.69s\n",
      "173:\tlearn: 0.1128415\ttotal: 468ms\tremaining: 1.68s\n",
      "174:\tlearn: 0.1128321\ttotal: 470ms\tremaining: 1.68s\n",
      "175:\tlearn: 0.1128195\ttotal: 473ms\tremaining: 1.68s\n",
      "176:\tlearn: 0.1127069\ttotal: 475ms\tremaining: 1.67s\n",
      "177:\tlearn: 0.1127065\ttotal: 478ms\tremaining: 1.67s\n",
      "178:\tlearn: 0.1126735\ttotal: 480ms\tremaining: 1.66s\n",
      "179:\tlearn: 0.1125903\ttotal: 482ms\tremaining: 1.66s\n",
      "180:\tlearn: 0.1124231\ttotal: 484ms\tremaining: 1.66s\n",
      "181:\tlearn: 0.1123765\ttotal: 487ms\tremaining: 1.65s\n",
      "182:\tlearn: 0.1120825\ttotal: 492ms\tremaining: 1.66s\n",
      "183:\tlearn: 0.1120813\ttotal: 497ms\tremaining: 1.66s\n",
      "184:\tlearn: 0.1120671\ttotal: 501ms\tremaining: 1.67s\n",
      "185:\tlearn: 0.1118524\ttotal: 504ms\tremaining: 1.66s\n",
      "186:\tlearn: 0.1116105\ttotal: 506ms\tremaining: 1.66s\n",
      "187:\tlearn: 0.1116031\ttotal: 508ms\tremaining: 1.65s\n",
      "188:\tlearn: 0.1116029\ttotal: 512ms\tremaining: 1.65s\n",
      "189:\tlearn: 0.1115966\ttotal: 514ms\tremaining: 1.65s\n",
      "190:\tlearn: 0.1115478\ttotal: 516ms\tremaining: 1.65s\n",
      "191:\tlearn: 0.1114045\ttotal: 519ms\tremaining: 1.64s\n",
      "192:\tlearn: 0.1112014\ttotal: 521ms\tremaining: 1.64s\n",
      "193:\tlearn: 0.1111987\ttotal: 523ms\tremaining: 1.63s\n",
      "194:\tlearn: 0.1111432\ttotal: 526ms\tremaining: 1.63s\n",
      "195:\tlearn: 0.1110974\ttotal: 528ms\tremaining: 1.63s\n",
      "196:\tlearn: 0.1109764\ttotal: 531ms\tremaining: 1.62s\n",
      "197:\tlearn: 0.1109761\ttotal: 533ms\tremaining: 1.62s\n",
      "198:\tlearn: 0.1109664\ttotal: 535ms\tremaining: 1.62s\n",
      "199:\tlearn: 0.1109093\ttotal: 538ms\tremaining: 1.61s\n",
      "200:\tlearn: 0.1108937\ttotal: 540ms\tremaining: 1.61s\n",
      "201:\tlearn: 0.1108937\ttotal: 542ms\tremaining: 1.6s\n",
      "202:\tlearn: 0.1108922\ttotal: 545ms\tremaining: 1.6s\n",
      "203:\tlearn: 0.1108727\ttotal: 547ms\tremaining: 1.6s\n",
      "204:\tlearn: 0.1108643\ttotal: 550ms\tremaining: 1.59s\n",
      "205:\tlearn: 0.1108530\ttotal: 552ms\tremaining: 1.59s\n",
      "206:\tlearn: 0.1107453\ttotal: 555ms\tremaining: 1.59s\n",
      "207:\tlearn: 0.1107334\ttotal: 558ms\tremaining: 1.59s\n",
      "208:\tlearn: 0.1105662\ttotal: 560ms\tremaining: 1.58s\n",
      "209:\tlearn: 0.1104233\ttotal: 563ms\tremaining: 1.58s\n",
      "210:\tlearn: 0.1104215\ttotal: 565ms\tremaining: 1.58s\n",
      "211:\tlearn: 0.1102505\ttotal: 567ms\tremaining: 1.57s\n",
      "212:\tlearn: 0.1101264\ttotal: 570ms\tremaining: 1.57s\n",
      "213:\tlearn: 0.1100138\ttotal: 573ms\tremaining: 1.57s\n",
      "214:\tlearn: 0.1100137\ttotal: 576ms\tremaining: 1.56s\n",
      "215:\tlearn: 0.1100137\ttotal: 578ms\tremaining: 1.56s\n",
      "216:\tlearn: 0.1100082\ttotal: 580ms\tremaining: 1.56s\n"
     ]
    },
    {
     "name": "stdout",
     "output_type": "stream",
     "text": [
      "217:\tlearn: 0.1099447\ttotal: 584ms\tremaining: 1.56s\n",
      "218:\tlearn: 0.1099432\ttotal: 587ms\tremaining: 1.56s\n",
      "219:\tlearn: 0.1098481\ttotal: 590ms\tremaining: 1.55s\n",
      "220:\tlearn: 0.1098478\ttotal: 592ms\tremaining: 1.55s\n",
      "221:\tlearn: 0.1095316\ttotal: 595ms\tremaining: 1.55s\n",
      "222:\tlearn: 0.1095220\ttotal: 598ms\tremaining: 1.55s\n",
      "223:\tlearn: 0.1094188\ttotal: 600ms\tremaining: 1.54s\n",
      "224:\tlearn: 0.1093660\ttotal: 602ms\tremaining: 1.54s\n",
      "225:\tlearn: 0.1092388\ttotal: 604ms\tremaining: 1.53s\n",
      "226:\tlearn: 0.1092387\ttotal: 607ms\tremaining: 1.53s\n",
      "227:\tlearn: 0.1092239\ttotal: 609ms\tremaining: 1.53s\n",
      "228:\tlearn: 0.1092197\ttotal: 611ms\tremaining: 1.52s\n",
      "229:\tlearn: 0.1091069\ttotal: 614ms\tremaining: 1.52s\n",
      "230:\tlearn: 0.1091069\ttotal: 616ms\tremaining: 1.52s\n",
      "231:\tlearn: 0.1090648\ttotal: 619ms\tremaining: 1.51s\n",
      "232:\tlearn: 0.1090476\ttotal: 621ms\tremaining: 1.51s\n",
      "233:\tlearn: 0.1090467\ttotal: 624ms\tremaining: 1.51s\n",
      "234:\tlearn: 0.1089297\ttotal: 626ms\tremaining: 1.5s\n",
      "235:\tlearn: 0.1089094\ttotal: 629ms\tremaining: 1.5s\n",
      "236:\tlearn: 0.1088734\ttotal: 631ms\tremaining: 1.5s\n",
      "237:\tlearn: 0.1088734\ttotal: 633ms\tremaining: 1.5s\n",
      "238:\tlearn: 0.1088005\ttotal: 636ms\tremaining: 1.49s\n",
      "239:\tlearn: 0.1087961\ttotal: 638ms\tremaining: 1.49s\n",
      "240:\tlearn: 0.1087960\ttotal: 640ms\tremaining: 1.48s\n",
      "241:\tlearn: 0.1086039\ttotal: 642ms\tremaining: 1.48s\n",
      "242:\tlearn: 0.1086038\ttotal: 645ms\tremaining: 1.48s\n",
      "243:\tlearn: 0.1085867\ttotal: 648ms\tremaining: 1.48s\n",
      "244:\tlearn: 0.1085094\ttotal: 650ms\tremaining: 1.47s\n",
      "245:\tlearn: 0.1082339\ttotal: 653ms\tremaining: 1.47s\n",
      "246:\tlearn: 0.1082082\ttotal: 656ms\tremaining: 1.47s\n",
      "247:\tlearn: 0.1081775\ttotal: 658ms\tremaining: 1.47s\n",
      "248:\tlearn: 0.1081525\ttotal: 661ms\tremaining: 1.46s\n",
      "249:\tlearn: 0.1080938\ttotal: 664ms\tremaining: 1.46s\n",
      "250:\tlearn: 0.1080459\ttotal: 666ms\tremaining: 1.46s\n",
      "251:\tlearn: 0.1080034\ttotal: 668ms\tremaining: 1.45s\n",
      "252:\tlearn: 0.1079847\ttotal: 671ms\tremaining: 1.45s\n",
      "253:\tlearn: 0.1079833\ttotal: 673ms\tremaining: 1.45s\n",
      "254:\tlearn: 0.1079429\ttotal: 675ms\tremaining: 1.44s\n",
      "255:\tlearn: 0.1078445\ttotal: 677ms\tremaining: 1.44s\n",
      "256:\tlearn: 0.1078433\ttotal: 680ms\tremaining: 1.44s\n",
      "257:\tlearn: 0.1078273\ttotal: 682ms\tremaining: 1.43s\n",
      "258:\tlearn: 0.1076709\ttotal: 685ms\tremaining: 1.43s\n",
      "259:\tlearn: 0.1076619\ttotal: 687ms\tremaining: 1.43s\n",
      "260:\tlearn: 0.1076298\ttotal: 690ms\tremaining: 1.42s\n",
      "261:\tlearn: 0.1075856\ttotal: 692ms\tremaining: 1.42s\n",
      "262:\tlearn: 0.1075848\ttotal: 695ms\tremaining: 1.42s\n",
      "263:\tlearn: 0.1075820\ttotal: 698ms\tremaining: 1.42s\n",
      "264:\tlearn: 0.1075552\ttotal: 700ms\tremaining: 1.41s\n",
      "265:\tlearn: 0.1075527\ttotal: 702ms\tremaining: 1.41s\n",
      "266:\tlearn: 0.1075523\ttotal: 705ms\tremaining: 1.41s\n",
      "267:\tlearn: 0.1075500\ttotal: 707ms\tremaining: 1.4s\n",
      "268:\tlearn: 0.1075483\ttotal: 710ms\tremaining: 1.4s\n",
      "269:\tlearn: 0.1075482\ttotal: 712ms\tremaining: 1.4s\n",
      "270:\tlearn: 0.1075171\ttotal: 714ms\tremaining: 1.39s\n",
      "271:\tlearn: 0.1075153\ttotal: 716ms\tremaining: 1.39s\n",
      "272:\tlearn: 0.1073681\ttotal: 719ms\tremaining: 1.39s\n",
      "273:\tlearn: 0.1073628\ttotal: 721ms\tremaining: 1.38s\n",
      "274:\tlearn: 0.1072883\ttotal: 724ms\tremaining: 1.38s\n",
      "275:\tlearn: 0.1072866\ttotal: 727ms\tremaining: 1.38s\n",
      "276:\tlearn: 0.1072794\ttotal: 729ms\tremaining: 1.38s\n",
      "277:\tlearn: 0.1071840\ttotal: 731ms\tremaining: 1.37s\n",
      "278:\tlearn: 0.1071838\ttotal: 734ms\tremaining: 1.37s\n",
      "279:\tlearn: 0.1071322\ttotal: 736ms\tremaining: 1.37s\n",
      "280:\tlearn: 0.1071109\ttotal: 738ms\tremaining: 1.36s\n",
      "281:\tlearn: 0.1070798\ttotal: 740ms\tremaining: 1.36s\n",
      "282:\tlearn: 0.1070797\ttotal: 743ms\tremaining: 1.36s\n",
      "283:\tlearn: 0.1069750\ttotal: 745ms\tremaining: 1.35s\n",
      "284:\tlearn: 0.1068433\ttotal: 747ms\tremaining: 1.35s\n",
      "285:\tlearn: 0.1068432\ttotal: 749ms\tremaining: 1.35s\n",
      "286:\tlearn: 0.1067990\ttotal: 751ms\tremaining: 1.34s\n",
      "287:\tlearn: 0.1067957\ttotal: 754ms\tremaining: 1.34s\n",
      "288:\tlearn: 0.1067340\ttotal: 756ms\tremaining: 1.34s\n",
      "289:\tlearn: 0.1065168\ttotal: 758ms\tremaining: 1.33s\n",
      "290:\tlearn: 0.1065112\ttotal: 760ms\tremaining: 1.33s\n",
      "291:\tlearn: 0.1065112\ttotal: 763ms\tremaining: 1.33s\n",
      "292:\tlearn: 0.1064771\ttotal: 765ms\tremaining: 1.32s\n",
      "293:\tlearn: 0.1064771\ttotal: 768ms\tremaining: 1.32s\n",
      "294:\tlearn: 0.1064726\ttotal: 770ms\tremaining: 1.32s\n",
      "295:\tlearn: 0.1064713\ttotal: 772ms\tremaining: 1.31s\n",
      "296:\tlearn: 0.1064515\ttotal: 778ms\tremaining: 1.32s\n",
      "297:\tlearn: 0.1064345\ttotal: 781ms\tremaining: 1.31s\n",
      "298:\tlearn: 0.1064321\ttotal: 783ms\tremaining: 1.31s\n",
      "299:\tlearn: 0.1064310\ttotal: 785ms\tremaining: 1.31s\n",
      "300:\tlearn: 0.1064296\ttotal: 788ms\tremaining: 1.31s\n",
      "301:\tlearn: 0.1064296\ttotal: 790ms\tremaining: 1.3s\n",
      "302:\tlearn: 0.1064294\ttotal: 793ms\tremaining: 1.3s\n",
      "303:\tlearn: 0.1064285\ttotal: 795ms\tremaining: 1.3s\n",
      "304:\tlearn: 0.1063858\ttotal: 797ms\tremaining: 1.29s\n",
      "305:\tlearn: 0.1063739\ttotal: 800ms\tremaining: 1.29s\n",
      "306:\tlearn: 0.1063599\ttotal: 802ms\tremaining: 1.29s\n",
      "307:\tlearn: 0.1063596\ttotal: 804ms\tremaining: 1.28s\n",
      "308:\tlearn: 0.1063106\ttotal: 807ms\tremaining: 1.28s\n",
      "309:\tlearn: 0.1062496\ttotal: 809ms\tremaining: 1.28s\n",
      "310:\tlearn: 0.1060735\ttotal: 811ms\tremaining: 1.27s\n",
      "311:\tlearn: 0.1057524\ttotal: 814ms\tremaining: 1.27s\n",
      "312:\tlearn: 0.1057193\ttotal: 816ms\tremaining: 1.27s\n",
      "313:\tlearn: 0.1057175\ttotal: 818ms\tremaining: 1.27s\n",
      "314:\tlearn: 0.1057150\ttotal: 820ms\tremaining: 1.26s\n",
      "315:\tlearn: 0.1055628\ttotal: 823ms\tremaining: 1.26s\n",
      "316:\tlearn: 0.1055623\ttotal: 825ms\tremaining: 1.26s\n",
      "317:\tlearn: 0.1055493\ttotal: 827ms\tremaining: 1.25s\n",
      "318:\tlearn: 0.1054956\ttotal: 829ms\tremaining: 1.25s\n",
      "319:\tlearn: 0.1054923\ttotal: 832ms\tremaining: 1.25s\n",
      "320:\tlearn: 0.1054865\ttotal: 835ms\tremaining: 1.25s\n",
      "321:\tlearn: 0.1054863\ttotal: 838ms\tremaining: 1.24s\n",
      "322:\tlearn: 0.1054563\ttotal: 840ms\tremaining: 1.24s\n",
      "323:\tlearn: 0.1054377\ttotal: 842ms\tremaining: 1.24s\n",
      "324:\tlearn: 0.1052539\ttotal: 845ms\tremaining: 1.23s\n",
      "325:\tlearn: 0.1052038\ttotal: 847ms\tremaining: 1.23s\n",
      "326:\tlearn: 0.1052019\ttotal: 850ms\tremaining: 1.23s\n",
      "327:\tlearn: 0.1052014\ttotal: 852ms\tremaining: 1.23s\n",
      "328:\tlearn: 0.1051762\ttotal: 855ms\tremaining: 1.22s\n",
      "329:\tlearn: 0.1051714\ttotal: 857ms\tremaining: 1.22s\n",
      "330:\tlearn: 0.1050434\ttotal: 859ms\tremaining: 1.22s\n",
      "331:\tlearn: 0.1050432\ttotal: 861ms\tremaining: 1.21s\n",
      "332:\tlearn: 0.1050430\ttotal: 864ms\tremaining: 1.21s\n",
      "333:\tlearn: 0.1050413\ttotal: 866ms\tremaining: 1.21s\n",
      "334:\tlearn: 0.1049917\ttotal: 869ms\tremaining: 1.21s\n",
      "335:\tlearn: 0.1049418\ttotal: 871ms\tremaining: 1.2s\n",
      "336:\tlearn: 0.1049328\ttotal: 874ms\tremaining: 1.2s\n",
      "337:\tlearn: 0.1049272\ttotal: 876ms\tremaining: 1.2s\n",
      "338:\tlearn: 0.1048978\ttotal: 878ms\tremaining: 1.19s\n",
      "339:\tlearn: 0.1048426\ttotal: 881ms\tremaining: 1.19s\n",
      "340:\tlearn: 0.1048327\ttotal: 883ms\tremaining: 1.19s\n",
      "341:\tlearn: 0.1048327\ttotal: 885ms\tremaining: 1.19s\n",
      "342:\tlearn: 0.1048135\ttotal: 888ms\tremaining: 1.18s\n",
      "343:\tlearn: 0.1048124\ttotal: 890ms\tremaining: 1.18s\n",
      "344:\tlearn: 0.1048121\ttotal: 893ms\tremaining: 1.18s\n",
      "345:\tlearn: 0.1048114\ttotal: 895ms\tremaining: 1.17s\n",
      "346:\tlearn: 0.1048094\ttotal: 897ms\tremaining: 1.17s\n",
      "347:\tlearn: 0.1048072\ttotal: 900ms\tremaining: 1.17s\n",
      "348:\tlearn: 0.1047668\ttotal: 902ms\tremaining: 1.17s\n",
      "349:\tlearn: 0.1047507\ttotal: 904ms\tremaining: 1.16s\n",
      "350:\tlearn: 0.1047503\ttotal: 906ms\tremaining: 1.16s\n",
      "351:\tlearn: 0.1045335\ttotal: 908ms\tremaining: 1.16s\n",
      "352:\tlearn: 0.1045334\ttotal: 911ms\tremaining: 1.15s\n",
      "353:\tlearn: 0.1044998\ttotal: 914ms\tremaining: 1.15s\n",
      "354:\tlearn: 0.1044534\ttotal: 916ms\tremaining: 1.15s\n",
      "355:\tlearn: 0.1044499\ttotal: 918ms\tremaining: 1.15s\n",
      "356:\tlearn: 0.1044458\ttotal: 921ms\tremaining: 1.14s\n",
      "357:\tlearn: 0.1044450\ttotal: 923ms\tremaining: 1.14s\n",
      "358:\tlearn: 0.1044449\ttotal: 925ms\tremaining: 1.14s\n",
      "359:\tlearn: 0.1044002\ttotal: 927ms\tremaining: 1.13s\n",
      "360:\tlearn: 0.1042699\ttotal: 930ms\tremaining: 1.13s\n",
      "361:\tlearn: 0.1042695\ttotal: 932ms\tremaining: 1.13s\n",
      "362:\tlearn: 0.1042325\ttotal: 934ms\tremaining: 1.12s\n",
      "363:\tlearn: 0.1042325\ttotal: 937ms\tremaining: 1.12s\n",
      "364:\tlearn: 0.1042324\ttotal: 939ms\tremaining: 1.12s\n",
      "365:\tlearn: 0.1040770\ttotal: 941ms\tremaining: 1.12s\n",
      "366:\tlearn: 0.1040269\ttotal: 943ms\tremaining: 1.11s\n",
      "367:\tlearn: 0.1040258\ttotal: 946ms\tremaining: 1.11s\n",
      "368:\tlearn: 0.1040255\ttotal: 948ms\tremaining: 1.11s\n",
      "369:\tlearn: 0.1040132\ttotal: 951ms\tremaining: 1.1s\n",
      "370:\tlearn: 0.1040109\ttotal: 953ms\tremaining: 1.1s\n",
      "371:\tlearn: 0.1040106\ttotal: 955ms\tremaining: 1.1s\n",
      "372:\tlearn: 0.1039854\ttotal: 958ms\tremaining: 1.1s\n",
      "373:\tlearn: 0.1039439\ttotal: 960ms\tremaining: 1.09s\n",
      "374:\tlearn: 0.1038780\ttotal: 962ms\tremaining: 1.09s\n",
      "375:\tlearn: 0.1038720\ttotal: 965ms\tremaining: 1.09s\n"
     ]
    },
    {
     "name": "stdout",
     "output_type": "stream",
     "text": [
      "376:\tlearn: 0.1038383\ttotal: 969ms\tremaining: 1.09s\n",
      "377:\tlearn: 0.1038340\ttotal: 972ms\tremaining: 1.08s\n",
      "378:\tlearn: 0.1037688\ttotal: 974ms\tremaining: 1.08s\n",
      "379:\tlearn: 0.1037318\ttotal: 977ms\tremaining: 1.08s\n",
      "380:\tlearn: 0.1037305\ttotal: 979ms\tremaining: 1.08s\n",
      "381:\tlearn: 0.1036958\ttotal: 982ms\tremaining: 1.07s\n",
      "382:\tlearn: 0.1036942\ttotal: 984ms\tremaining: 1.07s\n",
      "383:\tlearn: 0.1036401\ttotal: 987ms\tremaining: 1.07s\n",
      "384:\tlearn: 0.1036305\ttotal: 990ms\tremaining: 1.07s\n",
      "385:\tlearn: 0.1035970\ttotal: 992ms\tremaining: 1.06s\n",
      "386:\tlearn: 0.1035919\ttotal: 994ms\tremaining: 1.06s\n",
      "387:\tlearn: 0.1035832\ttotal: 996ms\tremaining: 1.06s\n",
      "388:\tlearn: 0.1035734\ttotal: 999ms\tremaining: 1.05s\n",
      "389:\tlearn: 0.1035729\ttotal: 1s\tremaining: 1.05s\n",
      "390:\tlearn: 0.1035669\ttotal: 1s\tremaining: 1.05s\n",
      "391:\tlearn: 0.1035197\ttotal: 1s\tremaining: 1.05s\n",
      "392:\tlearn: 0.1035193\ttotal: 1.01s\tremaining: 1.04s\n",
      "393:\tlearn: 0.1035193\ttotal: 1.01s\tremaining: 1.04s\n",
      "394:\tlearn: 0.1035193\ttotal: 1.01s\tremaining: 1.04s\n",
      "395:\tlearn: 0.1035129\ttotal: 1.01s\tremaining: 1.03s\n",
      "396:\tlearn: 0.1035128\ttotal: 1.02s\tremaining: 1.03s\n",
      "397:\tlearn: 0.1035091\ttotal: 1.02s\tremaining: 1.03s\n",
      "398:\tlearn: 0.1035064\ttotal: 1.02s\tremaining: 1.03s\n",
      "399:\tlearn: 0.1035062\ttotal: 1.02s\tremaining: 1.02s\n",
      "400:\tlearn: 0.1035053\ttotal: 1.03s\tremaining: 1.02s\n",
      "401:\tlearn: 0.1035041\ttotal: 1.03s\tremaining: 1.02s\n",
      "402:\tlearn: 0.1034437\ttotal: 1.03s\tremaining: 1.02s\n",
      "403:\tlearn: 0.1034431\ttotal: 1.03s\tremaining: 1.01s\n",
      "404:\tlearn: 0.1034220\ttotal: 1.04s\tremaining: 1.01s\n",
      "405:\tlearn: 0.1034211\ttotal: 1.04s\tremaining: 1.01s\n",
      "406:\tlearn: 0.1034171\ttotal: 1.04s\tremaining: 1s\n",
      "407:\tlearn: 0.1034166\ttotal: 1.04s\tremaining: 1s\n",
      "408:\tlearn: 0.1034163\ttotal: 1.04s\tremaining: 1000ms\n",
      "409:\tlearn: 0.1034039\ttotal: 1.05s\tremaining: 997ms\n",
      "410:\tlearn: 0.1034034\ttotal: 1.05s\tremaining: 994ms\n",
      "411:\tlearn: 0.1033549\ttotal: 1.05s\tremaining: 991ms\n",
      "412:\tlearn: 0.1033359\ttotal: 1.05s\tremaining: 989ms\n",
      "413:\tlearn: 0.1033254\ttotal: 1.06s\tremaining: 986ms\n",
      "414:\tlearn: 0.1033192\ttotal: 1.06s\tremaining: 983ms\n",
      "415:\tlearn: 0.1033095\ttotal: 1.06s\tremaining: 980ms\n",
      "416:\tlearn: 0.1033094\ttotal: 1.06s\tremaining: 977ms\n",
      "417:\tlearn: 0.1033017\ttotal: 1.07s\tremaining: 975ms\n",
      "418:\tlearn: 0.1033016\ttotal: 1.07s\tremaining: 973ms\n",
      "419:\tlearn: 0.1033016\ttotal: 1.07s\tremaining: 970ms\n",
      "420:\tlearn: 0.1032985\ttotal: 1.08s\tremaining: 972ms\n",
      "421:\tlearn: 0.1032984\ttotal: 1.09s\tremaining: 974ms\n",
      "422:\tlearn: 0.1032979\ttotal: 1.09s\tremaining: 976ms\n",
      "423:\tlearn: 0.1032664\ttotal: 1.1s\tremaining: 977ms\n",
      "424:\tlearn: 0.1032659\ttotal: 1.11s\tremaining: 978ms\n",
      "425:\tlearn: 0.1031956\ttotal: 1.11s\tremaining: 976ms\n",
      "426:\tlearn: 0.1031938\ttotal: 1.11s\tremaining: 973ms\n",
      "427:\tlearn: 0.1031931\ttotal: 1.12s\tremaining: 970ms\n",
      "428:\tlearn: 0.1031917\ttotal: 1.12s\tremaining: 967ms\n",
      "429:\tlearn: 0.1031510\ttotal: 1.12s\tremaining: 965ms\n",
      "430:\tlearn: 0.1030779\ttotal: 1.12s\tremaining: 962ms\n",
      "431:\tlearn: 0.1030761\ttotal: 1.13s\tremaining: 959ms\n",
      "432:\tlearn: 0.1030515\ttotal: 1.13s\tremaining: 957ms\n",
      "433:\tlearn: 0.1030509\ttotal: 1.13s\tremaining: 955ms\n",
      "434:\tlearn: 0.1030403\ttotal: 1.13s\tremaining: 952ms\n",
      "435:\tlearn: 0.1030171\ttotal: 1.14s\tremaining: 949ms\n",
      "436:\tlearn: 0.1030136\ttotal: 1.14s\tremaining: 946ms\n",
      "437:\tlearn: 0.1028950\ttotal: 1.14s\tremaining: 944ms\n",
      "438:\tlearn: 0.1028950\ttotal: 1.14s\tremaining: 941ms\n",
      "439:\tlearn: 0.1028908\ttotal: 1.15s\tremaining: 938ms\n",
      "440:\tlearn: 0.1028899\ttotal: 1.15s\tremaining: 936ms\n",
      "441:\tlearn: 0.1028877\ttotal: 1.15s\tremaining: 933ms\n",
      "442:\tlearn: 0.1028838\ttotal: 1.15s\tremaining: 931ms\n",
      "443:\tlearn: 0.1028838\ttotal: 1.16s\tremaining: 928ms\n",
      "444:\tlearn: 0.1028784\ttotal: 1.16s\tremaining: 925ms\n",
      "445:\tlearn: 0.1028726\ttotal: 1.16s\tremaining: 924ms\n",
      "446:\tlearn: 0.1028707\ttotal: 1.17s\tremaining: 921ms\n",
      "447:\tlearn: 0.1028679\ttotal: 1.17s\tremaining: 918ms\n",
      "448:\tlearn: 0.1028029\ttotal: 1.17s\tremaining: 917ms\n",
      "449:\tlearn: 0.1027818\ttotal: 1.18s\tremaining: 914ms\n",
      "450:\tlearn: 0.1027783\ttotal: 1.18s\tremaining: 911ms\n",
      "451:\tlearn: 0.1027760\ttotal: 1.18s\tremaining: 908ms\n",
      "452:\tlearn: 0.1026987\ttotal: 1.18s\tremaining: 906ms\n",
      "453:\tlearn: 0.1026972\ttotal: 1.18s\tremaining: 903ms\n",
      "454:\tlearn: 0.1026655\ttotal: 1.19s\tremaining: 900ms\n",
      "455:\tlearn: 0.1026643\ttotal: 1.19s\tremaining: 897ms\n",
      "456:\tlearn: 0.1025385\ttotal: 1.19s\tremaining: 894ms\n",
      "457:\tlearn: 0.1025066\ttotal: 1.19s\tremaining: 891ms\n",
      "458:\tlearn: 0.1024956\ttotal: 1.2s\tremaining: 889ms\n",
      "459:\tlearn: 0.1024955\ttotal: 1.2s\tremaining: 886ms\n",
      "460:\tlearn: 0.1024929\ttotal: 1.2s\tremaining: 883ms\n",
      "461:\tlearn: 0.1024578\ttotal: 1.2s\tremaining: 880ms\n",
      "462:\tlearn: 0.1024426\ttotal: 1.21s\tremaining: 877ms\n",
      "463:\tlearn: 0.1024212\ttotal: 1.21s\tremaining: 875ms\n",
      "464:\tlearn: 0.1024208\ttotal: 1.21s\tremaining: 872ms\n",
      "465:\tlearn: 0.1024204\ttotal: 1.21s\tremaining: 869ms\n",
      "466:\tlearn: 0.1024189\ttotal: 1.22s\tremaining: 866ms\n",
      "467:\tlearn: 0.1024188\ttotal: 1.22s\tremaining: 864ms\n",
      "468:\tlearn: 0.1024151\ttotal: 1.22s\tremaining: 861ms\n",
      "469:\tlearn: 0.1023762\ttotal: 1.22s\tremaining: 858ms\n",
      "470:\tlearn: 0.1023759\ttotal: 1.22s\tremaining: 856ms\n",
      "471:\tlearn: 0.1023758\ttotal: 1.23s\tremaining: 853ms\n",
      "472:\tlearn: 0.1023748\ttotal: 1.23s\tremaining: 850ms\n",
      "473:\tlearn: 0.1023745\ttotal: 1.23s\tremaining: 847ms\n",
      "474:\tlearn: 0.1023745\ttotal: 1.23s\tremaining: 844ms\n",
      "475:\tlearn: 0.1023744\ttotal: 1.24s\tremaining: 842ms\n",
      "476:\tlearn: 0.1023741\ttotal: 1.24s\tremaining: 839ms\n",
      "477:\tlearn: 0.1023741\ttotal: 1.24s\tremaining: 836ms\n",
      "478:\tlearn: 0.1023579\ttotal: 1.24s\tremaining: 834ms\n",
      "479:\tlearn: 0.1023561\ttotal: 1.25s\tremaining: 831ms\n",
      "480:\tlearn: 0.1023542\ttotal: 1.25s\tremaining: 828ms\n",
      "481:\tlearn: 0.1023502\ttotal: 1.25s\tremaining: 826ms\n",
      "482:\tlearn: 0.1023500\ttotal: 1.25s\tremaining: 823ms\n",
      "483:\tlearn: 0.1023320\ttotal: 1.26s\tremaining: 820ms\n",
      "484:\tlearn: 0.1023013\ttotal: 1.26s\tremaining: 817ms\n",
      "485:\tlearn: 0.1023004\ttotal: 1.26s\tremaining: 814ms\n",
      "486:\tlearn: 0.1022793\ttotal: 1.26s\tremaining: 812ms\n",
      "487:\tlearn: 0.1022693\ttotal: 1.26s\tremaining: 809ms\n",
      "488:\tlearn: 0.1020926\ttotal: 1.27s\tremaining: 806ms\n",
      "489:\tlearn: 0.1020921\ttotal: 1.27s\tremaining: 803ms\n",
      "490:\tlearn: 0.1020273\ttotal: 1.27s\tremaining: 801ms\n",
      "491:\tlearn: 0.1020173\ttotal: 1.27s\tremaining: 798ms\n",
      "492:\tlearn: 0.1020015\ttotal: 1.28s\tremaining: 795ms\n",
      "493:\tlearn: 0.1019980\ttotal: 1.28s\tremaining: 793ms\n",
      "494:\tlearn: 0.1019759\ttotal: 1.28s\tremaining: 790ms\n",
      "495:\tlearn: 0.1019759\ttotal: 1.28s\tremaining: 787ms\n",
      "496:\tlearn: 0.1019749\ttotal: 1.29s\tremaining: 785ms\n",
      "497:\tlearn: 0.1019544\ttotal: 1.29s\tremaining: 782ms\n",
      "498:\tlearn: 0.1019543\ttotal: 1.29s\tremaining: 780ms\n",
      "499:\tlearn: 0.1019520\ttotal: 1.29s\tremaining: 777ms\n",
      "500:\tlearn: 0.1019478\ttotal: 1.3s\tremaining: 774ms\n",
      "501:\tlearn: 0.1019477\ttotal: 1.3s\tremaining: 772ms\n",
      "502:\tlearn: 0.1019476\ttotal: 1.3s\tremaining: 769ms\n",
      "503:\tlearn: 0.1019476\ttotal: 1.3s\tremaining: 766ms\n",
      "504:\tlearn: 0.1019468\ttotal: 1.31s\tremaining: 763ms\n",
      "505:\tlearn: 0.1019191\ttotal: 1.31s\tremaining: 761ms\n",
      "506:\tlearn: 0.1019139\ttotal: 1.31s\tremaining: 758ms\n",
      "507:\tlearn: 0.1019136\ttotal: 1.31s\tremaining: 755ms\n",
      "508:\tlearn: 0.1018587\ttotal: 1.32s\tremaining: 753ms\n",
      "509:\tlearn: 0.1018587\ttotal: 1.32s\tremaining: 750ms\n",
      "510:\tlearn: 0.1018429\ttotal: 1.32s\tremaining: 748ms\n",
      "511:\tlearn: 0.1018426\ttotal: 1.32s\tremaining: 745ms\n",
      "512:\tlearn: 0.1018404\ttotal: 1.33s\tremaining: 742ms\n",
      "513:\tlearn: 0.1018404\ttotal: 1.33s\tremaining: 740ms\n",
      "514:\tlearn: 0.1018402\ttotal: 1.33s\tremaining: 737ms\n",
      "515:\tlearn: 0.1018252\ttotal: 1.33s\tremaining: 734ms\n",
      "516:\tlearn: 0.1018069\ttotal: 1.34s\tremaining: 732ms\n",
      "517:\tlearn: 0.1018068\ttotal: 1.34s\tremaining: 729ms\n",
      "518:\tlearn: 0.1018055\ttotal: 1.34s\tremaining: 727ms\n",
      "519:\tlearn: 0.1018035\ttotal: 1.34s\tremaining: 724ms\n",
      "520:\tlearn: 0.1017969\ttotal: 1.35s\tremaining: 721ms\n",
      "521:\tlearn: 0.1017969\ttotal: 1.35s\tremaining: 719ms\n",
      "522:\tlearn: 0.1017955\ttotal: 1.36s\tremaining: 719ms\n",
      "523:\tlearn: 0.1017955\ttotal: 1.36s\tremaining: 716ms\n",
      "524:\tlearn: 0.1017954\ttotal: 1.36s\tremaining: 713ms\n",
      "525:\tlearn: 0.1017634\ttotal: 1.37s\tremaining: 713ms\n",
      "526:\tlearn: 0.1017570\ttotal: 1.38s\tremaining: 713ms\n",
      "527:\tlearn: 0.1017568\ttotal: 1.38s\tremaining: 710ms\n",
      "528:\tlearn: 0.1017563\ttotal: 1.38s\tremaining: 708ms\n",
      "529:\tlearn: 0.1017553\ttotal: 1.38s\tremaining: 705ms\n",
      "530:\tlearn: 0.1017394\ttotal: 1.39s\tremaining: 702ms\n",
      "531:\tlearn: 0.1017222\ttotal: 1.39s\tremaining: 699ms\n",
      "532:\tlearn: 0.1017054\ttotal: 1.39s\tremaining: 697ms\n",
      "533:\tlearn: 0.1017047\ttotal: 1.39s\tremaining: 694ms\n",
      "534:\tlearn: 0.1016700\ttotal: 1.4s\tremaining: 691ms\n",
      "535:\tlearn: 0.1015969\ttotal: 1.4s\tremaining: 688ms\n",
      "536:\tlearn: 0.1015887\ttotal: 1.4s\tremaining: 686ms\n",
      "537:\tlearn: 0.1015711\ttotal: 1.4s\tremaining: 683ms\n",
      "538:\tlearn: 0.1015708\ttotal: 1.41s\tremaining: 680ms\n",
      "539:\tlearn: 0.1015702\ttotal: 1.41s\tremaining: 678ms\n",
      "540:\tlearn: 0.1015702\ttotal: 1.41s\tremaining: 675ms\n",
      "541:\tlearn: 0.1015496\ttotal: 1.41s\tremaining: 672ms\n",
      "542:\tlearn: 0.1015346\ttotal: 1.41s\tremaining: 670ms\n",
      "543:\tlearn: 0.1015078\ttotal: 1.42s\tremaining: 667ms\n",
      "544:\tlearn: 0.1015076\ttotal: 1.42s\tremaining: 664ms\n",
      "545:\tlearn: 0.1014861\ttotal: 1.42s\tremaining: 661ms\n",
      "546:\tlearn: 0.1014769\ttotal: 1.42s\tremaining: 659ms\n",
      "547:\tlearn: 0.1014762\ttotal: 1.43s\tremaining: 656ms\n",
      "548:\tlearn: 0.1014730\ttotal: 1.43s\tremaining: 653ms\n",
      "549:\tlearn: 0.1014707\ttotal: 1.43s\tremaining: 650ms\n",
      "550:\tlearn: 0.1013958\ttotal: 1.43s\tremaining: 648ms\n",
      "551:\tlearn: 0.1013849\ttotal: 1.44s\tremaining: 645ms\n",
      "552:\tlearn: 0.1013818\ttotal: 1.44s\tremaining: 643ms\n",
      "553:\tlearn: 0.1013383\ttotal: 1.44s\tremaining: 640ms\n",
      "554:\tlearn: 0.1012862\ttotal: 1.44s\tremaining: 637ms\n",
      "555:\tlearn: 0.1012779\ttotal: 1.45s\tremaining: 635ms\n",
      "556:\tlearn: 0.1012731\ttotal: 1.45s\tremaining: 632ms\n",
      "557:\tlearn: 0.1012507\ttotal: 1.45s\tremaining: 629ms\n",
      "558:\tlearn: 0.1012495\ttotal: 1.45s\tremaining: 627ms\n",
      "559:\tlearn: 0.1012470\ttotal: 1.46s\tremaining: 624ms\n",
      "560:\tlearn: 0.1012469\ttotal: 1.46s\tremaining: 621ms\n",
      "561:\tlearn: 0.1012469\ttotal: 1.46s\tremaining: 619ms\n",
      "562:\tlearn: 0.1012469\ttotal: 1.46s\tremaining: 616ms\n",
      "563:\tlearn: 0.1011785\ttotal: 1.47s\tremaining: 613ms\n",
      "564:\tlearn: 0.1011524\ttotal: 1.47s\tremaining: 611ms\n",
      "565:\tlearn: 0.1011516\ttotal: 1.47s\tremaining: 608ms\n",
      "566:\tlearn: 0.1011511\ttotal: 1.47s\tremaining: 606ms\n",
      "567:\tlearn: 0.1011508\ttotal: 1.48s\tremaining: 603ms\n",
      "568:\tlearn: 0.1011099\ttotal: 1.48s\tremaining: 600ms\n",
      "569:\tlearn: 0.1009470\ttotal: 1.48s\tremaining: 598ms\n",
      "570:\tlearn: 0.1009437\ttotal: 1.48s\tremaining: 595ms\n",
      "571:\tlearn: 0.1009436\ttotal: 1.49s\tremaining: 592ms\n",
      "572:\tlearn: 0.1008223\ttotal: 1.49s\tremaining: 590ms\n",
      "573:\tlearn: 0.1008207\ttotal: 1.49s\tremaining: 587ms\n",
      "574:\tlearn: 0.1008203\ttotal: 1.49s\tremaining: 584ms\n",
      "575:\tlearn: 0.1008189\ttotal: 1.5s\tremaining: 582ms\n",
      "576:\tlearn: 0.1008184\ttotal: 1.5s\tremaining: 579ms\n",
      "577:\tlearn: 0.1008184\ttotal: 1.5s\tremaining: 576ms\n",
      "578:\tlearn: 0.1008183\ttotal: 1.5s\tremaining: 574ms\n",
      "579:\tlearn: 0.1007783\ttotal: 1.51s\tremaining: 571ms\n",
      "580:\tlearn: 0.1007491\ttotal: 1.51s\tremaining: 569ms\n",
      "581:\tlearn: 0.1007057\ttotal: 1.51s\tremaining: 566ms\n",
      "582:\tlearn: 0.1006365\ttotal: 1.51s\tremaining: 563ms\n",
      "583:\tlearn: 0.1006349\ttotal: 1.51s\tremaining: 561ms\n",
      "584:\tlearn: 0.1006349\ttotal: 1.52s\tremaining: 558ms\n",
      "585:\tlearn: 0.1006328\ttotal: 1.52s\tremaining: 555ms\n",
      "586:\tlearn: 0.1006241\ttotal: 1.52s\tremaining: 553ms\n",
      "587:\tlearn: 0.1006238\ttotal: 1.52s\tremaining: 550ms\n",
      "588:\tlearn: 0.1006215\ttotal: 1.53s\tremaining: 547ms\n",
      "589:\tlearn: 0.1006167\ttotal: 1.53s\tremaining: 545ms\n",
      "590:\tlearn: 0.1006166\ttotal: 1.53s\tremaining: 542ms\n",
      "591:\tlearn: 0.1006140\ttotal: 1.53s\tremaining: 539ms\n",
      "592:\tlearn: 0.1006030\ttotal: 1.54s\tremaining: 537ms\n"
     ]
    },
    {
     "name": "stdout",
     "output_type": "stream",
     "text": [
      "593:\tlearn: 0.1006024\ttotal: 1.54s\tremaining: 534ms\n",
      "594:\tlearn: 0.1006023\ttotal: 1.54s\tremaining: 532ms\n",
      "595:\tlearn: 0.1006001\ttotal: 1.55s\tremaining: 530ms\n",
      "596:\tlearn: 0.1006000\ttotal: 1.55s\tremaining: 527ms\n",
      "597:\tlearn: 0.1005948\ttotal: 1.55s\tremaining: 525ms\n",
      "598:\tlearn: 0.1005916\ttotal: 1.55s\tremaining: 522ms\n",
      "599:\tlearn: 0.1005914\ttotal: 1.56s\tremaining: 519ms\n",
      "600:\tlearn: 0.1005808\ttotal: 1.56s\tremaining: 517ms\n",
      "601:\tlearn: 0.1005799\ttotal: 1.56s\tremaining: 514ms\n",
      "602:\tlearn: 0.1005736\ttotal: 1.56s\tremaining: 511ms\n",
      "603:\tlearn: 0.1005735\ttotal: 1.57s\tremaining: 509ms\n",
      "604:\tlearn: 0.1005567\ttotal: 1.57s\tremaining: 506ms\n",
      "605:\tlearn: 0.1005567\ttotal: 1.57s\tremaining: 504ms\n",
      "606:\tlearn: 0.1005554\ttotal: 1.57s\tremaining: 501ms\n",
      "607:\tlearn: 0.1005476\ttotal: 1.58s\tremaining: 498ms\n",
      "608:\tlearn: 0.1005466\ttotal: 1.58s\tremaining: 495ms\n",
      "609:\tlearn: 0.1005457\ttotal: 1.58s\tremaining: 493ms\n",
      "610:\tlearn: 0.1005454\ttotal: 1.58s\tremaining: 490ms\n",
      "611:\tlearn: 0.1005454\ttotal: 1.59s\tremaining: 488ms\n",
      "612:\tlearn: 0.1005345\ttotal: 1.59s\tremaining: 485ms\n",
      "613:\tlearn: 0.1005035\ttotal: 1.59s\tremaining: 482ms\n",
      "614:\tlearn: 0.1005026\ttotal: 1.59s\tremaining: 480ms\n",
      "615:\tlearn: 0.1004597\ttotal: 1.6s\tremaining: 477ms\n",
      "616:\tlearn: 0.1004576\ttotal: 1.6s\tremaining: 474ms\n",
      "617:\tlearn: 0.1004576\ttotal: 1.6s\tremaining: 472ms\n",
      "618:\tlearn: 0.1003198\ttotal: 1.6s\tremaining: 469ms\n",
      "619:\tlearn: 0.1003196\ttotal: 1.61s\tremaining: 467ms\n",
      "620:\tlearn: 0.1003151\ttotal: 1.61s\tremaining: 464ms\n",
      "621:\tlearn: 0.1003087\ttotal: 1.61s\tremaining: 461ms\n",
      "622:\tlearn: 0.1002428\ttotal: 1.61s\tremaining: 459ms\n",
      "623:\tlearn: 0.1001876\ttotal: 1.62s\tremaining: 456ms\n",
      "624:\tlearn: 0.1001876\ttotal: 1.62s\tremaining: 453ms\n",
      "625:\tlearn: 0.1001862\ttotal: 1.62s\tremaining: 451ms\n",
      "626:\tlearn: 0.1001608\ttotal: 1.62s\tremaining: 448ms\n",
      "627:\tlearn: 0.1001500\ttotal: 1.63s\tremaining: 446ms\n",
      "628:\tlearn: 0.1001401\ttotal: 1.63s\tremaining: 443ms\n",
      "629:\tlearn: 0.1001398\ttotal: 1.63s\tremaining: 441ms\n",
      "630:\tlearn: 0.1001161\ttotal: 1.64s\tremaining: 438ms\n",
      "631:\tlearn: 0.1001159\ttotal: 1.64s\tremaining: 436ms\n",
      "632:\tlearn: 0.1001143\ttotal: 1.64s\tremaining: 433ms\n",
      "633:\tlearn: 0.1001122\ttotal: 1.64s\tremaining: 430ms\n",
      "634:\tlearn: 0.1001122\ttotal: 1.65s\tremaining: 428ms\n",
      "635:\tlearn: 0.1001061\ttotal: 1.65s\tremaining: 425ms\n",
      "636:\tlearn: 0.1000724\ttotal: 1.65s\tremaining: 422ms\n",
      "637:\tlearn: 0.1000723\ttotal: 1.65s\tremaining: 420ms\n",
      "638:\tlearn: 0.1000721\ttotal: 1.66s\tremaining: 417ms\n",
      "639:\tlearn: 0.1000718\ttotal: 1.66s\tremaining: 414ms\n",
      "640:\tlearn: 0.1000715\ttotal: 1.66s\tremaining: 412ms\n",
      "641:\tlearn: 0.1000628\ttotal: 1.66s\tremaining: 409ms\n",
      "642:\tlearn: 0.1000628\ttotal: 1.66s\tremaining: 406ms\n",
      "643:\tlearn: 0.1000619\ttotal: 1.67s\tremaining: 404ms\n",
      "644:\tlearn: 0.1000231\ttotal: 1.67s\tremaining: 401ms\n",
      "645:\tlearn: 0.1000074\ttotal: 1.67s\tremaining: 398ms\n",
      "646:\tlearn: 0.1000071\ttotal: 1.67s\tremaining: 396ms\n",
      "647:\tlearn: 0.0995607\ttotal: 1.68s\tremaining: 393ms\n",
      "648:\tlearn: 0.0995605\ttotal: 1.68s\tremaining: 391ms\n",
      "649:\tlearn: 0.0995491\ttotal: 1.68s\tremaining: 388ms\n",
      "650:\tlearn: 0.0995443\ttotal: 1.68s\tremaining: 385ms\n",
      "651:\tlearn: 0.0995442\ttotal: 1.69s\tremaining: 383ms\n",
      "652:\tlearn: 0.0995441\ttotal: 1.69s\tremaining: 380ms\n",
      "653:\tlearn: 0.0995432\ttotal: 1.69s\tremaining: 377ms\n",
      "654:\tlearn: 0.0995426\ttotal: 1.69s\tremaining: 375ms\n",
      "655:\tlearn: 0.0995426\ttotal: 1.7s\tremaining: 372ms\n",
      "656:\tlearn: 0.0995240\ttotal: 1.7s\tremaining: 370ms\n",
      "657:\tlearn: 0.0994113\ttotal: 1.7s\tremaining: 367ms\n",
      "658:\tlearn: 0.0994110\ttotal: 1.7s\tremaining: 364ms\n",
      "659:\tlearn: 0.0994106\ttotal: 1.71s\tremaining: 362ms\n",
      "660:\tlearn: 0.0994065\ttotal: 1.71s\tremaining: 359ms\n",
      "661:\tlearn: 0.0994011\ttotal: 1.71s\tremaining: 356ms\n",
      "662:\tlearn: 0.0993886\ttotal: 1.71s\tremaining: 354ms\n",
      "663:\tlearn: 0.0993874\ttotal: 1.71s\tremaining: 351ms\n",
      "664:\tlearn: 0.0993872\ttotal: 1.72s\tremaining: 349ms\n",
      "665:\tlearn: 0.0993872\ttotal: 1.72s\tremaining: 346ms\n",
      "666:\tlearn: 0.0993871\ttotal: 1.72s\tremaining: 343ms\n",
      "667:\tlearn: 0.0993114\ttotal: 1.72s\tremaining: 341ms\n",
      "668:\tlearn: 0.0993093\ttotal: 1.73s\tremaining: 338ms\n",
      "669:\tlearn: 0.0992977\ttotal: 1.73s\tremaining: 335ms\n",
      "670:\tlearn: 0.0992977\ttotal: 1.73s\tremaining: 333ms\n",
      "671:\tlearn: 0.0992965\ttotal: 1.74s\tremaining: 331ms\n",
      "672:\tlearn: 0.0992963\ttotal: 1.74s\tremaining: 328ms\n",
      "673:\tlearn: 0.0992743\ttotal: 1.74s\tremaining: 326ms\n",
      "674:\tlearn: 0.0992404\ttotal: 1.74s\tremaining: 323ms\n",
      "675:\tlearn: 0.0992385\ttotal: 1.75s\tremaining: 320ms\n",
      "676:\tlearn: 0.0992379\ttotal: 1.75s\tremaining: 318ms\n",
      "677:\tlearn: 0.0992378\ttotal: 1.75s\tremaining: 315ms\n",
      "678:\tlearn: 0.0992376\ttotal: 1.75s\tremaining: 312ms\n",
      "679:\tlearn: 0.0990881\ttotal: 1.75s\tremaining: 310ms\n",
      "680:\tlearn: 0.0990865\ttotal: 1.76s\tremaining: 307ms\n",
      "681:\tlearn: 0.0990863\ttotal: 1.76s\tremaining: 304ms\n",
      "682:\tlearn: 0.0990862\ttotal: 1.76s\tremaining: 302ms\n",
      "683:\tlearn: 0.0990703\ttotal: 1.76s\tremaining: 299ms\n",
      "684:\tlearn: 0.0990616\ttotal: 1.77s\tremaining: 297ms\n",
      "685:\tlearn: 0.0990597\ttotal: 1.77s\tremaining: 294ms\n",
      "686:\tlearn: 0.0990597\ttotal: 1.77s\tremaining: 291ms\n",
      "687:\tlearn: 0.0990596\ttotal: 1.77s\tremaining: 289ms\n",
      "688:\tlearn: 0.0990594\ttotal: 1.77s\tremaining: 286ms\n",
      "689:\tlearn: 0.0990570\ttotal: 1.78s\tremaining: 284ms\n",
      "690:\tlearn: 0.0990568\ttotal: 1.78s\tremaining: 281ms\n",
      "691:\tlearn: 0.0990564\ttotal: 1.78s\tremaining: 278ms\n",
      "692:\tlearn: 0.0990564\ttotal: 1.78s\tremaining: 276ms\n",
      "693:\tlearn: 0.0990045\ttotal: 1.79s\tremaining: 273ms\n",
      "694:\tlearn: 0.0990038\ttotal: 1.79s\tremaining: 270ms\n",
      "695:\tlearn: 0.0989745\ttotal: 1.79s\tremaining: 268ms\n",
      "696:\tlearn: 0.0989724\ttotal: 1.79s\tremaining: 265ms\n",
      "697:\tlearn: 0.0989719\ttotal: 1.8s\tremaining: 263ms\n",
      "698:\tlearn: 0.0989719\ttotal: 1.8s\tremaining: 260ms\n",
      "699:\tlearn: 0.0989718\ttotal: 1.8s\tremaining: 257ms\n",
      "700:\tlearn: 0.0989656\ttotal: 1.8s\tremaining: 255ms\n",
      "701:\tlearn: 0.0989655\ttotal: 1.81s\tremaining: 252ms\n",
      "702:\tlearn: 0.0989563\ttotal: 1.81s\tremaining: 250ms\n",
      "703:\tlearn: 0.0988912\ttotal: 1.81s\tremaining: 247ms\n",
      "704:\tlearn: 0.0988909\ttotal: 1.81s\tremaining: 245ms\n",
      "705:\tlearn: 0.0988885\ttotal: 1.82s\tremaining: 242ms\n",
      "706:\tlearn: 0.0988825\ttotal: 1.82s\tremaining: 239ms\n",
      "707:\tlearn: 0.0988520\ttotal: 1.82s\tremaining: 237ms\n",
      "708:\tlearn: 0.0988520\ttotal: 1.82s\tremaining: 234ms\n",
      "709:\tlearn: 0.0988519\ttotal: 1.83s\tremaining: 232ms\n",
      "710:\tlearn: 0.0988395\ttotal: 1.83s\tremaining: 229ms\n",
      "711:\tlearn: 0.0988352\ttotal: 1.83s\tremaining: 226ms\n",
      "712:\tlearn: 0.0988314\ttotal: 1.83s\tremaining: 224ms\n",
      "713:\tlearn: 0.0988287\ttotal: 1.84s\tremaining: 221ms\n",
      "714:\tlearn: 0.0988286\ttotal: 1.84s\tremaining: 219ms\n",
      "715:\tlearn: 0.0988174\ttotal: 1.84s\tremaining: 216ms\n",
      "716:\tlearn: 0.0988174\ttotal: 1.84s\tremaining: 214ms\n",
      "717:\tlearn: 0.0988174\ttotal: 1.85s\tremaining: 211ms\n",
      "718:\tlearn: 0.0988173\ttotal: 1.85s\tremaining: 208ms\n",
      "719:\tlearn: 0.0988173\ttotal: 1.85s\tremaining: 206ms\n",
      "720:\tlearn: 0.0988173\ttotal: 1.85s\tremaining: 203ms\n",
      "721:\tlearn: 0.0988173\ttotal: 1.86s\tremaining: 201ms\n",
      "722:\tlearn: 0.0988172\ttotal: 1.86s\tremaining: 198ms\n",
      "723:\tlearn: 0.0988172\ttotal: 1.86s\tremaining: 195ms\n",
      "724:\tlearn: 0.0988122\ttotal: 1.86s\tremaining: 193ms\n",
      "725:\tlearn: 0.0988042\ttotal: 1.87s\tremaining: 190ms\n",
      "726:\tlearn: 0.0988042\ttotal: 1.87s\tremaining: 188ms\n",
      "727:\tlearn: 0.0988042\ttotal: 1.87s\tremaining: 185ms\n",
      "728:\tlearn: 0.0988042\ttotal: 1.87s\tremaining: 183ms\n",
      "729:\tlearn: 0.0988031\ttotal: 1.88s\tremaining: 180ms\n",
      "730:\tlearn: 0.0987796\ttotal: 1.88s\tremaining: 177ms\n",
      "731:\tlearn: 0.0987768\ttotal: 1.88s\tremaining: 175ms\n",
      "732:\tlearn: 0.0987768\ttotal: 1.88s\tremaining: 172ms\n",
      "733:\tlearn: 0.0987758\ttotal: 1.89s\tremaining: 170ms\n",
      "734:\tlearn: 0.0987734\ttotal: 1.89s\tremaining: 167ms\n",
      "735:\tlearn: 0.0987491\ttotal: 1.89s\tremaining: 165ms\n",
      "736:\tlearn: 0.0987456\ttotal: 1.89s\tremaining: 162ms\n",
      "737:\tlearn: 0.0987454\ttotal: 1.9s\tremaining: 159ms\n",
      "738:\tlearn: 0.0987452\ttotal: 1.9s\tremaining: 157ms\n",
      "739:\tlearn: 0.0987429\ttotal: 1.9s\tremaining: 154ms\n",
      "740:\tlearn: 0.0987414\ttotal: 1.9s\tremaining: 152ms\n",
      "741:\tlearn: 0.0986874\ttotal: 1.91s\tremaining: 149ms\n",
      "742:\tlearn: 0.0986867\ttotal: 1.91s\tremaining: 146ms\n",
      "743:\tlearn: 0.0986830\ttotal: 1.91s\tremaining: 144ms\n",
      "744:\tlearn: 0.0986721\ttotal: 1.91s\tremaining: 141ms\n",
      "745:\tlearn: 0.0986660\ttotal: 1.92s\tremaining: 139ms\n",
      "746:\tlearn: 0.0986658\ttotal: 1.92s\tremaining: 136ms\n",
      "747:\tlearn: 0.0986652\ttotal: 1.92s\tremaining: 134ms\n",
      "748:\tlearn: 0.0986457\ttotal: 1.93s\tremaining: 131ms\n",
      "749:\tlearn: 0.0986395\ttotal: 1.93s\tremaining: 129ms\n",
      "750:\tlearn: 0.0986324\ttotal: 1.93s\tremaining: 126ms\n",
      "751:\tlearn: 0.0986310\ttotal: 1.93s\tremaining: 123ms\n",
      "752:\tlearn: 0.0986285\ttotal: 1.94s\tremaining: 121ms\n",
      "753:\tlearn: 0.0986279\ttotal: 1.94s\tremaining: 118ms\n",
      "754:\tlearn: 0.0986279\ttotal: 1.94s\tremaining: 116ms\n",
      "755:\tlearn: 0.0985968\ttotal: 1.94s\tremaining: 113ms\n",
      "756:\tlearn: 0.0985953\ttotal: 1.95s\tremaining: 111ms\n",
      "757:\tlearn: 0.0985937\ttotal: 1.95s\tremaining: 108ms\n",
      "758:\tlearn: 0.0985927\ttotal: 1.95s\tremaining: 105ms\n",
      "759:\tlearn: 0.0985927\ttotal: 1.95s\tremaining: 103ms\n",
      "760:\tlearn: 0.0985822\ttotal: 1.96s\tremaining: 100ms\n",
      "761:\tlearn: 0.0985797\ttotal: 1.96s\tremaining: 97.6ms\n",
      "762:\tlearn: 0.0985782\ttotal: 1.96s\tremaining: 95.1ms\n",
      "763:\tlearn: 0.0985781\ttotal: 1.96s\tremaining: 92.5ms\n",
      "764:\tlearn: 0.0985693\ttotal: 1.97s\tremaining: 89.9ms\n",
      "765:\tlearn: 0.0985623\ttotal: 1.97s\tremaining: 87.4ms\n",
      "766:\tlearn: 0.0985578\ttotal: 1.97s\tremaining: 84.8ms\n",
      "767:\tlearn: 0.0985578\ttotal: 1.97s\tremaining: 82.2ms\n",
      "768:\tlearn: 0.0985567\ttotal: 1.98s\tremaining: 79.7ms\n",
      "769:\tlearn: 0.0985549\ttotal: 1.98s\tremaining: 77.1ms\n",
      "770:\tlearn: 0.0985539\ttotal: 1.98s\tremaining: 74.5ms\n",
      "771:\tlearn: 0.0985435\ttotal: 1.98s\tremaining: 71.9ms\n",
      "772:\tlearn: 0.0985337\ttotal: 1.99s\tremaining: 69.4ms\n",
      "773:\tlearn: 0.0985336\ttotal: 1.99s\tremaining: 66.8ms\n",
      "774:\tlearn: 0.0985336\ttotal: 1.99s\tremaining: 64.2ms\n",
      "775:\tlearn: 0.0985303\ttotal: 1.99s\tremaining: 61.6ms\n",
      "776:\tlearn: 0.0985303\ttotal: 2s\tremaining: 59.1ms\n",
      "777:\tlearn: 0.0984993\ttotal: 2s\tremaining: 56.5ms\n",
      "778:\tlearn: 0.0984991\ttotal: 2s\tremaining: 53.9ms\n",
      "779:\tlearn: 0.0984988\ttotal: 2s\tremaining: 51.4ms\n",
      "780:\tlearn: 0.0984987\ttotal: 2s\tremaining: 48.8ms\n",
      "781:\tlearn: 0.0984962\ttotal: 2.01s\tremaining: 46.2ms\n",
      "782:\tlearn: 0.0984940\ttotal: 2.01s\tremaining: 43.7ms\n",
      "783:\tlearn: 0.0984929\ttotal: 2.01s\tremaining: 41.1ms\n",
      "784:\tlearn: 0.0984164\ttotal: 2.02s\tremaining: 38.5ms\n",
      "785:\tlearn: 0.0984163\ttotal: 2.02s\tremaining: 36ms\n",
      "786:\tlearn: 0.0984158\ttotal: 2.02s\tremaining: 33.4ms\n",
      "787:\tlearn: 0.0984148\ttotal: 2.02s\tremaining: 30.8ms\n",
      "788:\tlearn: 0.0984148\ttotal: 2.03s\tremaining: 28.2ms\n",
      "789:\tlearn: 0.0983845\ttotal: 2.03s\tremaining: 25.7ms\n",
      "790:\tlearn: 0.0983844\ttotal: 2.03s\tremaining: 23.1ms\n",
      "791:\tlearn: 0.0983839\ttotal: 2.03s\tremaining: 20.6ms\n",
      "792:\tlearn: 0.0983839\ttotal: 2.04s\tremaining: 18ms\n",
      "793:\tlearn: 0.0983839\ttotal: 2.04s\tremaining: 15.4ms\n",
      "794:\tlearn: 0.0983838\ttotal: 2.04s\tremaining: 12.8ms\n",
      "795:\tlearn: 0.0983812\ttotal: 2.04s\tremaining: 10.3ms\n",
      "796:\tlearn: 0.0983772\ttotal: 2.05s\tremaining: 7.71ms\n",
      "797:\tlearn: 0.0983745\ttotal: 2.05s\tremaining: 5.14ms\n",
      "798:\tlearn: 0.0983671\ttotal: 2.05s\tremaining: 2.57ms\n",
      "799:\tlearn: 0.0983671\ttotal: 2.05s\tremaining: 0us\n"
     ]
    },
    {
     "data": {
      "text/plain": [
       "RandomizedSearchCV(cv=3, error_score='raise-deprecating',\n",
       "                   estimator=<catboost.core.CatBoostRegressor object at 0x139a78898>,\n",
       "                   iid='warn', n_iter=300, n_jobs=-1,\n",
       "                   param_distributions={'border_count': array([ 5., 10., 15., 20., 25., 30., 35., 40., 45., 50.]),\n",
       "                                        'iterations': array([ 750.,  800.,  850.,  900.,  950., 1000.]),\n",
       "                                        'l2_leaf_reg': [1, 3, 5, 7],\n",
       "                                        'learning_rate': array([0.75, 0.85, 0.95, 1.05, 1.15, 1.25])},\n",
       "                   pre_dispatch='2*n_jobs', random_state=1, refit=True,\n",
       "                   return_train_score=False, scoring='neg_mean_squared_error',\n",
       "                   verbose=1)"
      ]
     },
     "execution_count": 214,
     "metadata": {},
     "output_type": "execute_result"
    }
   ],
   "source": [
    "# Without categoricals\n",
    "\n",
    "params = {\n",
    "    'iterations': np.linspace(750, 1000, 6),\n",
    "    'learning_rate': np.round(np.linspace(0.75, 1.25, 6), 2),\n",
    "    'l2_leaf_reg': [1, 3, 5, 7],\n",
    "    'border_count': np.linspace(5, 50, 10),\n",
    "}\n",
    "\n",
    "cbr = cb.CatBoostRegressor(\n",
    "    depth=1\n",
    ")\n",
    "\n",
    "cbr_cv = RandomizedSearchCV(estimator=cbr, \n",
    "                              param_distributions=params, \n",
    "                              cv=3, verbose=1, n_iter=300,\n",
    "                              scoring='neg_mean_squared_error', \n",
    "                              n_jobs=-1, random_state=1)\n",
    "  \n",
    "cbr_cv.fit(X_train, y_train)"
   ]
  },
  {
   "cell_type": "code",
   "execution_count": 94,
   "metadata": {
    "ExecuteTime": {
     "end_time": "2019-07-29T00:36:03.376544Z",
     "start_time": "2019-07-29T00:36:03.337809Z"
    }
   },
   "outputs": [
    {
     "name": "stdout",
     "output_type": "stream",
     "text": [
      "The lowest RMSE found: 0.1259226678741986\n",
      "The best parameters found for RSCV:  {'learning_rate': 0.85, 'l2_leaf_reg': 5, 'iterations': 800.0, 'border_count': 15.0}\n"
     ]
    }
   ],
   "source": [
    "rmse(cbr_cv)\n",
    "print('The best parameters found for RSCV: ', cbr_cv.best_params_)"
   ]
  },
  {
   "cell_type": "code",
   "execution_count": 213,
   "metadata": {
    "ExecuteTime": {
     "end_time": "2019-07-29T16:20:20.282226Z",
     "start_time": "2019-07-29T16:20:20.226464Z"
    }
   },
   "outputs": [
    {
     "ename": "AttributeError",
     "evalue": "'RandomizedSearchCV' object has no attribute 'best_score_'",
     "output_type": "error",
     "traceback": [
      "\u001b[0;31m---------------------------------------------------------------------------\u001b[0m",
      "\u001b[0;31mAttributeError\u001b[0m                            Traceback (most recent call last)",
      "\u001b[0;32m<ipython-input-213-358f89c19c7f>\u001b[0m in \u001b[0;36m<module>\u001b[0;34m\u001b[0m\n\u001b[0;32m----> 1\u001b[0;31m \u001b[0mrmse\u001b[0m\u001b[0;34m(\u001b[0m\u001b[0mcbr_cv\u001b[0m\u001b[0;34m)\u001b[0m\u001b[0;34m\u001b[0m\u001b[0;34m\u001b[0m\u001b[0m\n\u001b[0m\u001b[1;32m      2\u001b[0m \u001b[0mprint\u001b[0m\u001b[0;34m(\u001b[0m\u001b[0;34m'The best parameters found for RSCV: '\u001b[0m\u001b[0;34m,\u001b[0m \u001b[0mcbr_cv\u001b[0m\u001b[0;34m.\u001b[0m\u001b[0mbest_params_\u001b[0m\u001b[0;34m)\u001b[0m\u001b[0;34m\u001b[0m\u001b[0;34m\u001b[0m\u001b[0m\n",
      "\u001b[0;32m<ipython-input-208-701f0d00be1f>\u001b[0m in \u001b[0;36mrmse\u001b[0;34m(cv)\u001b[0m\n\u001b[1;32m      4\u001b[0m     \u001b[0mUsed\u001b[0m \u001b[0;32mfor\u001b[0m \u001b[0mGridSearchCV\u001b[0m \u001b[0;32mand\u001b[0m \u001b[0mRandomizedSearchCV\u001b[0m\u001b[0;34m.\u001b[0m\u001b[0;34m\u001b[0m\u001b[0;34m\u001b[0m\u001b[0m\n\u001b[1;32m      5\u001b[0m     '''\n\u001b[0;32m----> 6\u001b[0;31m     \u001b[0mprint\u001b[0m\u001b[0;34m(\u001b[0m\u001b[0;34m'The lowest RMSE found: {}'\u001b[0m\u001b[0;34m.\u001b[0m\u001b[0mformat\u001b[0m\u001b[0;34m(\u001b[0m\u001b[0mnp\u001b[0m\u001b[0;34m.\u001b[0m\u001b[0msqrt\u001b[0m\u001b[0;34m(\u001b[0m\u001b[0mnp\u001b[0m\u001b[0;34m.\u001b[0m\u001b[0mabs\u001b[0m\u001b[0;34m(\u001b[0m\u001b[0mcv\u001b[0m\u001b[0;34m.\u001b[0m\u001b[0mbest_score_\u001b[0m\u001b[0;34m)\u001b[0m\u001b[0;34m)\u001b[0m\u001b[0;34m)\u001b[0m\u001b[0;34m)\u001b[0m\u001b[0;34m\u001b[0m\u001b[0;34m\u001b[0m\u001b[0m\n\u001b[0m\u001b[1;32m      7\u001b[0m \u001b[0;34m\u001b[0m\u001b[0m\n\u001b[1;32m      8\u001b[0m \u001b[0;34m\u001b[0m\u001b[0m\n",
      "\u001b[0;31mAttributeError\u001b[0m: 'RandomizedSearchCV' object has no attribute 'best_score_'"
     ]
    }
   ],
   "source": [
    "rmse(cbr_cv)\n",
    "print('The best parameters found for RSCV: ', cbr_cv.best_params_)"
   ]
  },
  {
   "cell_type": "code",
   "execution_count": 103,
   "metadata": {
    "ExecuteTime": {
     "end_time": "2019-07-29T01:11:16.008096Z",
     "start_time": "2019-07-29T01:11:15.959224Z"
    }
   },
   "outputs": [],
   "source": [
    "cat_idx = [0, 1, 4, 5, 6, 7, 8, 9, 10, 11, 12, 13, 14, 15,\n",
    "                   16, 17, 18, 19, 20, 21, 22, 23, 25, 26, 27, 28, 29, 30,\n",
    "                   31, 33, 37, 38, 39, 40, 51, 53, 55, 56, 57, 58, 61, 62,\n",
    "                   63, 70, 71, 74, 75, 76, 77]"
   ]
  },
  {
   "cell_type": "code",
   "execution_count": 102,
   "metadata": {
    "ExecuteTime": {
     "end_time": "2019-07-29T01:10:44.106735Z",
     "start_time": "2019-07-29T01:10:39.305660Z"
    }
   },
   "outputs": [
    {
     "name": "stdout",
     "output_type": "stream",
     "text": [
      "Fitting 3 folds for each of 300 candidates, totalling 900 fits\n"
     ]
    },
    {
     "name": "stderr",
     "output_type": "stream",
     "text": [
      "[Parallel(n_jobs=-1)]: Using backend LokyBackend with 4 concurrent workers.\n"
     ]
    },
    {
     "ename": "CatBoostError",
     "evalue": "Bad value for num_feature[13,72]=\"Shed\": Cannot convert 'b'Shed'' to float",
     "output_type": "error",
     "traceback": [
      "\u001b[0;31m---------------------------------------------------------------------------\u001b[0m",
      "\u001b[0;31m_RemoteTraceback\u001b[0m                          Traceback (most recent call last)",
      "\u001b[0;31m_RemoteTraceback\u001b[0m: \n\"\"\"\nTraceback (most recent call last):\n  File \"_catboost.pyx\", line 1720, in _catboost.get_float_feature\n  File \"_catboost.pyx\", line 1047, in _catboost._FloatOrNan\n  File \"_catboost.pyx\", line 910, in _catboost._FloatOrNanFromString\nTypeError: Cannot convert 'b'Shed'' to float\n\nDuring handling of the above exception, another exception occurred:\n\nTraceback (most recent call last):\n  File \"/Users/jng/anaconda3/lib/python3.7/site-packages/joblib/externals/loky/process_executor.py\", line 418, in _process_worker\n    r = call_item()\n  File \"/Users/jng/anaconda3/lib/python3.7/site-packages/joblib/externals/loky/process_executor.py\", line 272, in __call__\n    return self.fn(*self.args, **self.kwargs)\n  File \"/Users/jng/anaconda3/lib/python3.7/site-packages/joblib/_parallel_backends.py\", line 567, in __call__\n    return self.func(*args, **kwargs)\n  File \"/Users/jng/anaconda3/lib/python3.7/site-packages/joblib/parallel.py\", line 225, in __call__\n    for func, args, kwargs in self.items]\n  File \"/Users/jng/anaconda3/lib/python3.7/site-packages/joblib/parallel.py\", line 225, in <listcomp>\n    for func, args, kwargs in self.items]\n  File \"/Users/jng/anaconda3/lib/python3.7/site-packages/sklearn/model_selection/_validation.py\", line 514, in _fit_and_score\n    estimator.fit(X_train, y_train, **fit_params)\n  File \"/Users/jng/anaconda3/lib/python3.7/site-packages/catboost/core.py\", line 3667, in fit\n    save_snapshot, snapshot_file, snapshot_interval, init_model)\n  File \"/Users/jng/anaconda3/lib/python3.7/site-packages/catboost/core.py\", line 1343, in _fit\n    save_snapshot, snapshot_file, snapshot_interval, init_model\n  File \"/Users/jng/anaconda3/lib/python3.7/site-packages/catboost/core.py\", line 1238, in _prepare_train_params\n    train_pool = _build_train_pool(X, y, cat_features, pairs, sample_weight, group_id, group_weight, subgroup_id, pairs_weight, baseline, column_description)\n  File \"/Users/jng/anaconda3/lib/python3.7/site-packages/catboost/core.py\", line 696, in _build_train_pool\n    group_weight=group_weight, subgroup_id=subgroup_id, pairs_weight=pairs_weight, baseline=baseline)\n  File \"/Users/jng/anaconda3/lib/python3.7/site-packages/catboost/core.py\", line 325, in __init__\n    self._init(data, label, cat_features, pairs, weight, group_id, group_weight, subgroup_id, pairs_weight, baseline, feature_names)\n  File \"/Users/jng/anaconda3/lib/python3.7/site-packages/catboost/core.py\", line 677, in _init\n    self._init_pool(data, label, cat_features, pairs, weight, group_id, group_weight, subgroup_id, pairs_weight, baseline, feature_names)\n  File \"_catboost.pyx\", line 2254, in _catboost._PoolBase._init_pool\n  File \"_catboost.pyx\", line 2285, in _catboost._PoolBase._init_pool\n  File \"_catboost.pyx\", line 2154, in _catboost._PoolBase._init_features_order_layout_pool\n  File \"_catboost.pyx\", line 1824, in _catboost._set_features_order_data_pd_data_frame\n  File \"_catboost.pyx\", line 1741, in _catboost.create_num_factor_data\n  File \"_catboost.pyx\", line 1722, in _catboost.get_float_feature\n_catboost.CatBoostError: Bad value for num_feature[13,72]=\"Shed\": Cannot convert 'b'Shed'' to float\n\"\"\"",
      "\nThe above exception was the direct cause of the following exception:\n",
      "\u001b[0;31mCatBoostError\u001b[0m                             Traceback (most recent call last)",
      "\u001b[0;32m<ipython-input-102-fe64c243ea8b>\u001b[0m in \u001b[0;36m<module>\u001b[0;34m\u001b[0m\n\u001b[1;32m     28\u001b[0m                               n_jobs=-1, random_state=1)\n\u001b[1;32m     29\u001b[0m \u001b[0;34m\u001b[0m\u001b[0m\n\u001b[0;32m---> 30\u001b[0;31m \u001b[0mcbr_cv\u001b[0m\u001b[0;34m.\u001b[0m\u001b[0mfit\u001b[0m\u001b[0;34m(\u001b[0m\u001b[0mX_train_cat\u001b[0m\u001b[0;34m,\u001b[0m \u001b[0my_train\u001b[0m\u001b[0;34m,\u001b[0m \u001b[0mcat_features\u001b[0m\u001b[0;34m=\u001b[0m\u001b[0mcat_features_idx\u001b[0m\u001b[0;34m)\u001b[0m\u001b[0;34m\u001b[0m\u001b[0;34m\u001b[0m\u001b[0m\n\u001b[0m",
      "\u001b[0;32m~/anaconda3/lib/python3.7/site-packages/sklearn/model_selection/_search.py\u001b[0m in \u001b[0;36mfit\u001b[0;34m(self, X, y, groups, **fit_params)\u001b[0m\n\u001b[1;32m    685\u001b[0m                 \u001b[0;32mreturn\u001b[0m \u001b[0mresults\u001b[0m\u001b[0;34m\u001b[0m\u001b[0;34m\u001b[0m\u001b[0m\n\u001b[1;32m    686\u001b[0m \u001b[0;34m\u001b[0m\u001b[0m\n\u001b[0;32m--> 687\u001b[0;31m             \u001b[0mself\u001b[0m\u001b[0;34m.\u001b[0m\u001b[0m_run_search\u001b[0m\u001b[0;34m(\u001b[0m\u001b[0mevaluate_candidates\u001b[0m\u001b[0;34m)\u001b[0m\u001b[0;34m\u001b[0m\u001b[0;34m\u001b[0m\u001b[0m\n\u001b[0m\u001b[1;32m    688\u001b[0m \u001b[0;34m\u001b[0m\u001b[0m\n\u001b[1;32m    689\u001b[0m         \u001b[0;31m# For multi-metric evaluation, store the best_index_, best_params_ and\u001b[0m\u001b[0;34m\u001b[0m\u001b[0;34m\u001b[0m\u001b[0;34m\u001b[0m\u001b[0m\n",
      "\u001b[0;32m~/anaconda3/lib/python3.7/site-packages/sklearn/model_selection/_search.py\u001b[0m in \u001b[0;36m_run_search\u001b[0;34m(self, evaluate_candidates)\u001b[0m\n\u001b[1;32m   1466\u001b[0m         evaluate_candidates(ParameterSampler(\n\u001b[1;32m   1467\u001b[0m             \u001b[0mself\u001b[0m\u001b[0;34m.\u001b[0m\u001b[0mparam_distributions\u001b[0m\u001b[0;34m,\u001b[0m \u001b[0mself\u001b[0m\u001b[0;34m.\u001b[0m\u001b[0mn_iter\u001b[0m\u001b[0;34m,\u001b[0m\u001b[0;34m\u001b[0m\u001b[0;34m\u001b[0m\u001b[0m\n\u001b[0;32m-> 1468\u001b[0;31m             random_state=self.random_state))\n\u001b[0m",
      "\u001b[0;32m~/anaconda3/lib/python3.7/site-packages/sklearn/model_selection/_search.py\u001b[0m in \u001b[0;36mevaluate_candidates\u001b[0;34m(candidate_params)\u001b[0m\n\u001b[1;32m    664\u001b[0m                                \u001b[0;32mfor\u001b[0m \u001b[0mparameters\u001b[0m\u001b[0;34m,\u001b[0m \u001b[0;34m(\u001b[0m\u001b[0mtrain\u001b[0m\u001b[0;34m,\u001b[0m \u001b[0mtest\u001b[0m\u001b[0;34m)\u001b[0m\u001b[0;34m\u001b[0m\u001b[0;34m\u001b[0m\u001b[0m\n\u001b[1;32m    665\u001b[0m                                in product(candidate_params,\n\u001b[0;32m--> 666\u001b[0;31m                                           cv.split(X, y, groups)))\n\u001b[0m\u001b[1;32m    667\u001b[0m \u001b[0;34m\u001b[0m\u001b[0m\n\u001b[1;32m    668\u001b[0m                 \u001b[0;32mif\u001b[0m \u001b[0mlen\u001b[0m\u001b[0;34m(\u001b[0m\u001b[0mout\u001b[0m\u001b[0;34m)\u001b[0m \u001b[0;34m<\u001b[0m \u001b[0;36m1\u001b[0m\u001b[0;34m:\u001b[0m\u001b[0;34m\u001b[0m\u001b[0;34m\u001b[0m\u001b[0m\n",
      "\u001b[0;32m~/anaconda3/lib/python3.7/site-packages/joblib/parallel.py\u001b[0m in \u001b[0;36m__call__\u001b[0;34m(self, iterable)\u001b[0m\n\u001b[1;32m    932\u001b[0m \u001b[0;34m\u001b[0m\u001b[0m\n\u001b[1;32m    933\u001b[0m             \u001b[0;32mwith\u001b[0m \u001b[0mself\u001b[0m\u001b[0;34m.\u001b[0m\u001b[0m_backend\u001b[0m\u001b[0;34m.\u001b[0m\u001b[0mretrieval_context\u001b[0m\u001b[0;34m(\u001b[0m\u001b[0;34m)\u001b[0m\u001b[0;34m:\u001b[0m\u001b[0;34m\u001b[0m\u001b[0;34m\u001b[0m\u001b[0m\n\u001b[0;32m--> 934\u001b[0;31m                 \u001b[0mself\u001b[0m\u001b[0;34m.\u001b[0m\u001b[0mretrieve\u001b[0m\u001b[0;34m(\u001b[0m\u001b[0;34m)\u001b[0m\u001b[0;34m\u001b[0m\u001b[0;34m\u001b[0m\u001b[0m\n\u001b[0m\u001b[1;32m    935\u001b[0m             \u001b[0;31m# Make sure that we get a last message telling us we are done\u001b[0m\u001b[0;34m\u001b[0m\u001b[0;34m\u001b[0m\u001b[0;34m\u001b[0m\u001b[0m\n\u001b[1;32m    936\u001b[0m             \u001b[0melapsed_time\u001b[0m \u001b[0;34m=\u001b[0m \u001b[0mtime\u001b[0m\u001b[0;34m.\u001b[0m\u001b[0mtime\u001b[0m\u001b[0;34m(\u001b[0m\u001b[0;34m)\u001b[0m \u001b[0;34m-\u001b[0m \u001b[0mself\u001b[0m\u001b[0;34m.\u001b[0m\u001b[0m_start_time\u001b[0m\u001b[0;34m\u001b[0m\u001b[0;34m\u001b[0m\u001b[0m\n",
      "\u001b[0;32m~/anaconda3/lib/python3.7/site-packages/joblib/parallel.py\u001b[0m in \u001b[0;36mretrieve\u001b[0;34m(self)\u001b[0m\n\u001b[1;32m    831\u001b[0m             \u001b[0;32mtry\u001b[0m\u001b[0;34m:\u001b[0m\u001b[0;34m\u001b[0m\u001b[0;34m\u001b[0m\u001b[0m\n\u001b[1;32m    832\u001b[0m                 \u001b[0;32mif\u001b[0m \u001b[0mgetattr\u001b[0m\u001b[0;34m(\u001b[0m\u001b[0mself\u001b[0m\u001b[0;34m.\u001b[0m\u001b[0m_backend\u001b[0m\u001b[0;34m,\u001b[0m \u001b[0;34m'supports_timeout'\u001b[0m\u001b[0;34m,\u001b[0m \u001b[0;32mFalse\u001b[0m\u001b[0;34m)\u001b[0m\u001b[0;34m:\u001b[0m\u001b[0;34m\u001b[0m\u001b[0;34m\u001b[0m\u001b[0m\n\u001b[0;32m--> 833\u001b[0;31m                     \u001b[0mself\u001b[0m\u001b[0;34m.\u001b[0m\u001b[0m_output\u001b[0m\u001b[0;34m.\u001b[0m\u001b[0mextend\u001b[0m\u001b[0;34m(\u001b[0m\u001b[0mjob\u001b[0m\u001b[0;34m.\u001b[0m\u001b[0mget\u001b[0m\u001b[0;34m(\u001b[0m\u001b[0mtimeout\u001b[0m\u001b[0;34m=\u001b[0m\u001b[0mself\u001b[0m\u001b[0;34m.\u001b[0m\u001b[0mtimeout\u001b[0m\u001b[0;34m)\u001b[0m\u001b[0;34m)\u001b[0m\u001b[0;34m\u001b[0m\u001b[0;34m\u001b[0m\u001b[0m\n\u001b[0m\u001b[1;32m    834\u001b[0m                 \u001b[0;32melse\u001b[0m\u001b[0;34m:\u001b[0m\u001b[0;34m\u001b[0m\u001b[0;34m\u001b[0m\u001b[0m\n\u001b[1;32m    835\u001b[0m                     \u001b[0mself\u001b[0m\u001b[0;34m.\u001b[0m\u001b[0m_output\u001b[0m\u001b[0;34m.\u001b[0m\u001b[0mextend\u001b[0m\u001b[0;34m(\u001b[0m\u001b[0mjob\u001b[0m\u001b[0;34m.\u001b[0m\u001b[0mget\u001b[0m\u001b[0;34m(\u001b[0m\u001b[0;34m)\u001b[0m\u001b[0;34m)\u001b[0m\u001b[0;34m\u001b[0m\u001b[0;34m\u001b[0m\u001b[0m\n",
      "\u001b[0;32m~/anaconda3/lib/python3.7/site-packages/joblib/_parallel_backends.py\u001b[0m in \u001b[0;36mwrap_future_result\u001b[0;34m(future, timeout)\u001b[0m\n\u001b[1;32m    519\u001b[0m         AsyncResults.get from multiprocessing.\"\"\"\n\u001b[1;32m    520\u001b[0m         \u001b[0;32mtry\u001b[0m\u001b[0;34m:\u001b[0m\u001b[0;34m\u001b[0m\u001b[0;34m\u001b[0m\u001b[0m\n\u001b[0;32m--> 521\u001b[0;31m             \u001b[0;32mreturn\u001b[0m \u001b[0mfuture\u001b[0m\u001b[0;34m.\u001b[0m\u001b[0mresult\u001b[0m\u001b[0;34m(\u001b[0m\u001b[0mtimeout\u001b[0m\u001b[0;34m=\u001b[0m\u001b[0mtimeout\u001b[0m\u001b[0;34m)\u001b[0m\u001b[0;34m\u001b[0m\u001b[0;34m\u001b[0m\u001b[0m\n\u001b[0m\u001b[1;32m    522\u001b[0m         \u001b[0;32mexcept\u001b[0m \u001b[0mLokyTimeoutError\u001b[0m\u001b[0;34m:\u001b[0m\u001b[0;34m\u001b[0m\u001b[0;34m\u001b[0m\u001b[0m\n\u001b[1;32m    523\u001b[0m             \u001b[0;32mraise\u001b[0m \u001b[0mTimeoutError\u001b[0m\u001b[0;34m(\u001b[0m\u001b[0;34m)\u001b[0m\u001b[0;34m\u001b[0m\u001b[0;34m\u001b[0m\u001b[0m\n",
      "\u001b[0;32m~/anaconda3/lib/python3.7/concurrent/futures/_base.py\u001b[0m in \u001b[0;36mresult\u001b[0;34m(self, timeout)\u001b[0m\n\u001b[1;32m    430\u001b[0m                 \u001b[0;32mraise\u001b[0m \u001b[0mCancelledError\u001b[0m\u001b[0;34m(\u001b[0m\u001b[0;34m)\u001b[0m\u001b[0;34m\u001b[0m\u001b[0;34m\u001b[0m\u001b[0m\n\u001b[1;32m    431\u001b[0m             \u001b[0;32melif\u001b[0m \u001b[0mself\u001b[0m\u001b[0;34m.\u001b[0m\u001b[0m_state\u001b[0m \u001b[0;34m==\u001b[0m \u001b[0mFINISHED\u001b[0m\u001b[0;34m:\u001b[0m\u001b[0;34m\u001b[0m\u001b[0;34m\u001b[0m\u001b[0m\n\u001b[0;32m--> 432\u001b[0;31m                 \u001b[0;32mreturn\u001b[0m \u001b[0mself\u001b[0m\u001b[0;34m.\u001b[0m\u001b[0m__get_result\u001b[0m\u001b[0;34m(\u001b[0m\u001b[0;34m)\u001b[0m\u001b[0;34m\u001b[0m\u001b[0;34m\u001b[0m\u001b[0m\n\u001b[0m\u001b[1;32m    433\u001b[0m             \u001b[0;32melse\u001b[0m\u001b[0;34m:\u001b[0m\u001b[0;34m\u001b[0m\u001b[0;34m\u001b[0m\u001b[0m\n\u001b[1;32m    434\u001b[0m                 \u001b[0;32mraise\u001b[0m \u001b[0mTimeoutError\u001b[0m\u001b[0;34m(\u001b[0m\u001b[0;34m)\u001b[0m\u001b[0;34m\u001b[0m\u001b[0;34m\u001b[0m\u001b[0m\n",
      "\u001b[0;32m~/anaconda3/lib/python3.7/concurrent/futures/_base.py\u001b[0m in \u001b[0;36m__get_result\u001b[0;34m(self)\u001b[0m\n\u001b[1;32m    382\u001b[0m     \u001b[0;32mdef\u001b[0m \u001b[0m__get_result\u001b[0m\u001b[0;34m(\u001b[0m\u001b[0mself\u001b[0m\u001b[0;34m)\u001b[0m\u001b[0;34m:\u001b[0m\u001b[0;34m\u001b[0m\u001b[0;34m\u001b[0m\u001b[0m\n\u001b[1;32m    383\u001b[0m         \u001b[0;32mif\u001b[0m \u001b[0mself\u001b[0m\u001b[0;34m.\u001b[0m\u001b[0m_exception\u001b[0m\u001b[0;34m:\u001b[0m\u001b[0;34m\u001b[0m\u001b[0;34m\u001b[0m\u001b[0m\n\u001b[0;32m--> 384\u001b[0;31m             \u001b[0;32mraise\u001b[0m \u001b[0mself\u001b[0m\u001b[0;34m.\u001b[0m\u001b[0m_exception\u001b[0m\u001b[0;34m\u001b[0m\u001b[0;34m\u001b[0m\u001b[0m\n\u001b[0m\u001b[1;32m    385\u001b[0m         \u001b[0;32melse\u001b[0m\u001b[0;34m:\u001b[0m\u001b[0;34m\u001b[0m\u001b[0;34m\u001b[0m\u001b[0m\n\u001b[1;32m    386\u001b[0m             \u001b[0;32mreturn\u001b[0m \u001b[0mself\u001b[0m\u001b[0;34m.\u001b[0m\u001b[0m_result\u001b[0m\u001b[0;34m\u001b[0m\u001b[0;34m\u001b[0m\u001b[0m\n",
      "\u001b[0;31mCatBoostError\u001b[0m: Bad value for num_feature[13,72]=\"Shed\": Cannot convert 'b'Shed'' to float"
     ]
    }
   ],
   "source": [
    "# cat_features = ['MSSubClass', 'MSZoning', 'Street', 'Alley',\n",
    "#        'LotShape', 'LandContour', 'LotConfig', 'LandSlope', 'Neighborhood',\n",
    "#        'Condition1', 'Condition2', 'BldgType', 'HouseStyle', 'OverallQual',\n",
    "#        'OverallCond', 'YearBuilt', 'YearRemodAdd', 'RoofStyle', 'RoofMatl',\n",
    "#        'Exterior1st', 'Exterior2nd', 'MasVnrType', 'ExterQual',\n",
    "#        'ExterCond', 'Foundation', 'BsmtQual', 'BsmtCond', 'BsmtExposure',\n",
    "#        'BsmtFinType1', 'BsmtFinType2', 'Heating', 'HeatingQC', 'CentralAir', \n",
    "#        'Electrical', 'KitchenQual', 'Functional', 'FireplaceQu', \n",
    "#        'GarageType', 'GarageYrBlt', 'GarageFinish', 'GarageQual', 'GarageCond', \n",
    "#        'PavedDrive', 'PoolQC', 'Fence', 'MoSold', 'YrSold', 'SaleType', 'SaleCondition']\n",
    "\n",
    "params = {\n",
    "    'one_hot_max_size': np.linspace(6, 11, 6),\n",
    "    'depth': np.linspace(1, 5, 5),\n",
    "    'iterations': [100, 250, 500, 750, 1000],\n",
    "    'learning_rate': np.round(np.linspace(0.01, 2, 9), 2),\n",
    "    'l2_leaf_reg': [1, 3, 5, 10, 25, 50, 100],\n",
    "    'border_count': np.linspace(5, 50, 10),\n",
    "    'ctr_border_count': np.linspace(5, 50, 10)\n",
    "}\n",
    "\n",
    "cbr2 = cb.CatBoostRegressor()\n",
    "\n",
    "cbr_cv2 = RandomizedSearchCV(estimator=cbr2, \n",
    "                              param_distributions=params, \n",
    "                              cv=3, verbose=1, n_iter=300,\n",
    "                              scoring='neg_mean_squared_error', \n",
    "                              n_jobs=-1, random_state=1)\n",
    "  \n",
    "cbr_cv2.fit(X_train_cat, y_train, cat_features=cat_idx)"
   ]
  },
  {
   "cell_type": "code",
   "execution_count": null,
   "metadata": {},
   "outputs": [],
   "source": [
    "rmse(cbr_cv2)\n",
    "print('The best parameters found for RSCV: ', cbr_cv2.best_params_)"
   ]
  },
  {
   "cell_type": "code",
   "execution_count": 132,
   "metadata": {
    "ExecuteTime": {
     "end_time": "2019-07-29T05:05:31.077402Z",
     "start_time": "2019-07-29T05:05:30.881068Z"
    }
   },
   "outputs": [
    {
     "data": {
      "text/html": [
       "<div>\n",
       "<style scoped>\n",
       "    .dataframe tbody tr th:only-of-type {\n",
       "        vertical-align: middle;\n",
       "    }\n",
       "\n",
       "    .dataframe tbody tr th {\n",
       "        vertical-align: top;\n",
       "    }\n",
       "\n",
       "    .dataframe thead th {\n",
       "        text-align: right;\n",
       "    }\n",
       "</style>\n",
       "<table border=\"1\" class=\"dataframe\">\n",
       "  <thead>\n",
       "    <tr style=\"text-align: right;\">\n",
       "      <th></th>\n",
       "      <th>MSSubClass</th>\n",
       "      <th>MSZoning</th>\n",
       "      <th>LotFrontage</th>\n",
       "      <th>LotArea</th>\n",
       "      <th>Street</th>\n",
       "      <th>Alley</th>\n",
       "      <th>LotShape</th>\n",
       "      <th>LandContour</th>\n",
       "      <th>Utilities</th>\n",
       "      <th>LotConfig</th>\n",
       "      <th>LandSlope</th>\n",
       "      <th>Neighborhood</th>\n",
       "      <th>Condition1</th>\n",
       "      <th>Condition2</th>\n",
       "      <th>BldgType</th>\n",
       "      <th>HouseStyle</th>\n",
       "      <th>OverallQual</th>\n",
       "      <th>OverallCond</th>\n",
       "      <th>YearBuilt</th>\n",
       "      <th>YearRemodAdd</th>\n",
       "      <th>RoofStyle</th>\n",
       "      <th>RoofMatl</th>\n",
       "      <th>Exterior1st</th>\n",
       "      <th>Exterior2nd</th>\n",
       "      <th>MasVnrType</th>\n",
       "      <th>MasVnrArea</th>\n",
       "      <th>ExterQual</th>\n",
       "      <th>ExterCond</th>\n",
       "      <th>Foundation</th>\n",
       "      <th>BsmtQual</th>\n",
       "      <th>BsmtCond</th>\n",
       "      <th>BsmtExposure</th>\n",
       "      <th>BsmtFinType1</th>\n",
       "      <th>BsmtFinSF1</th>\n",
       "      <th>BsmtFinType2</th>\n",
       "      <th>BsmtFinSF2</th>\n",
       "      <th>BsmtUnfSF</th>\n",
       "      <th>TotalBsmtSF</th>\n",
       "      <th>Heating</th>\n",
       "      <th>HeatingQC</th>\n",
       "      <th>CentralAir</th>\n",
       "      <th>Electrical</th>\n",
       "      <th>1stFlrSF</th>\n",
       "      <th>2ndFlrSF</th>\n",
       "      <th>LowQualFinSF</th>\n",
       "      <th>GrLivArea</th>\n",
       "      <th>BsmtFullBath</th>\n",
       "      <th>BsmtHalfBath</th>\n",
       "      <th>FullBath</th>\n",
       "      <th>HalfBath</th>\n",
       "      <th>BedroomAbvGr</th>\n",
       "      <th>KitchenAbvGr</th>\n",
       "      <th>KitchenQual</th>\n",
       "      <th>TotRmsAbvGrd</th>\n",
       "      <th>Functional</th>\n",
       "      <th>Fireplaces</th>\n",
       "      <th>FireplaceQu</th>\n",
       "      <th>GarageType</th>\n",
       "      <th>GarageYrBlt</th>\n",
       "      <th>GarageFinish</th>\n",
       "      <th>GarageCars</th>\n",
       "      <th>GarageArea</th>\n",
       "      <th>GarageQual</th>\n",
       "      <th>GarageCond</th>\n",
       "      <th>PavedDrive</th>\n",
       "      <th>WoodDeckSF</th>\n",
       "      <th>OpenPorchSF</th>\n",
       "      <th>EnclosedPorch</th>\n",
       "      <th>3SsnPorch</th>\n",
       "      <th>ScreenPorch</th>\n",
       "      <th>PoolArea</th>\n",
       "      <th>PoolQC</th>\n",
       "      <th>Fence</th>\n",
       "      <th>MiscFeature</th>\n",
       "      <th>MiscVal</th>\n",
       "      <th>MoSold</th>\n",
       "      <th>YrSold</th>\n",
       "      <th>SaleType</th>\n",
       "      <th>SaleCondition</th>\n",
       "    </tr>\n",
       "  </thead>\n",
       "  <tbody>\n",
       "    <tr>\n",
       "      <th>0</th>\n",
       "      <td>60</td>\n",
       "      <td>RL</td>\n",
       "      <td>65.000</td>\n",
       "      <td>8450</td>\n",
       "      <td>Pave</td>\n",
       "      <td>-999</td>\n",
       "      <td>Reg</td>\n",
       "      <td>Lvl</td>\n",
       "      <td>AllPub</td>\n",
       "      <td>Inside</td>\n",
       "      <td>Gtl</td>\n",
       "      <td>CollgCr</td>\n",
       "      <td>Norm</td>\n",
       "      <td>Norm</td>\n",
       "      <td>1Fam</td>\n",
       "      <td>2Story</td>\n",
       "      <td>7</td>\n",
       "      <td>5</td>\n",
       "      <td>2003</td>\n",
       "      <td>2003</td>\n",
       "      <td>Gable</td>\n",
       "      <td>CompShg</td>\n",
       "      <td>VinylSd</td>\n",
       "      <td>VinylSd</td>\n",
       "      <td>BrkFace</td>\n",
       "      <td>196.000</td>\n",
       "      <td>Gd</td>\n",
       "      <td>TA</td>\n",
       "      <td>PConc</td>\n",
       "      <td>Gd</td>\n",
       "      <td>TA</td>\n",
       "      <td>No</td>\n",
       "      <td>GLQ</td>\n",
       "      <td>706</td>\n",
       "      <td>Unf</td>\n",
       "      <td>0</td>\n",
       "      <td>150</td>\n",
       "      <td>856</td>\n",
       "      <td>GasA</td>\n",
       "      <td>Ex</td>\n",
       "      <td>Y</td>\n",
       "      <td>SBrkr</td>\n",
       "      <td>856</td>\n",
       "      <td>854</td>\n",
       "      <td>0</td>\n",
       "      <td>1710</td>\n",
       "      <td>1</td>\n",
       "      <td>0</td>\n",
       "      <td>2</td>\n",
       "      <td>1</td>\n",
       "      <td>3</td>\n",
       "      <td>1</td>\n",
       "      <td>Gd</td>\n",
       "      <td>8</td>\n",
       "      <td>Typ</td>\n",
       "      <td>0</td>\n",
       "      <td>-999</td>\n",
       "      <td>Attchd</td>\n",
       "      <td>2003.000</td>\n",
       "      <td>RFn</td>\n",
       "      <td>2</td>\n",
       "      <td>548</td>\n",
       "      <td>TA</td>\n",
       "      <td>TA</td>\n",
       "      <td>Y</td>\n",
       "      <td>0</td>\n",
       "      <td>61</td>\n",
       "      <td>0</td>\n",
       "      <td>0</td>\n",
       "      <td>0</td>\n",
       "      <td>0</td>\n",
       "      <td>-999</td>\n",
       "      <td>-999</td>\n",
       "      <td>-999</td>\n",
       "      <td>0</td>\n",
       "      <td>2</td>\n",
       "      <td>2008</td>\n",
       "      <td>WD</td>\n",
       "      <td>Normal</td>\n",
       "    </tr>\n",
       "    <tr>\n",
       "      <th>1</th>\n",
       "      <td>20</td>\n",
       "      <td>RL</td>\n",
       "      <td>80.000</td>\n",
       "      <td>9600</td>\n",
       "      <td>Pave</td>\n",
       "      <td>-999</td>\n",
       "      <td>Reg</td>\n",
       "      <td>Lvl</td>\n",
       "      <td>AllPub</td>\n",
       "      <td>FR2</td>\n",
       "      <td>Gtl</td>\n",
       "      <td>Veenker</td>\n",
       "      <td>Feedr</td>\n",
       "      <td>Norm</td>\n",
       "      <td>1Fam</td>\n",
       "      <td>1Story</td>\n",
       "      <td>6</td>\n",
       "      <td>8</td>\n",
       "      <td>1976</td>\n",
       "      <td>1976</td>\n",
       "      <td>Gable</td>\n",
       "      <td>CompShg</td>\n",
       "      <td>MetalSd</td>\n",
       "      <td>MetalSd</td>\n",
       "      <td>None</td>\n",
       "      <td>0.000</td>\n",
       "      <td>TA</td>\n",
       "      <td>TA</td>\n",
       "      <td>CBlock</td>\n",
       "      <td>Gd</td>\n",
       "      <td>TA</td>\n",
       "      <td>Gd</td>\n",
       "      <td>ALQ</td>\n",
       "      <td>978</td>\n",
       "      <td>Unf</td>\n",
       "      <td>0</td>\n",
       "      <td>284</td>\n",
       "      <td>1262</td>\n",
       "      <td>GasA</td>\n",
       "      <td>Ex</td>\n",
       "      <td>Y</td>\n",
       "      <td>SBrkr</td>\n",
       "      <td>1262</td>\n",
       "      <td>0</td>\n",
       "      <td>0</td>\n",
       "      <td>1262</td>\n",
       "      <td>0</td>\n",
       "      <td>1</td>\n",
       "      <td>2</td>\n",
       "      <td>0</td>\n",
       "      <td>3</td>\n",
       "      <td>1</td>\n",
       "      <td>TA</td>\n",
       "      <td>6</td>\n",
       "      <td>Typ</td>\n",
       "      <td>1</td>\n",
       "      <td>TA</td>\n",
       "      <td>Attchd</td>\n",
       "      <td>1976.000</td>\n",
       "      <td>RFn</td>\n",
       "      <td>2</td>\n",
       "      <td>460</td>\n",
       "      <td>TA</td>\n",
       "      <td>TA</td>\n",
       "      <td>Y</td>\n",
       "      <td>298</td>\n",
       "      <td>0</td>\n",
       "      <td>0</td>\n",
       "      <td>0</td>\n",
       "      <td>0</td>\n",
       "      <td>0</td>\n",
       "      <td>-999</td>\n",
       "      <td>-999</td>\n",
       "      <td>-999</td>\n",
       "      <td>0</td>\n",
       "      <td>5</td>\n",
       "      <td>2007</td>\n",
       "      <td>WD</td>\n",
       "      <td>Normal</td>\n",
       "    </tr>\n",
       "    <tr>\n",
       "      <th>4</th>\n",
       "      <td>60</td>\n",
       "      <td>RL</td>\n",
       "      <td>84.000</td>\n",
       "      <td>14260</td>\n",
       "      <td>Pave</td>\n",
       "      <td>-999</td>\n",
       "      <td>IR1</td>\n",
       "      <td>Lvl</td>\n",
       "      <td>AllPub</td>\n",
       "      <td>FR2</td>\n",
       "      <td>Gtl</td>\n",
       "      <td>NoRidge</td>\n",
       "      <td>Norm</td>\n",
       "      <td>Norm</td>\n",
       "      <td>1Fam</td>\n",
       "      <td>2Story</td>\n",
       "      <td>8</td>\n",
       "      <td>5</td>\n",
       "      <td>2000</td>\n",
       "      <td>2000</td>\n",
       "      <td>Gable</td>\n",
       "      <td>CompShg</td>\n",
       "      <td>VinylSd</td>\n",
       "      <td>VinylSd</td>\n",
       "      <td>BrkFace</td>\n",
       "      <td>350.000</td>\n",
       "      <td>Gd</td>\n",
       "      <td>TA</td>\n",
       "      <td>PConc</td>\n",
       "      <td>Gd</td>\n",
       "      <td>TA</td>\n",
       "      <td>Av</td>\n",
       "      <td>GLQ</td>\n",
       "      <td>655</td>\n",
       "      <td>Unf</td>\n",
       "      <td>0</td>\n",
       "      <td>490</td>\n",
       "      <td>1145</td>\n",
       "      <td>GasA</td>\n",
       "      <td>Ex</td>\n",
       "      <td>Y</td>\n",
       "      <td>SBrkr</td>\n",
       "      <td>1145</td>\n",
       "      <td>1053</td>\n",
       "      <td>0</td>\n",
       "      <td>2198</td>\n",
       "      <td>1</td>\n",
       "      <td>0</td>\n",
       "      <td>2</td>\n",
       "      <td>1</td>\n",
       "      <td>4</td>\n",
       "      <td>1</td>\n",
       "      <td>Gd</td>\n",
       "      <td>9</td>\n",
       "      <td>Typ</td>\n",
       "      <td>1</td>\n",
       "      <td>TA</td>\n",
       "      <td>Attchd</td>\n",
       "      <td>2000.000</td>\n",
       "      <td>RFn</td>\n",
       "      <td>3</td>\n",
       "      <td>836</td>\n",
       "      <td>TA</td>\n",
       "      <td>TA</td>\n",
       "      <td>Y</td>\n",
       "      <td>192</td>\n",
       "      <td>84</td>\n",
       "      <td>0</td>\n",
       "      <td>0</td>\n",
       "      <td>0</td>\n",
       "      <td>0</td>\n",
       "      <td>-999</td>\n",
       "      <td>-999</td>\n",
       "      <td>-999</td>\n",
       "      <td>0</td>\n",
       "      <td>12</td>\n",
       "      <td>2008</td>\n",
       "      <td>WD</td>\n",
       "      <td>Normal</td>\n",
       "    </tr>\n",
       "    <tr>\n",
       "      <th>5</th>\n",
       "      <td>50</td>\n",
       "      <td>RL</td>\n",
       "      <td>85.000</td>\n",
       "      <td>14115</td>\n",
       "      <td>Pave</td>\n",
       "      <td>-999</td>\n",
       "      <td>IR1</td>\n",
       "      <td>Lvl</td>\n",
       "      <td>AllPub</td>\n",
       "      <td>Inside</td>\n",
       "      <td>Gtl</td>\n",
       "      <td>Mitchel</td>\n",
       "      <td>Norm</td>\n",
       "      <td>Norm</td>\n",
       "      <td>1Fam</td>\n",
       "      <td>1.5Fin</td>\n",
       "      <td>5</td>\n",
       "      <td>5</td>\n",
       "      <td>1993</td>\n",
       "      <td>1995</td>\n",
       "      <td>Gable</td>\n",
       "      <td>CompShg</td>\n",
       "      <td>VinylSd</td>\n",
       "      <td>VinylSd</td>\n",
       "      <td>None</td>\n",
       "      <td>0.000</td>\n",
       "      <td>TA</td>\n",
       "      <td>TA</td>\n",
       "      <td>Wood</td>\n",
       "      <td>Gd</td>\n",
       "      <td>TA</td>\n",
       "      <td>No</td>\n",
       "      <td>GLQ</td>\n",
       "      <td>732</td>\n",
       "      <td>Unf</td>\n",
       "      <td>0</td>\n",
       "      <td>64</td>\n",
       "      <td>796</td>\n",
       "      <td>GasA</td>\n",
       "      <td>Ex</td>\n",
       "      <td>Y</td>\n",
       "      <td>SBrkr</td>\n",
       "      <td>796</td>\n",
       "      <td>566</td>\n",
       "      <td>0</td>\n",
       "      <td>1362</td>\n",
       "      <td>1</td>\n",
       "      <td>0</td>\n",
       "      <td>1</td>\n",
       "      <td>1</td>\n",
       "      <td>1</td>\n",
       "      <td>1</td>\n",
       "      <td>TA</td>\n",
       "      <td>5</td>\n",
       "      <td>Typ</td>\n",
       "      <td>0</td>\n",
       "      <td>-999</td>\n",
       "      <td>Attchd</td>\n",
       "      <td>1993.000</td>\n",
       "      <td>Unf</td>\n",
       "      <td>2</td>\n",
       "      <td>480</td>\n",
       "      <td>TA</td>\n",
       "      <td>TA</td>\n",
       "      <td>Y</td>\n",
       "      <td>40</td>\n",
       "      <td>30</td>\n",
       "      <td>0</td>\n",
       "      <td>320</td>\n",
       "      <td>0</td>\n",
       "      <td>0</td>\n",
       "      <td>-999</td>\n",
       "      <td>MnPrv</td>\n",
       "      <td>Shed</td>\n",
       "      <td>700</td>\n",
       "      <td>10</td>\n",
       "      <td>2009</td>\n",
       "      <td>WD</td>\n",
       "      <td>Normal</td>\n",
       "    </tr>\n",
       "    <tr>\n",
       "      <th>6</th>\n",
       "      <td>20</td>\n",
       "      <td>RL</td>\n",
       "      <td>75.000</td>\n",
       "      <td>10084</td>\n",
       "      <td>Pave</td>\n",
       "      <td>-999</td>\n",
       "      <td>Reg</td>\n",
       "      <td>Lvl</td>\n",
       "      <td>AllPub</td>\n",
       "      <td>Inside</td>\n",
       "      <td>Gtl</td>\n",
       "      <td>Somerst</td>\n",
       "      <td>Norm</td>\n",
       "      <td>Norm</td>\n",
       "      <td>1Fam</td>\n",
       "      <td>1Story</td>\n",
       "      <td>8</td>\n",
       "      <td>5</td>\n",
       "      <td>2004</td>\n",
       "      <td>2005</td>\n",
       "      <td>Gable</td>\n",
       "      <td>CompShg</td>\n",
       "      <td>VinylSd</td>\n",
       "      <td>VinylSd</td>\n",
       "      <td>Stone</td>\n",
       "      <td>186.000</td>\n",
       "      <td>Gd</td>\n",
       "      <td>TA</td>\n",
       "      <td>PConc</td>\n",
       "      <td>Ex</td>\n",
       "      <td>TA</td>\n",
       "      <td>Av</td>\n",
       "      <td>GLQ</td>\n",
       "      <td>1369</td>\n",
       "      <td>Unf</td>\n",
       "      <td>0</td>\n",
       "      <td>317</td>\n",
       "      <td>1686</td>\n",
       "      <td>GasA</td>\n",
       "      <td>Ex</td>\n",
       "      <td>Y</td>\n",
       "      <td>SBrkr</td>\n",
       "      <td>1694</td>\n",
       "      <td>0</td>\n",
       "      <td>0</td>\n",
       "      <td>1694</td>\n",
       "      <td>1</td>\n",
       "      <td>0</td>\n",
       "      <td>2</td>\n",
       "      <td>0</td>\n",
       "      <td>3</td>\n",
       "      <td>1</td>\n",
       "      <td>Gd</td>\n",
       "      <td>7</td>\n",
       "      <td>Typ</td>\n",
       "      <td>1</td>\n",
       "      <td>Gd</td>\n",
       "      <td>Attchd</td>\n",
       "      <td>2004.000</td>\n",
       "      <td>RFn</td>\n",
       "      <td>2</td>\n",
       "      <td>636</td>\n",
       "      <td>TA</td>\n",
       "      <td>TA</td>\n",
       "      <td>Y</td>\n",
       "      <td>255</td>\n",
       "      <td>57</td>\n",
       "      <td>0</td>\n",
       "      <td>0</td>\n",
       "      <td>0</td>\n",
       "      <td>0</td>\n",
       "      <td>-999</td>\n",
       "      <td>-999</td>\n",
       "      <td>-999</td>\n",
       "      <td>0</td>\n",
       "      <td>8</td>\n",
       "      <td>2007</td>\n",
       "      <td>WD</td>\n",
       "      <td>Normal</td>\n",
       "    </tr>\n",
       "  </tbody>\n",
       "</table>\n",
       "</div>"
      ],
      "text/plain": [
       "   MSSubClass MSZoning  LotFrontage  LotArea Street Alley LotShape  \\\n",
       "0          60       RL       65.000     8450   Pave  -999      Reg   \n",
       "1          20       RL       80.000     9600   Pave  -999      Reg   \n",
       "4          60       RL       84.000    14260   Pave  -999      IR1   \n",
       "5          50       RL       85.000    14115   Pave  -999      IR1   \n",
       "6          20       RL       75.000    10084   Pave  -999      Reg   \n",
       "\n",
       "  LandContour Utilities LotConfig LandSlope Neighborhood Condition1  \\\n",
       "0         Lvl    AllPub    Inside       Gtl      CollgCr       Norm   \n",
       "1         Lvl    AllPub       FR2       Gtl      Veenker      Feedr   \n",
       "4         Lvl    AllPub       FR2       Gtl      NoRidge       Norm   \n",
       "5         Lvl    AllPub    Inside       Gtl      Mitchel       Norm   \n",
       "6         Lvl    AllPub    Inside       Gtl      Somerst       Norm   \n",
       "\n",
       "  Condition2 BldgType HouseStyle  OverallQual  OverallCond  YearBuilt  \\\n",
       "0       Norm     1Fam     2Story            7            5       2003   \n",
       "1       Norm     1Fam     1Story            6            8       1976   \n",
       "4       Norm     1Fam     2Story            8            5       2000   \n",
       "5       Norm     1Fam     1.5Fin            5            5       1993   \n",
       "6       Norm     1Fam     1Story            8            5       2004   \n",
       "\n",
       "   YearRemodAdd RoofStyle RoofMatl Exterior1st Exterior2nd MasVnrType  \\\n",
       "0          2003     Gable  CompShg     VinylSd     VinylSd    BrkFace   \n",
       "1          1976     Gable  CompShg     MetalSd     MetalSd       None   \n",
       "4          2000     Gable  CompShg     VinylSd     VinylSd    BrkFace   \n",
       "5          1995     Gable  CompShg     VinylSd     VinylSd       None   \n",
       "6          2005     Gable  CompShg     VinylSd     VinylSd      Stone   \n",
       "\n",
       "   MasVnrArea ExterQual ExterCond Foundation BsmtQual BsmtCond BsmtExposure  \\\n",
       "0     196.000        Gd        TA      PConc       Gd       TA           No   \n",
       "1       0.000        TA        TA     CBlock       Gd       TA           Gd   \n",
       "4     350.000        Gd        TA      PConc       Gd       TA           Av   \n",
       "5       0.000        TA        TA       Wood       Gd       TA           No   \n",
       "6     186.000        Gd        TA      PConc       Ex       TA           Av   \n",
       "\n",
       "  BsmtFinType1  BsmtFinSF1 BsmtFinType2  BsmtFinSF2  BsmtUnfSF  TotalBsmtSF  \\\n",
       "0          GLQ         706          Unf           0        150          856   \n",
       "1          ALQ         978          Unf           0        284         1262   \n",
       "4          GLQ         655          Unf           0        490         1145   \n",
       "5          GLQ         732          Unf           0         64          796   \n",
       "6          GLQ        1369          Unf           0        317         1686   \n",
       "\n",
       "  Heating HeatingQC CentralAir Electrical  1stFlrSF  2ndFlrSF  LowQualFinSF  \\\n",
       "0    GasA        Ex          Y      SBrkr       856       854             0   \n",
       "1    GasA        Ex          Y      SBrkr      1262         0             0   \n",
       "4    GasA        Ex          Y      SBrkr      1145      1053             0   \n",
       "5    GasA        Ex          Y      SBrkr       796       566             0   \n",
       "6    GasA        Ex          Y      SBrkr      1694         0             0   \n",
       "\n",
       "   GrLivArea  BsmtFullBath  BsmtHalfBath  FullBath  HalfBath  BedroomAbvGr  \\\n",
       "0       1710             1             0         2         1             3   \n",
       "1       1262             0             1         2         0             3   \n",
       "4       2198             1             0         2         1             4   \n",
       "5       1362             1             0         1         1             1   \n",
       "6       1694             1             0         2         0             3   \n",
       "\n",
       "   KitchenAbvGr KitchenQual  TotRmsAbvGrd Functional  Fireplaces FireplaceQu  \\\n",
       "0             1          Gd             8        Typ           0        -999   \n",
       "1             1          TA             6        Typ           1          TA   \n",
       "4             1          Gd             9        Typ           1          TA   \n",
       "5             1          TA             5        Typ           0        -999   \n",
       "6             1          Gd             7        Typ           1          Gd   \n",
       "\n",
       "  GarageType  GarageYrBlt GarageFinish  GarageCars  GarageArea GarageQual  \\\n",
       "0     Attchd     2003.000          RFn           2         548         TA   \n",
       "1     Attchd     1976.000          RFn           2         460         TA   \n",
       "4     Attchd     2000.000          RFn           3         836         TA   \n",
       "5     Attchd     1993.000          Unf           2         480         TA   \n",
       "6     Attchd     2004.000          RFn           2         636         TA   \n",
       "\n",
       "  GarageCond PavedDrive  WoodDeckSF  OpenPorchSF  EnclosedPorch  3SsnPorch  \\\n",
       "0         TA          Y           0           61              0          0   \n",
       "1         TA          Y         298            0              0          0   \n",
       "4         TA          Y         192           84              0          0   \n",
       "5         TA          Y          40           30              0        320   \n",
       "6         TA          Y         255           57              0          0   \n",
       "\n",
       "   ScreenPorch  PoolArea PoolQC  Fence MiscFeature  MiscVal  MoSold  YrSold  \\\n",
       "0            0         0   -999   -999        -999        0       2    2008   \n",
       "1            0         0   -999   -999        -999        0       5    2007   \n",
       "4            0         0   -999   -999        -999        0      12    2008   \n",
       "5            0         0   -999  MnPrv        Shed      700      10    2009   \n",
       "6            0         0   -999   -999        -999        0       8    2007   \n",
       "\n",
       "  SaleType SaleCondition  \n",
       "0       WD        Normal  \n",
       "1       WD        Normal  \n",
       "4       WD        Normal  \n",
       "5       WD        Normal  \n",
       "6       WD        Normal  "
      ]
     },
     "execution_count": 132,
     "metadata": {},
     "output_type": "execute_result"
    }
   ],
   "source": [
    "cat_raw = train_raw.fillna(-999).drop(['SalePrice'], axis=1)\n",
    "types = cat_raw.dtypes\n",
    "cat_raw.iloc[cat_idx].head()"
   ]
  },
  {
   "cell_type": "code",
   "execution_count": 133,
   "metadata": {
    "ExecuteTime": {
     "end_time": "2019-07-29T05:05:53.104415Z",
     "start_time": "2019-07-29T05:05:53.011114Z"
    }
   },
   "outputs": [
    {
     "data": {
      "text/html": [
       "<div>\n",
       "<style scoped>\n",
       "    .dataframe tbody tr th:only-of-type {\n",
       "        vertical-align: middle;\n",
       "    }\n",
       "\n",
       "    .dataframe tbody tr th {\n",
       "        vertical-align: top;\n",
       "    }\n",
       "\n",
       "    .dataframe thead th {\n",
       "        text-align: right;\n",
       "    }\n",
       "</style>\n",
       "<table border=\"1\" class=\"dataframe\">\n",
       "  <thead>\n",
       "    <tr style=\"text-align: right;\">\n",
       "      <th></th>\n",
       "      <th>MSSubClass</th>\n",
       "      <th>MSZoning</th>\n",
       "      <th>LotFrontage</th>\n",
       "      <th>LotArea</th>\n",
       "      <th>Street</th>\n",
       "      <th>Alley</th>\n",
       "      <th>LotShape</th>\n",
       "      <th>LandContour</th>\n",
       "      <th>Utilities</th>\n",
       "      <th>LotConfig</th>\n",
       "      <th>LandSlope</th>\n",
       "      <th>Neighborhood</th>\n",
       "      <th>Condition1</th>\n",
       "      <th>Condition2</th>\n",
       "      <th>BldgType</th>\n",
       "      <th>HouseStyle</th>\n",
       "      <th>OverallQual</th>\n",
       "      <th>OverallCond</th>\n",
       "      <th>YearBuilt</th>\n",
       "      <th>YearRemodAdd</th>\n",
       "      <th>RoofStyle</th>\n",
       "      <th>RoofMatl</th>\n",
       "      <th>Exterior1st</th>\n",
       "      <th>Exterior2nd</th>\n",
       "      <th>MasVnrType</th>\n",
       "      <th>MasVnrArea</th>\n",
       "      <th>ExterQual</th>\n",
       "      <th>ExterCond</th>\n",
       "      <th>Foundation</th>\n",
       "      <th>BsmtQual</th>\n",
       "      <th>BsmtCond</th>\n",
       "      <th>BsmtExposure</th>\n",
       "      <th>BsmtFinType1</th>\n",
       "      <th>BsmtFinSF1</th>\n",
       "      <th>BsmtFinType2</th>\n",
       "      <th>BsmtFinSF2</th>\n",
       "      <th>BsmtUnfSF</th>\n",
       "      <th>TotalBsmtSF</th>\n",
       "      <th>Heating</th>\n",
       "      <th>HeatingQC</th>\n",
       "      <th>CentralAir</th>\n",
       "      <th>Electrical</th>\n",
       "      <th>1stFlrSF</th>\n",
       "      <th>2ndFlrSF</th>\n",
       "      <th>LowQualFinSF</th>\n",
       "      <th>GrLivArea</th>\n",
       "      <th>BsmtFullBath</th>\n",
       "      <th>BsmtHalfBath</th>\n",
       "      <th>FullBath</th>\n",
       "      <th>HalfBath</th>\n",
       "      <th>BedroomAbvGr</th>\n",
       "      <th>KitchenAbvGr</th>\n",
       "      <th>KitchenQual</th>\n",
       "      <th>TotRmsAbvGrd</th>\n",
       "      <th>Functional</th>\n",
       "      <th>Fireplaces</th>\n",
       "      <th>FireplaceQu</th>\n",
       "      <th>GarageType</th>\n",
       "      <th>GarageYrBlt</th>\n",
       "      <th>GarageFinish</th>\n",
       "      <th>GarageCars</th>\n",
       "      <th>GarageArea</th>\n",
       "      <th>GarageQual</th>\n",
       "      <th>GarageCond</th>\n",
       "      <th>PavedDrive</th>\n",
       "      <th>WoodDeckSF</th>\n",
       "      <th>OpenPorchSF</th>\n",
       "      <th>EnclosedPorch</th>\n",
       "      <th>3SsnPorch</th>\n",
       "      <th>ScreenPorch</th>\n",
       "      <th>PoolArea</th>\n",
       "      <th>PoolQC</th>\n",
       "      <th>Fence</th>\n",
       "      <th>MiscFeature</th>\n",
       "      <th>MiscVal</th>\n",
       "      <th>MoSold</th>\n",
       "      <th>YrSold</th>\n",
       "      <th>SaleType</th>\n",
       "      <th>SaleCondition</th>\n",
       "    </tr>\n",
       "  </thead>\n",
       "  <tbody>\n",
       "    <tr>\n",
       "      <th>0</th>\n",
       "      <td>60</td>\n",
       "      <td>RL</td>\n",
       "      <td>65.000</td>\n",
       "      <td>8450</td>\n",
       "      <td>Pave</td>\n",
       "      <td>-999</td>\n",
       "      <td>Reg</td>\n",
       "      <td>Lvl</td>\n",
       "      <td>AllPub</td>\n",
       "      <td>Inside</td>\n",
       "      <td>Gtl</td>\n",
       "      <td>CollgCr</td>\n",
       "      <td>Norm</td>\n",
       "      <td>Norm</td>\n",
       "      <td>1Fam</td>\n",
       "      <td>2Story</td>\n",
       "      <td>7</td>\n",
       "      <td>5</td>\n",
       "      <td>2003</td>\n",
       "      <td>2003</td>\n",
       "      <td>Gable</td>\n",
       "      <td>CompShg</td>\n",
       "      <td>VinylSd</td>\n",
       "      <td>VinylSd</td>\n",
       "      <td>BrkFace</td>\n",
       "      <td>196.000</td>\n",
       "      <td>Gd</td>\n",
       "      <td>TA</td>\n",
       "      <td>PConc</td>\n",
       "      <td>Gd</td>\n",
       "      <td>TA</td>\n",
       "      <td>No</td>\n",
       "      <td>GLQ</td>\n",
       "      <td>706</td>\n",
       "      <td>Unf</td>\n",
       "      <td>0</td>\n",
       "      <td>150</td>\n",
       "      <td>856</td>\n",
       "      <td>GasA</td>\n",
       "      <td>Ex</td>\n",
       "      <td>Y</td>\n",
       "      <td>SBrkr</td>\n",
       "      <td>856</td>\n",
       "      <td>854</td>\n",
       "      <td>0</td>\n",
       "      <td>1710</td>\n",
       "      <td>1</td>\n",
       "      <td>0</td>\n",
       "      <td>2</td>\n",
       "      <td>1</td>\n",
       "      <td>3</td>\n",
       "      <td>1</td>\n",
       "      <td>Gd</td>\n",
       "      <td>8</td>\n",
       "      <td>Typ</td>\n",
       "      <td>0</td>\n",
       "      <td>-999</td>\n",
       "      <td>Attchd</td>\n",
       "      <td>2003.000</td>\n",
       "      <td>RFn</td>\n",
       "      <td>2</td>\n",
       "      <td>548</td>\n",
       "      <td>TA</td>\n",
       "      <td>TA</td>\n",
       "      <td>Y</td>\n",
       "      <td>0</td>\n",
       "      <td>61</td>\n",
       "      <td>0</td>\n",
       "      <td>0</td>\n",
       "      <td>0</td>\n",
       "      <td>0</td>\n",
       "      <td>-999</td>\n",
       "      <td>-999</td>\n",
       "      <td>-999</td>\n",
       "      <td>0</td>\n",
       "      <td>2</td>\n",
       "      <td>2008</td>\n",
       "      <td>WD</td>\n",
       "      <td>Normal</td>\n",
       "    </tr>\n",
       "    <tr>\n",
       "      <th>1</th>\n",
       "      <td>20</td>\n",
       "      <td>RL</td>\n",
       "      <td>80.000</td>\n",
       "      <td>9600</td>\n",
       "      <td>Pave</td>\n",
       "      <td>-999</td>\n",
       "      <td>Reg</td>\n",
       "      <td>Lvl</td>\n",
       "      <td>AllPub</td>\n",
       "      <td>FR2</td>\n",
       "      <td>Gtl</td>\n",
       "      <td>Veenker</td>\n",
       "      <td>Feedr</td>\n",
       "      <td>Norm</td>\n",
       "      <td>1Fam</td>\n",
       "      <td>1Story</td>\n",
       "      <td>6</td>\n",
       "      <td>8</td>\n",
       "      <td>1976</td>\n",
       "      <td>1976</td>\n",
       "      <td>Gable</td>\n",
       "      <td>CompShg</td>\n",
       "      <td>MetalSd</td>\n",
       "      <td>MetalSd</td>\n",
       "      <td>None</td>\n",
       "      <td>0.000</td>\n",
       "      <td>TA</td>\n",
       "      <td>TA</td>\n",
       "      <td>CBlock</td>\n",
       "      <td>Gd</td>\n",
       "      <td>TA</td>\n",
       "      <td>Gd</td>\n",
       "      <td>ALQ</td>\n",
       "      <td>978</td>\n",
       "      <td>Unf</td>\n",
       "      <td>0</td>\n",
       "      <td>284</td>\n",
       "      <td>1262</td>\n",
       "      <td>GasA</td>\n",
       "      <td>Ex</td>\n",
       "      <td>Y</td>\n",
       "      <td>SBrkr</td>\n",
       "      <td>1262</td>\n",
       "      <td>0</td>\n",
       "      <td>0</td>\n",
       "      <td>1262</td>\n",
       "      <td>0</td>\n",
       "      <td>1</td>\n",
       "      <td>2</td>\n",
       "      <td>0</td>\n",
       "      <td>3</td>\n",
       "      <td>1</td>\n",
       "      <td>TA</td>\n",
       "      <td>6</td>\n",
       "      <td>Typ</td>\n",
       "      <td>1</td>\n",
       "      <td>TA</td>\n",
       "      <td>Attchd</td>\n",
       "      <td>1976.000</td>\n",
       "      <td>RFn</td>\n",
       "      <td>2</td>\n",
       "      <td>460</td>\n",
       "      <td>TA</td>\n",
       "      <td>TA</td>\n",
       "      <td>Y</td>\n",
       "      <td>298</td>\n",
       "      <td>0</td>\n",
       "      <td>0</td>\n",
       "      <td>0</td>\n",
       "      <td>0</td>\n",
       "      <td>0</td>\n",
       "      <td>-999</td>\n",
       "      <td>-999</td>\n",
       "      <td>-999</td>\n",
       "      <td>0</td>\n",
       "      <td>5</td>\n",
       "      <td>2007</td>\n",
       "      <td>WD</td>\n",
       "      <td>Normal</td>\n",
       "    </tr>\n",
       "    <tr>\n",
       "      <th>2</th>\n",
       "      <td>60</td>\n",
       "      <td>RL</td>\n",
       "      <td>68.000</td>\n",
       "      <td>11250</td>\n",
       "      <td>Pave</td>\n",
       "      <td>-999</td>\n",
       "      <td>IR1</td>\n",
       "      <td>Lvl</td>\n",
       "      <td>AllPub</td>\n",
       "      <td>Inside</td>\n",
       "      <td>Gtl</td>\n",
       "      <td>CollgCr</td>\n",
       "      <td>Norm</td>\n",
       "      <td>Norm</td>\n",
       "      <td>1Fam</td>\n",
       "      <td>2Story</td>\n",
       "      <td>7</td>\n",
       "      <td>5</td>\n",
       "      <td>2001</td>\n",
       "      <td>2002</td>\n",
       "      <td>Gable</td>\n",
       "      <td>CompShg</td>\n",
       "      <td>VinylSd</td>\n",
       "      <td>VinylSd</td>\n",
       "      <td>BrkFace</td>\n",
       "      <td>162.000</td>\n",
       "      <td>Gd</td>\n",
       "      <td>TA</td>\n",
       "      <td>PConc</td>\n",
       "      <td>Gd</td>\n",
       "      <td>TA</td>\n",
       "      <td>Mn</td>\n",
       "      <td>GLQ</td>\n",
       "      <td>486</td>\n",
       "      <td>Unf</td>\n",
       "      <td>0</td>\n",
       "      <td>434</td>\n",
       "      <td>920</td>\n",
       "      <td>GasA</td>\n",
       "      <td>Ex</td>\n",
       "      <td>Y</td>\n",
       "      <td>SBrkr</td>\n",
       "      <td>920</td>\n",
       "      <td>866</td>\n",
       "      <td>0</td>\n",
       "      <td>1786</td>\n",
       "      <td>1</td>\n",
       "      <td>0</td>\n",
       "      <td>2</td>\n",
       "      <td>1</td>\n",
       "      <td>3</td>\n",
       "      <td>1</td>\n",
       "      <td>Gd</td>\n",
       "      <td>6</td>\n",
       "      <td>Typ</td>\n",
       "      <td>1</td>\n",
       "      <td>TA</td>\n",
       "      <td>Attchd</td>\n",
       "      <td>2001.000</td>\n",
       "      <td>RFn</td>\n",
       "      <td>2</td>\n",
       "      <td>608</td>\n",
       "      <td>TA</td>\n",
       "      <td>TA</td>\n",
       "      <td>Y</td>\n",
       "      <td>0</td>\n",
       "      <td>42</td>\n",
       "      <td>0</td>\n",
       "      <td>0</td>\n",
       "      <td>0</td>\n",
       "      <td>0</td>\n",
       "      <td>-999</td>\n",
       "      <td>-999</td>\n",
       "      <td>-999</td>\n",
       "      <td>0</td>\n",
       "      <td>9</td>\n",
       "      <td>2008</td>\n",
       "      <td>WD</td>\n",
       "      <td>Normal</td>\n",
       "    </tr>\n",
       "    <tr>\n",
       "      <th>3</th>\n",
       "      <td>70</td>\n",
       "      <td>RL</td>\n",
       "      <td>60.000</td>\n",
       "      <td>9550</td>\n",
       "      <td>Pave</td>\n",
       "      <td>-999</td>\n",
       "      <td>IR1</td>\n",
       "      <td>Lvl</td>\n",
       "      <td>AllPub</td>\n",
       "      <td>Corner</td>\n",
       "      <td>Gtl</td>\n",
       "      <td>Crawfor</td>\n",
       "      <td>Norm</td>\n",
       "      <td>Norm</td>\n",
       "      <td>1Fam</td>\n",
       "      <td>2Story</td>\n",
       "      <td>7</td>\n",
       "      <td>5</td>\n",
       "      <td>1915</td>\n",
       "      <td>1970</td>\n",
       "      <td>Gable</td>\n",
       "      <td>CompShg</td>\n",
       "      <td>Wd Sdng</td>\n",
       "      <td>Wd Shng</td>\n",
       "      <td>None</td>\n",
       "      <td>0.000</td>\n",
       "      <td>TA</td>\n",
       "      <td>TA</td>\n",
       "      <td>BrkTil</td>\n",
       "      <td>TA</td>\n",
       "      <td>Gd</td>\n",
       "      <td>No</td>\n",
       "      <td>ALQ</td>\n",
       "      <td>216</td>\n",
       "      <td>Unf</td>\n",
       "      <td>0</td>\n",
       "      <td>540</td>\n",
       "      <td>756</td>\n",
       "      <td>GasA</td>\n",
       "      <td>Gd</td>\n",
       "      <td>Y</td>\n",
       "      <td>SBrkr</td>\n",
       "      <td>961</td>\n",
       "      <td>756</td>\n",
       "      <td>0</td>\n",
       "      <td>1717</td>\n",
       "      <td>1</td>\n",
       "      <td>0</td>\n",
       "      <td>1</td>\n",
       "      <td>0</td>\n",
       "      <td>3</td>\n",
       "      <td>1</td>\n",
       "      <td>Gd</td>\n",
       "      <td>7</td>\n",
       "      <td>Typ</td>\n",
       "      <td>1</td>\n",
       "      <td>Gd</td>\n",
       "      <td>Detchd</td>\n",
       "      <td>1998.000</td>\n",
       "      <td>Unf</td>\n",
       "      <td>3</td>\n",
       "      <td>642</td>\n",
       "      <td>TA</td>\n",
       "      <td>TA</td>\n",
       "      <td>Y</td>\n",
       "      <td>0</td>\n",
       "      <td>35</td>\n",
       "      <td>272</td>\n",
       "      <td>0</td>\n",
       "      <td>0</td>\n",
       "      <td>0</td>\n",
       "      <td>-999</td>\n",
       "      <td>-999</td>\n",
       "      <td>-999</td>\n",
       "      <td>0</td>\n",
       "      <td>2</td>\n",
       "      <td>2006</td>\n",
       "      <td>WD</td>\n",
       "      <td>Abnorml</td>\n",
       "    </tr>\n",
       "    <tr>\n",
       "      <th>4</th>\n",
       "      <td>60</td>\n",
       "      <td>RL</td>\n",
       "      <td>84.000</td>\n",
       "      <td>14260</td>\n",
       "      <td>Pave</td>\n",
       "      <td>-999</td>\n",
       "      <td>IR1</td>\n",
       "      <td>Lvl</td>\n",
       "      <td>AllPub</td>\n",
       "      <td>FR2</td>\n",
       "      <td>Gtl</td>\n",
       "      <td>NoRidge</td>\n",
       "      <td>Norm</td>\n",
       "      <td>Norm</td>\n",
       "      <td>1Fam</td>\n",
       "      <td>2Story</td>\n",
       "      <td>8</td>\n",
       "      <td>5</td>\n",
       "      <td>2000</td>\n",
       "      <td>2000</td>\n",
       "      <td>Gable</td>\n",
       "      <td>CompShg</td>\n",
       "      <td>VinylSd</td>\n",
       "      <td>VinylSd</td>\n",
       "      <td>BrkFace</td>\n",
       "      <td>350.000</td>\n",
       "      <td>Gd</td>\n",
       "      <td>TA</td>\n",
       "      <td>PConc</td>\n",
       "      <td>Gd</td>\n",
       "      <td>TA</td>\n",
       "      <td>Av</td>\n",
       "      <td>GLQ</td>\n",
       "      <td>655</td>\n",
       "      <td>Unf</td>\n",
       "      <td>0</td>\n",
       "      <td>490</td>\n",
       "      <td>1145</td>\n",
       "      <td>GasA</td>\n",
       "      <td>Ex</td>\n",
       "      <td>Y</td>\n",
       "      <td>SBrkr</td>\n",
       "      <td>1145</td>\n",
       "      <td>1053</td>\n",
       "      <td>0</td>\n",
       "      <td>2198</td>\n",
       "      <td>1</td>\n",
       "      <td>0</td>\n",
       "      <td>2</td>\n",
       "      <td>1</td>\n",
       "      <td>4</td>\n",
       "      <td>1</td>\n",
       "      <td>Gd</td>\n",
       "      <td>9</td>\n",
       "      <td>Typ</td>\n",
       "      <td>1</td>\n",
       "      <td>TA</td>\n",
       "      <td>Attchd</td>\n",
       "      <td>2000.000</td>\n",
       "      <td>RFn</td>\n",
       "      <td>3</td>\n",
       "      <td>836</td>\n",
       "      <td>TA</td>\n",
       "      <td>TA</td>\n",
       "      <td>Y</td>\n",
       "      <td>192</td>\n",
       "      <td>84</td>\n",
       "      <td>0</td>\n",
       "      <td>0</td>\n",
       "      <td>0</td>\n",
       "      <td>0</td>\n",
       "      <td>-999</td>\n",
       "      <td>-999</td>\n",
       "      <td>-999</td>\n",
       "      <td>0</td>\n",
       "      <td>12</td>\n",
       "      <td>2008</td>\n",
       "      <td>WD</td>\n",
       "      <td>Normal</td>\n",
       "    </tr>\n",
       "  </tbody>\n",
       "</table>\n",
       "</div>"
      ],
      "text/plain": [
       "   MSSubClass MSZoning  LotFrontage  LotArea Street Alley LotShape  \\\n",
       "0          60       RL       65.000     8450   Pave  -999      Reg   \n",
       "1          20       RL       80.000     9600   Pave  -999      Reg   \n",
       "2          60       RL       68.000    11250   Pave  -999      IR1   \n",
       "3          70       RL       60.000     9550   Pave  -999      IR1   \n",
       "4          60       RL       84.000    14260   Pave  -999      IR1   \n",
       "\n",
       "  LandContour Utilities LotConfig LandSlope Neighborhood Condition1  \\\n",
       "0         Lvl    AllPub    Inside       Gtl      CollgCr       Norm   \n",
       "1         Lvl    AllPub       FR2       Gtl      Veenker      Feedr   \n",
       "2         Lvl    AllPub    Inside       Gtl      CollgCr       Norm   \n",
       "3         Lvl    AllPub    Corner       Gtl      Crawfor       Norm   \n",
       "4         Lvl    AllPub       FR2       Gtl      NoRidge       Norm   \n",
       "\n",
       "  Condition2 BldgType HouseStyle  OverallQual  OverallCond  YearBuilt  \\\n",
       "0       Norm     1Fam     2Story            7            5       2003   \n",
       "1       Norm     1Fam     1Story            6            8       1976   \n",
       "2       Norm     1Fam     2Story            7            5       2001   \n",
       "3       Norm     1Fam     2Story            7            5       1915   \n",
       "4       Norm     1Fam     2Story            8            5       2000   \n",
       "\n",
       "   YearRemodAdd RoofStyle RoofMatl Exterior1st Exterior2nd MasVnrType  \\\n",
       "0          2003     Gable  CompShg     VinylSd     VinylSd    BrkFace   \n",
       "1          1976     Gable  CompShg     MetalSd     MetalSd       None   \n",
       "2          2002     Gable  CompShg     VinylSd     VinylSd    BrkFace   \n",
       "3          1970     Gable  CompShg     Wd Sdng     Wd Shng       None   \n",
       "4          2000     Gable  CompShg     VinylSd     VinylSd    BrkFace   \n",
       "\n",
       "   MasVnrArea ExterQual ExterCond Foundation BsmtQual BsmtCond BsmtExposure  \\\n",
       "0     196.000        Gd        TA      PConc       Gd       TA           No   \n",
       "1       0.000        TA        TA     CBlock       Gd       TA           Gd   \n",
       "2     162.000        Gd        TA      PConc       Gd       TA           Mn   \n",
       "3       0.000        TA        TA     BrkTil       TA       Gd           No   \n",
       "4     350.000        Gd        TA      PConc       Gd       TA           Av   \n",
       "\n",
       "  BsmtFinType1  BsmtFinSF1 BsmtFinType2  BsmtFinSF2  BsmtUnfSF  TotalBsmtSF  \\\n",
       "0          GLQ         706          Unf           0        150          856   \n",
       "1          ALQ         978          Unf           0        284         1262   \n",
       "2          GLQ         486          Unf           0        434          920   \n",
       "3          ALQ         216          Unf           0        540          756   \n",
       "4          GLQ         655          Unf           0        490         1145   \n",
       "\n",
       "  Heating HeatingQC CentralAir Electrical  1stFlrSF  2ndFlrSF  LowQualFinSF  \\\n",
       "0    GasA        Ex          Y      SBrkr       856       854             0   \n",
       "1    GasA        Ex          Y      SBrkr      1262         0             0   \n",
       "2    GasA        Ex          Y      SBrkr       920       866             0   \n",
       "3    GasA        Gd          Y      SBrkr       961       756             0   \n",
       "4    GasA        Ex          Y      SBrkr      1145      1053             0   \n",
       "\n",
       "   GrLivArea  BsmtFullBath  BsmtHalfBath  FullBath  HalfBath  BedroomAbvGr  \\\n",
       "0       1710             1             0         2         1             3   \n",
       "1       1262             0             1         2         0             3   \n",
       "2       1786             1             0         2         1             3   \n",
       "3       1717             1             0         1         0             3   \n",
       "4       2198             1             0         2         1             4   \n",
       "\n",
       "   KitchenAbvGr KitchenQual  TotRmsAbvGrd Functional  Fireplaces FireplaceQu  \\\n",
       "0             1          Gd             8        Typ           0        -999   \n",
       "1             1          TA             6        Typ           1          TA   \n",
       "2             1          Gd             6        Typ           1          TA   \n",
       "3             1          Gd             7        Typ           1          Gd   \n",
       "4             1          Gd             9        Typ           1          TA   \n",
       "\n",
       "  GarageType  GarageYrBlt GarageFinish  GarageCars  GarageArea GarageQual  \\\n",
       "0     Attchd     2003.000          RFn           2         548         TA   \n",
       "1     Attchd     1976.000          RFn           2         460         TA   \n",
       "2     Attchd     2001.000          RFn           2         608         TA   \n",
       "3     Detchd     1998.000          Unf           3         642         TA   \n",
       "4     Attchd     2000.000          RFn           3         836         TA   \n",
       "\n",
       "  GarageCond PavedDrive  WoodDeckSF  OpenPorchSF  EnclosedPorch  3SsnPorch  \\\n",
       "0         TA          Y           0           61              0          0   \n",
       "1         TA          Y         298            0              0          0   \n",
       "2         TA          Y           0           42              0          0   \n",
       "3         TA          Y           0           35            272          0   \n",
       "4         TA          Y         192           84              0          0   \n",
       "\n",
       "   ScreenPorch  PoolArea PoolQC Fence MiscFeature  MiscVal  MoSold  YrSold  \\\n",
       "0            0         0   -999  -999        -999        0       2    2008   \n",
       "1            0         0   -999  -999        -999        0       5    2007   \n",
       "2            0         0   -999  -999        -999        0       9    2008   \n",
       "3            0         0   -999  -999        -999        0       2    2006   \n",
       "4            0         0   -999  -999        -999        0      12    2008   \n",
       "\n",
       "  SaleType SaleCondition  \n",
       "0       WD        Normal  \n",
       "1       WD        Normal  \n",
       "2       WD        Normal  \n",
       "3       WD       Abnorml  \n",
       "4       WD        Normal  "
      ]
     },
     "execution_count": 133,
     "metadata": {},
     "output_type": "execute_result"
    }
   ],
   "source": [
    "cat_raw.head()"
   ]
  },
  {
   "cell_type": "markdown",
   "metadata": {},
   "source": [
    "### Extreme Gradient Boosting"
   ]
  },
  {
   "cell_type": "markdown",
   "metadata": {},
   "source": [
    "#### Benchmark - Random Search"
   ]
  },
  {
   "cell_type": "code",
   "execution_count": null,
   "metadata": {
    "ExecuteTime": {
     "end_time": "2019-07-28T03:58:23.255790Z",
     "start_time": "2019-07-28T03:57:29.765Z"
    }
   },
   "outputs": [],
   "source": [
    "# Hyperparameters to tune\n",
    "params = {\n",
    "    'subsample': np.linspace(0.5, 0.9, 41),\n",
    "    'colsample_bytree': np.linspace(0.1, 0.2, 11),\n",
    "    'reg_lambda': np.linspace(0.5, 1, 51),\n",
    "    'reg_alpha': np.linspace(0, 0.5, 51),\n",
    "    'gamma': np.linspace(0, 0.1, 101),\n",
    "    'min_child_weight': np.linspace(0.5, 2, 151)\n",
    "}\n",
    "\n",
    "# Instantiate the regressor\n",
    "xgboo = xgb.XGBRegressor(\n",
    "    objective = 'reg:squarederror',\n",
    "    eval_metric = 'rmse',\n",
    "    verbosity=1,\n",
    "    n_estimators=2000,\n",
    "    learning_rate=0.05,\n",
    "    max_depth=3,\n",
    "    n_jobs=4\n",
    ")\n",
    "\n",
    "xgboo_cv = RandomizedSearchCV(estimator=xgboo, \n",
    "                              param_distributions=params, \n",
    "                              cv=3, verbose=1, n_iter=500,\n",
    "                              scoring='neg_mean_squared_error', \n",
    "                              n_jobs=4, random_state=1)\n",
    "  \n",
    "xgboo_cv.fit(X_train, y_train)"
   ]
  },
  {
   "cell_type": "code",
   "execution_count": null,
   "metadata": {
    "ExecuteTime": {
     "end_time": "2019-07-28T03:58:23.260023Z",
     "start_time": "2019-07-28T03:57:29.846Z"
    }
   },
   "outputs": [],
   "source": [
    "rmse(xgboo_cv)\n",
    "print('The best parameters found for RSCV: ', xgboo_cv.best_params_)"
   ]
  },
  {
   "cell_type": "code",
   "execution_count": null,
   "metadata": {
    "ExecuteTime": {
     "end_time": "2019-07-28T03:58:23.262511Z",
     "start_time": "2019-07-28T03:57:29.912Z"
    }
   },
   "outputs": [],
   "source": [
    "# XGB model using Randomized Search Hyperparameters\n",
    "xgboost_rm = xgb.XGBRegressor(subsample=0.59, gamma=0.007,\n",
    "                              colsample_bytree=0.1684, min_child_weight=1.8642,\n",
    "                              reg_alpha=0, reg_lambda=0.83,\n",
    "                              n_estimators=5000, objective='reg:squarederror',\n",
    "                              learning_rate=0.01, max_depth=3,\n",
    "                              random_state=1)\n",
    "\n",
    "cv_xgb_rm = cross_val_score(\n",
    "    estimator=xgboost_rm, X=X_train, y=y_train, cv=5, scoring='neg_mean_squared_error')\n",
    "\n",
    "xgboost_rm.fit(X_train, y_train)"
   ]
  },
  {
   "cell_type": "code",
   "execution_count": 136,
   "metadata": {
    "ExecuteTime": {
     "end_time": "2019-07-28T02:25:27.717925Z",
     "start_time": "2019-07-28T02:25:27.670635Z"
    }
   },
   "outputs": [
    {
     "name": "stdout",
     "output_type": "stream",
     "text": [
      "The lowest RMSE found: 0.11081461057954749\n"
     ]
    }
   ],
   "source": [
    "cvsrmse(cv_xgb_rm)"
   ]
  },
  {
   "cell_type": "markdown",
   "metadata": {},
   "source": [
    "#### Bayesian Optimization"
   ]
  },
  {
   "cell_type": "code",
   "execution_count": null,
   "metadata": {},
   "outputs": [],
   "source": [
    "from sklearn.model_selection import cross_val_score\n",
    "from hyperopt import fmin, tpe, hp, STATUS_OK, Trials\n",
    "from hpsklearn import \n",
    "from time import time\n",
    "\n",
    "def hyperopt(param_space, X_train, y_train, X_test, num_eval):\n",
    "    \n",
    "    start = time.time()\n",
    "    \n",
    "    def objective_function(params):\n",
    "        cbr = cbr.CatBoostRegressor(**params)\n",
    "        cbr.cv = cross_val_score(estimator=clf, X=X_train, y=y_train, cv=3, scoring='neg_mean_squared_error')\n",
    "        return {'loss': cbr.cv, 'status': STATUS_OK}\n",
    "\n",
    "    trials = Trials()\n",
    "    best_param = fmin(objective_function, \n",
    "                      param_space, \n",
    "                      algo=tpe.suggest, \n",
    "                      max_evals=num_eval, \n",
    "                      trials=trials,\n",
    "                      rstate= np.random.RandomState(1))\n",
    "    loss = [x['result']['loss'] for x in trials.trials]\n",
    "    \n",
    "    best_param_values = [x for x in best_param.values()]\n",
    "    \n",
    "#     if best_param_values[0] == 0:\n",
    "#         boosting_type = 'gbdt'\n",
    "#     else:\n",
    "#         boosting_type= 'dart'\n",
    "    \n",
    "#     clf_best = cbr.CatBoostRegressor(learning_rate=best_param_values[2],\n",
    "#                                   num_leaves=int(best_param_values[5]),\n",
    "#                                   max_depth=int(best_param_values[3]),\n",
    "#                                   n_estimators=int(best_param_values[4]),\n",
    "#                                   boosting_type=gbdt,\n",
    "#                                   colsample_bytree=best_param_values[1],\n",
    "#                                   reg_lambda=best_param_values[6],\n",
    "#                                  )\n",
    "                                  \n",
    "#     clf_best.fit(X_train, y_train)\n",
    "    \n",
    "    print(\"\")\n",
    "    print(\"##### Results\")\n",
    "    print(\"Score best parameters: \", min(loss)*-1)\n",
    "    print(\"Best parameters: \", best_param)\n",
    "#     print(\"Test Score: \", clf_best.score(X_test, y_test))\n",
    "    print(\"Time elapsed: \", time.time() - start)\n",
    "    print(\"Parameter combinations evaluated: \", num_eval)\n",
    "    \n",
    "    return trials"
   ]
  },
  {
   "cell_type": "code",
   "execution_count": null,
   "metadata": {},
   "outputs": [],
   "source": [
    "bds =  [\n",
    "    {'name': 'subsample', 'type': 'continuous', 'domain': (0.6, 0.9)},\n",
    "    {'name': 'gamma', 'type': 'continuous', 'domain': (0, 0.1)},\n",
    "    {'name': 'colsample_bytree', 'type': 'continuous', 'domain': (0, 0.5)},\n",
    "    {'name': 'max_depth', 'type': 'discrete', 'domain': (3, 5)},\n",
    "    {'name': 'min_child_weight', 'type': 'continuous', 'domain': (1, 2)},\n",
    "    {'name': 'reg_alpha', 'type': 'continuous', 'domain': (0, 0.5)},\n",
    "    {'name': 'reg_lambda', 'type': 'continuous', 'domain': (0.5, 1)}\n",
    "]\n",
    "\n",
    "param_hyperopt= {\n",
    "    'learning_rate': hp.loguniform('learning_rate', np.log(0.01), np.log(1)),\n",
    "    'max_depth': scope.int(hp.quniform('max_depth', 5, 15, 1)),\n",
    "    'n_estimators': scope.int(hp.quniform('n_estimators', 5, 35, 1)),\n",
    "    'num_leaves': scope.int(hp.quniform('num_leaves', 5, 50, 1)),\n",
    "    'boosting_type': hp.choice('boosting_type', ['gbdt', 'dart']),\n",
    "    'colsample_bytree': hp.uniform('colsample_by_tree', 0.6, 1.0),\n",
    "    'reg_lambda': hp.uniform('reg_lambda', 0.0, 1.0),\n",
    "}\n"
   ]
  },
  {
   "cell_type": "code",
   "execution_count": 96,
   "metadata": {
    "ExecuteTime": {
     "end_time": "2019-07-28T20:53:10.241829Z",
     "start_time": "2019-07-28T20:50:57.170636Z"
    }
   },
   "outputs": [],
   "source": [
    "# Hyperparameters to tune\n",
    "bds =  [\n",
    "    {'name': 'subsample', 'type': 'continuous', 'domain': (0.6, 0.9)},\n",
    "    {'name': 'gamma', 'type': 'continuous', 'domain': (0, 0.1)},\n",
    "    {'name': 'colsample_bytree', 'type': 'continuous', 'domain': (0, 0.5)},\n",
    "    {'name': 'max_depth', 'type': 'discrete', 'domain': (3, 5)},\n",
    "    {'name': 'min_child_weight', 'type': 'continuous', 'domain': (1, 2)},\n",
    "    {'name': 'reg_alpha', 'type': 'continuous', 'domain': (0, 0.5)},\n",
    "    {'name': 'reg_lambda', 'type': 'continuous', 'domain': (0.5, 1)}\n",
    "]\n",
    "\n",
    "# Optimization objective function\n",
    "def cv_score(parameters):\n",
    "    parameters = parameters[0]\n",
    "    score = cross_val_score(\n",
    "                xgb.XGBRegressor(subsample=parameters[0],\n",
    "                                 gamma=parameters[1],\n",
    "                                 colsample_bytree=parameters[2],\n",
    "                                 max_depth=int(parameters[3]),\n",
    "                                 min_child_weight=parameters[4],\n",
    "                                 reg_alpha=parameters[5],\n",
    "                                 reg_lambda=parameters[6],\n",
    "                                 n_estimators=3000,  \n",
    "                                 learning_rate=0.02,\n",
    "                                 n_jobs=6,\n",
    "                                 objective='reg:squarederror'\n",
    "                                 ), \n",
    "                X_train, y_train, scoring='neg_mean_squared_error').mean()\n",
    "    score = np.array(score)\n",
    "    return score\n",
    "\n",
    "# Maximize negative MSE\n",
    "optimizer = BayesianOptimization(cv_score, \n",
    "                                 domain=bds,\n",
    "                                 acquisition_jitter=0.1,\n",
    "                                 num_cores=2,\n",
    "                                 maximize=True)\n",
    "\n",
    "optimizer.run_optimization(max_iter=2)"
   ]
  },
  {
   "cell_type": "code",
   "execution_count": 98,
   "metadata": {
    "ExecuteTime": {
     "end_time": "2019-07-28T20:56:51.991108Z",
     "start_time": "2019-07-28T20:56:51.955000Z"
    }
   },
   "outputs": [
    {
     "name": "stdout",
     "output_type": "stream",
     "text": [
      "The lowest RMSE found: 0.11566208763148841\n"
     ]
    }
   ],
   "source": [
    "y_bo = np.maximum.accumulate(-optimizer.Y).ravel()\n",
    "print('The lowest RMSE found: {}'.format(np.sqrt(-y_bo)[-1]))"
   ]
  },
  {
   "cell_type": "code",
   "execution_count": 99,
   "metadata": {
    "ExecuteTime": {
     "end_time": "2019-07-28T20:56:54.614590Z",
     "start_time": "2019-07-28T20:56:54.154338Z"
    }
   },
   "outputs": [
    {
     "data": {
      "image/png": "[encoded data removed]",
      "text/plain": [
       "<Figure size 720x360 with 2 Axes>"
      ]
     },
     "metadata": {
      "needs_background": "light"
     },
     "output_type": "display_data"
    }
   ],
   "source": [
    "optimizer.plot_convergence()"
   ]
  },
  {
   "cell_type": "code",
   "execution_count": 102,
   "metadata": {
    "ExecuteTime": {
     "end_time": "2019-07-28T20:58:42.975589Z",
     "start_time": "2019-07-28T20:58:42.936799Z"
    }
   },
   "outputs": [],
   "source": [
    "x_best = optimizer.X[np.argmin(optimizer.Y)]\n",
    "best_params = dict(zip([param['name'] for param in bds], x_best))\n",
    "\n"
   ]
  },
  {
   "cell_type": "code",
   "execution_count": 103,
   "metadata": {
    "ExecuteTime": {
     "end_time": "2019-07-28T20:58:57.624286Z",
     "start_time": "2019-07-28T20:58:57.578918Z"
    }
   },
   "outputs": [
    {
     "data": {
      "text/plain": [
       "{'subsample': 0.8000300146337003,\n",
       " 'gamma': 0.03637107709426226,\n",
       " 'colsample_bytree': 0.10443837804741735,\n",
       " 'max_depth': 3.0,\n",
       " 'min_child_weight': 1.2444255920016027,\n",
       " 'reg_alpha': 0.09829118084002675,\n",
       " 'reg_lambda': 0.5480492039469815}"
      ]
     },
     "execution_count": 103,
     "metadata": {},
     "output_type": "execute_result"
    }
   ],
   "source": [
    "dict(zip([param['name'] for param in bds], x_best))"
   ]
  },
  {
   "cell_type": "code",
   "execution_count": 67,
   "metadata": {
    "ExecuteTime": {
     "end_time": "2019-07-27T13:03:58.134444Z",
     "start_time": "2019-07-27T13:02:32.332930Z"
    }
   },
   "outputs": [
    {
     "data": {
      "text/plain": [
       "XGBRegressor(base_score=0.5, booster='gbtree', colsample_bylevel=1,\n",
       "             colsample_bynode=1, colsample_bytree=0.1684, gamma=0,\n",
       "             importance_type='gain', learning_rate=0.04, max_delta_step=0,\n",
       "             max_depth=3, min_child_weight=1.8642, missing=None,\n",
       "             n_estimators=2500, n_jobs=1, nthread=None,\n",
       "             objective='reg:squarederror', random_state=1, reg_alpha=0,\n",
       "             reg_lambda=0.5162, scale_pos_weight=1, seed=None, silent=None,\n",
       "             subsample=0.8, verbosity=1)"
      ]
     },
     "execution_count": 67,
     "metadata": {},
     "output_type": "execute_result"
    }
   ],
   "source": [
    "# XGB model using Bayesian Optimization Hyperparameters\n",
    "xgboost = xgb.XGBRegressor(subsample=0.8, gamma=0,\n",
    "                           colsample_bytree=0.1684, min_child_weight=1.8642,\n",
    "                           reg_alpha=0, reg_lambda=0.5162,\n",
    "                           n_estimators=2500, objective='reg:squarederror',\n",
    "                           learning_rate=0.04, max_depth=3,\n",
    "                           random_state=1)\n",
    "\n",
    "cv_xgb = cross_val_score(\n",
    "    estimator=xgboost, X=X_train, y=y_train, cv=5, scoring='neg_mean_squared_error')\n",
    "\n",
    "xgboost.fit(X_train, y_train)"
   ]
  },
  {
   "cell_type": "code",
   "execution_count": 68,
   "metadata": {
    "ExecuteTime": {
     "end_time": "2019-07-27T13:03:58.184977Z",
     "start_time": "2019-07-27T13:03:58.136555Z"
    }
   },
   "outputs": [
    {
     "name": "stdout",
     "output_type": "stream",
     "text": [
      "The lowest RMSE found: 0.11380023976233174\n"
     ]
    }
   ],
   "source": [
    "cvsrmse(cv_xgb)"
   ]
  },
  {
   "cell_type": "markdown",
   "metadata": {},
   "source": [
    "## Stacked Models"
   ]
  },
  {
   "cell_type": "code",
   "execution_count": 69,
   "metadata": {
    "ExecuteTime": {
     "end_time": "2019-07-27T13:08:04.255412Z",
     "start_time": "2019-07-27T13:03:58.187228Z"
    }
   },
   "outputs": [
    {
     "name": "stdout",
     "output_type": "stream",
     "text": [
      "Fitting 5 folds for each of 20 candidates, totalling 100 fits\n"
     ]
    },
    {
     "name": "stderr",
     "output_type": "stream",
     "text": [
      "[Parallel(n_jobs=-1)]: Using backend LokyBackend with 8 concurrent workers.\n",
      "[Parallel(n_jobs=-1)]: Done  34 tasks      | elapsed:  1.6min\n",
      "[Parallel(n_jobs=-1)]: Done 100 out of 100 | elapsed:  3.9min finished\n"
     ]
    },
    {
     "data": {
      "text/plain": [
       "RandomizedSearchCV(cv=5, error_score='raise-deprecating',\n",
       "                   estimator=StackingRegressor(meta_regressor=Lasso(alpha=1.0,\n",
       "                                                                    copy_X=True,\n",
       "                                                                    fit_intercept=True,\n",
       "                                                                    max_iter=1000,\n",
       "                                                                    normalize=False,\n",
       "                                                                    positive=False,\n",
       "                                                                    precompute=False,\n",
       "                                                                    random_state=None,\n",
       "                                                                    selection='cyclic',\n",
       "                                                                    tol=0.0001,\n",
       "                                                                    warm_start=False),\n",
       "                                               refit=True,\n",
       "                                               regressors=[ElasticNet(alpha=0.0004570881896148752,\n",
       "                                                                      copy_X=True,\n",
       "                                                                      fi...\n",
       "       4.78630092e-04, 5.01187234e-04, 5.24807460e-04, 5.49540874e-04,\n",
       "       5.75439937e-04, 6.02559586e-04, 6.30957344e-04, 6.60693448e-04,\n",
       "       6.91830971e-04, 7.24435960e-04, 7.58577575e-04, 7.94328235e-04,\n",
       "       8.31763771e-04, 8.70963590e-04, 9.12010839e-04, 9.54992586e-04,\n",
       "       1.00000000e-03])},\n",
       "                   pre_dispatch='2*n_jobs', random_state=None, refit=True,\n",
       "                   return_train_score=False, scoring='neg_mean_squared_error',\n",
       "                   verbose=1)"
      ]
     },
     "execution_count": 69,
     "metadata": {},
     "output_type": "execute_result"
    }
   ],
   "source": [
    "# Define base models and meta model\n",
    "regressors = [e_net_base, gbr_base, krr_base]\n",
    "lasso_meta = Lasso()\n",
    "\n",
    "# Stacked model with xgb as meta model\n",
    "stacked_regr = StackingRegressor(regressors=regressors,\n",
    "                                 meta_regressor=lasso_meta,\n",
    "                                 use_features_in_secondary=True)\n",
    "\n",
    "# Hyperparameters to tune\n",
    "params = {'meta_regressor__alpha': np.logspace(-5, -3, 101)}\n",
    "\n",
    "stacked_cv = RandomizedSearchCV(estimator=stacked_regr, \n",
    "                                param_distributions=params,\n",
    "                                cv=5, verbose=1, n_iter=20,\n",
    "                                scoring='neg_mean_squared_error', \n",
    "                                n_jobs=-1)\n",
    "\n",
    "stacked_cv.fit(X_train, y_train)"
   ]
  },
  {
   "cell_type": "code",
   "execution_count": 70,
   "metadata": {
    "ExecuteTime": {
     "end_time": "2019-07-27T13:08:04.316534Z",
     "start_time": "2019-07-27T13:08:04.257811Z"
    }
   },
   "outputs": [
    {
     "name": "stdout",
     "output_type": "stream",
     "text": [
      "The lowest RMSE found: 0.1095371461128822\n",
      "The best parameters found:  {'meta_regressor__alpha': 0.0006606934480075965}\n"
     ]
    }
   ],
   "source": [
    "rmse(stacked_cv)\n",
    "print('The best parameters found: ', stacked_cv.best_params_)"
   ]
  },
  {
   "cell_type": "markdown",
   "metadata": {},
   "source": [
    "## Ensembling Estimates"
   ]
  },
  {
   "cell_type": "code",
   "execution_count": 149,
   "metadata": {
    "ExecuteTime": {
     "end_time": "2019-07-28T03:33:26.199289Z",
     "start_time": "2019-07-28T03:33:26.156684Z"
    }
   },
   "outputs": [],
   "source": [
    "def get_pred(fitted_model):\n",
    "    '''\n",
    "    Get predicted house price as a series.\n",
    "    '''\n",
    "    log_pred = fitted_model.predict(X_test)\n",
    "    y_pred = np.expm1(log_pred)\n",
    "    return y_pred\n",
    "\n",
    "\n",
    "def prediction(fitted_model, model_name):\n",
    "    '''\n",
    "    Return rmse for prediction on the training data.\n",
    "    '''\n",
    "    pred = fitted_model.predict(X_train)\n",
    "    rmse = np.sqrt(mean_squared_error(y_train, pred))\n",
    "    print('The rmse for {} on the training set is {:.4f}.'.format(model_name, rmse))\n",
    "\n",
    "\n",
    "def ensemble_price(price1, price2, prop_price1):\n",
    "    '''\n",
    "    Get ensemble price for prediction.\n",
    "    price1: predicted sales price for first model as a Series\n",
    "    price2: predicted sales price for second model as a Series\n",
    "    prop_price1: proportion of first model\n",
    "    '''\n",
    "    return price1*prop_price1 + price2*(1-prop_price1)\n",
    "\n",
    "\n",
    "def sub(price, filename):\n",
    "    \"\"\"\n",
    "    Create submission file for Kaggle.\n",
    "    price: predicted sales price as a Series\n",
    "    filename: filename as a quotted string\n",
    "    \"\"\"\n",
    "    sub = pd.DataFrame()\n",
    "    sub['Id'] = test_ID\n",
    "    sub['SalePrice'] = price\n",
    "    sub.to_csv(filename, index=False)"
   ]
  },
  {
   "cell_type": "code",
   "execution_count": 150,
   "metadata": {
    "ExecuteTime": {
     "end_time": "2019-07-28T03:33:29.197630Z",
     "start_time": "2019-07-28T03:33:28.159967Z"
    }
   },
   "outputs": [
    {
     "name": "stdout",
     "output_type": "stream",
     "text": [
      "The rmse for Stack Model on the training set is 0.0667.\n",
      "The rmse for XGBoost Model using Bayesian Optimization on the training set is 0.0259.\n",
      "The rmse for XGboost Model using Ramdomized Search on the training set is 0.0487.\n"
     ]
    }
   ],
   "source": [
    "# Get stacked model prices\n",
    "stacked_price = get_pred(stacked_cv)\n",
    "xgb_price = get_pred(xgboost)\n",
    "xgb_rm_price = get_pred(xgboost_rm)\n",
    "\n",
    "# Get rmse for models\n",
    "prediction(stacked_cv, 'Stack Model')\n",
    "prediction(xgboost, 'XGBoost Model using Bayesian Optimization')\n",
    "prediction(xgboost_rm, 'XGboost Model using Ramdomized Search')"
   ]
  },
  {
   "cell_type": "code",
   "execution_count": 151,
   "metadata": {
    "ExecuteTime": {
     "end_time": "2019-07-28T03:51:10.183435Z",
     "start_time": "2019-07-28T03:51:10.079352Z"
    }
   },
   "outputs": [],
   "source": [
    "# Get ensemble price\n",
    "price50 = ensemble_price(stacked_price, xgb_rm_price, 50)\n",
    "price55 = ensemble_price(stacked_price, xgb_rm_price, 55)\n",
    "price60 = ensemble_price(stacked_price, xgb_rm_price, 60)\n",
    "price65 = ensemble_price(stacked_price, xgb_rm_price, 65)\n",
    "price70 = ensemble_price(stacked_price, xgb_rm_price, 70)\n",
    "price75 = ensemble_price(stacked_price, xgb_rm_price, 75)\n",
    "\n",
    "# Get submissions\n",
    "sub(price50, '50stacked_xgb_rm')\n",
    "sub(price55, '55stacked_xgb_rm')\n",
    "sub(price60, '60stacked_xgb_rm')\n",
    "sub(price65, '65stacked_xgb_rm')\n",
    "sub(price70, '70stacked_xgb_rm')\n",
    "sub(price75, '75stacked_xgb_rm')"
   ]
  }
 ],
 "metadata": {
  "hide_input": false,
  "kernelspec": {
   "display_name": "Python 3",
   "language": "python",
   "name": "python3"
  },
  "language_info": {
   "codemirror_mode": {
    "name": "ipython",
    "version": 3
   },
   "file_extension": ".py",
   "mimetype": "text/x-python",
   "name": "python",
   "nbconvert_exporter": "python",
   "pygments_lexer": "ipython3",
   "version": "3.8.5"
  },
  "toc": {
   "base_numbering": 1,
   "nav_menu": {},
   "number_sections": true,
   "sideBar": true,
   "skip_h1_title": false,
   "title_cell": "Table of Contents",
   "title_sidebar": "Contents",
   "toc_cell": false,
   "toc_position": {},
   "toc_section_display": true,
   "toc_window_display": false
  },
  "varInspector": {
   "cols": {
    "lenName": 16,
    "lenType": 16,
    "lenVar": 40
   },
   "kernels_config": {
    "python": {
     "delete_cmd_postfix": "",
     "delete_cmd_prefix": "del ",
     "library": "var_list.py",
     "varRefreshCmd": "print(var_dic_list())"
    },
    "r": {
     "delete_cmd_postfix": ") ",
     "delete_cmd_prefix": "rm(",
     "library": "var_list.r",
     "varRefreshCmd": "cat(var_dic_list()) "
    }
   },
   "types_to_exclude": [
    "module",
    "function",
    "builtin_function_or_method",
    "instance",
    "_Feature"
   ],
   "window_display": false
  }
 },
 "nbformat": 4,
 "nbformat_minor": 2
}
